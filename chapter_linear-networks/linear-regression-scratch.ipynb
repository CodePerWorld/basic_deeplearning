{
 "cells": [
  {
   "cell_type": "markdown",
   "id": "fa8400a8",
   "metadata": {
    "origin_pos": 0
   },
   "source": [
    "# 线性回归的从零开始实现\n",
    ":label:`sec_linear_scratch`\n",
    "\n",
    "在了解线性回归的关键思想之后，我们可以开始通过代码来动手实现线性回归了。\n",
    "在这一节中，(**我们将从零开始实现整个方法，\n",
    "包括数据流水线、模型、损失函数和小批量随机梯度下降优化器**)。\n",
    "虽然现代的深度学习框架几乎可以自动化地进行所有这些工作，但从零开始实现可以确保我们真正知道自己在做什么。\n",
    "同时，了解更细致的工作原理将方便我们自定义模型、自定义层或自定义损失函数。\n",
    "在这一节中，我们将只使用张量和自动求导。\n",
    "在之后的章节中，我们会充分利用深度学习框架的优势，介绍更简洁的实现方式。\n"
   ]
  },
  {
   "cell_type": "code",
   "execution_count": 10,
   "id": "2f4ceb63",
   "metadata": {
    "ExecuteTime": {
     "end_time": "2023-08-06T03:52:41.525732200Z",
     "start_time": "2023-08-06T03:52:41.520496600Z"
    }
   },
   "outputs": [
    {
     "ename": "SyntaxError",
     "evalue": "invalid syntax (1198915387.py, line 71)",
     "output_type": "error",
     "traceback": [
      "\u001B[1;36m  Cell \u001B[1;32mIn[10], line 71\u001B[1;36m\u001B[0m\n\u001B[1;33m    for param in params\u001B[0m\n\u001B[1;37m                       ^\u001B[0m\n\u001B[1;31mSyntaxError\u001B[0m\u001B[1;31m:\u001B[0m invalid syntax\n"
     ]
    }
   ],
   "source": [
    "%matplotlib inline\n",
    "import random\n",
    "import torch\n",
    "from d2l import torch as d2l\n",
    "d2l.load_array()\n",
    "d2l.synthetic_data()\n",
    "def synthetic_data(w, b, num_examples):\n",
    "    \"\"\"生成 y = Xw + b + 噪声。\"\"\"\n",
    "    X = torch.normal(0 ,1, (num_examples, len(w)))\n",
    "    y = torch.matmul(X, w) + b  #注意，这里的matmul函数必须要保证两个参数的数据类型是一致的，要么都是整型，要么都是浮点型\n",
    "    y += torch.normal(0, 0.01, y.shape)\n",
    "    return X, y.reshape(-1,1)      #这里为什么要转换，是因为y本来是一维向量，但是通过reshape了之后就变成了二维向量了，不过是只有一个列的二维向量\n",
    "\n",
    "true_w = torch.tensor([2, -3.4])\n",
    "# a = torch.tensor([[2,3],\n",
    "#                   [3,4]])\n",
    "# b = torch.tensor([1.1,2])\n",
    "# c = torch.matmul(a,b)\n",
    "# print(c)\n",
    "true_b = 4.2\n",
    "features, labels = synthetic_data(true_w, true_b, 1000)\n",
    "\n",
    "print('features:', features[0], '\\nlabel:', labels[0])\n",
    "\n",
    "d2l.set_figsize()\n",
    "d2l.plt.scatter(features[:,1].detach().numpy(),labels.detach().numpy(), 1)\n",
    "d2l.plt.show()\n",
    "\n",
    "def data_iter(batch_size, features, labels):\n",
    "    num_examples = len(features)\n",
    "    indices = list(range(num_examples))\n",
    "    # 这些样本是随机读取的，没有特定的顺序\n",
    "    random.shuffle(indices)\n",
    "    for i in range(0, num_examples, batch_size):\n",
    "        batch_indices = torch.tensor(indices[i:min(i + batch_size, num_examples)])\n",
    "        yield features[batch_indices], labels[batch_indices]\n",
    "\n",
    "batch_size = 10\n",
    "\n",
    "# for X,y in data_iter(batch_size, features, labels):\n",
    "#     print(X, '\\n', y)\n",
    "#     break\n",
    "\n",
    "\n",
    "\n",
    "w = torch.normal(0, 0.01, size=(2,1), requires_grad=True)\n",
    "b = torch.zeros(1, requires_grad=True)\n",
    "\n",
    "def linreg(X, w, b):\n",
    "    \"\"\"线性回归模型\"\"\"\n",
    "    return torch.matmul(X, w) + b\n",
    "\n",
    "def squared_loss(y_hat, y):\n",
    "    \"\"\"均方损失\"\"\"\n",
    "    return (y_hat - y.reshape(y_hat.shape)) **2 / 2\n",
    "\n",
    "def sgd(params, lr, batch_size):\n",
    "    \"\"\"小批量梯度下降\"\"\"\n",
    "    with torch.no_grad():\n",
    "        for param in params:\n",
    "            param -= lr * param.grad / batch_size\n",
    "            param.grad.zero_()\n",
    "def sgd(params, lr, batch_size):\n",
    "    with torch.no_grad():\n",
    "        for param in params:\n",
    "            param -= lr* param.grad/batch_size\n",
    "            param.grad.zero_()\n",
    "\n",
    "\n",
    "lr = 0.03\n",
    "num_epochs = 3\n",
    "net = linreg\n",
    "loss = squared_loss\n",
    "\n",
    "for epoch in range(num_epochs):\n",
    "    for X, y in data_iter(batch_size, features, labels):\n",
    "        l = loss(net(X, w, b), y)\n",
    "        l.sum().backward()\n",
    "        sgd([w, b], lr, batch_size)\n",
    "    with torch.no_grad():\n",
    "        train_l = loss(net(features, w, b), labels)\n",
    "        print(f'epoch{epoch + 1}, loss {float(train_l.mean()):f}')\n",
    "\n",
    "print(f'w的估计误差: {true_w - w.reshape(true_w.shape)}')\n",
    "print(f'b的估计误差:{true_b - b}')\n"
   ]
  },
  {
   "cell_type": "code",
   "execution_count": 2,
   "id": "efd8bc0e",
   "metadata": {
    "ExecuteTime": {
     "end_time": "2023-08-06T03:32:50.629240800Z",
     "start_time": "2023-08-06T03:32:50.619716400Z"
    }
   },
   "outputs": [],
   "source": [
    "\n",
    "%matplotlib inline\n",
    "import random\n",
    "import torch\n",
    "from d2l import torch as d2l"
   ]
  },
  {
   "cell_type": "markdown",
   "id": "9737c61d",
   "metadata": {
    "origin_pos": 5
   },
   "source": [
    "## 生成数据集\n",
    "\n",
    "为了简单起见，我们将[**根据带有噪声的线性模型构造一个人造数据集。**]\n",
    "我们的任务是使用这个有限样本的数据集来恢复这个模型的参数。\n",
    "我们将使用低维数据，这样可以很容易地将其可视化。\n",
    "在下面的代码中，我们生成一个包含1000个样本的数据集，\n",
    "每个样本包含从标准正态分布中采样的2个特征。\n",
    "我们的合成数据集是一个矩阵$\\mathbf{X}\\in \\mathbb{R}^{1000 \\times 2}$。\n",
    "\n",
    "(**我们使用线性模型参数$\\mathbf{w} = [2, -3.4]^\\top$、$b = 4.2$\n",
    "和噪声项$\\epsilon$生成数据集及其标签：\n",
    "\n",
    "$$\\mathbf{y}= \\mathbf{X} \\mathbf{w} + b + \\mathbf\\epsilon.$$\n",
    "**)\n",
    "\n",
    "$\\epsilon$可以视为模型预测和标签时的潜在观测误差。\n",
    "在这里我们认为标准假设成立，即$\\epsilon$服从均值为0的正态分布。\n",
    "为了简化问题，我们将标准差设为0.01。\n",
    "下面的代码生成合成数据集。\n"
   ]
  },
  {
   "cell_type": "code",
   "execution_count": 3,
   "id": "a12aa0dc",
   "metadata": {
    "execution": {
     "iopub.execute_input": "2022-12-07T16:43:06.314470Z",
     "iopub.status.busy": "2022-12-07T16:43:06.313919Z",
     "iopub.status.idle": "2022-12-07T16:43:06.319119Z",
     "shell.execute_reply": "2022-12-07T16:43:06.318364Z"
    },
    "origin_pos": 6,
    "tab": [
     "pytorch"
    ],
    "ExecuteTime": {
     "end_time": "2023-08-06T03:32:52.625077400Z",
     "start_time": "2023-08-06T03:32:52.617075100Z"
    }
   },
   "outputs": [],
   "source": [
    "def synthetic_data(w, b, num_examples):  #@save\n",
    "    \"\"\"生成y=Xw+b+噪声\"\"\"\n",
    "    X = torch.normal(0, 1, (num_examples, len(w)))\n",
    "    y = torch.matmul(X, w) + b\n",
    "    y += torch.normal(0, 0.01, y.shape)\n",
    "    return X, y.reshape((-1, 1))"
   ]
  },
  {
   "cell_type": "code",
   "execution_count": 5,
   "id": "c825e9f2",
   "metadata": {
    "execution": {
     "iopub.execute_input": "2022-12-07T16:43:06.322894Z",
     "iopub.status.busy": "2022-12-07T16:43:06.322362Z",
     "iopub.status.idle": "2022-12-07T16:43:06.346342Z",
     "shell.execute_reply": "2022-12-07T16:43:06.345545Z"
    },
    "origin_pos": 8,
    "tab": [
     "pytorch"
    ],
    "ExecuteTime": {
     "end_time": "2023-08-06T03:33:05.166501200Z",
     "start_time": "2023-08-06T03:33:05.157499800Z"
    }
   },
   "outputs": [
    {
     "name": "stdout",
     "output_type": "stream",
     "text": [
      "torch.Size([1000, 1])\n"
     ]
    }
   ],
   "source": [
    "true_w = torch.tensor([2, -3.4])\n",
    "true_b = 4.2\n",
    "features, labels = synthetic_data(true_w, true_b, 1000)"
   ]
  },
  {
   "cell_type": "markdown",
   "id": "8f793e73",
   "metadata": {
    "origin_pos": 9
   },
   "source": [
    "注意，[**`features`中的每一行都包含一个二维数据样本，\n",
    "`labels`中的每一行都包含一维标签值（一个标量）**]。\n"
   ]
  },
  {
   "cell_type": "code",
   "execution_count": 6,
   "id": "ff9bf839",
   "metadata": {
    "execution": {
     "iopub.execute_input": "2022-12-07T16:43:06.350058Z",
     "iopub.status.busy": "2022-12-07T16:43:06.349622Z",
     "iopub.status.idle": "2022-12-07T16:43:06.356271Z",
     "shell.execute_reply": "2022-12-07T16:43:06.355499Z"
    },
    "origin_pos": 10,
    "tab": [
     "pytorch"
    ],
    "ExecuteTime": {
     "end_time": "2023-08-04T13:58:03.127372800Z",
     "start_time": "2023-08-04T13:58:03.121368600Z"
    }
   },
   "outputs": [
    {
     "name": "stdout",
     "output_type": "stream",
     "text": [
      "features: tensor([1.5010, 0.1002]) \n",
      "label: tensor([6.8447])\n"
     ]
    }
   ],
   "source": [
    "print('features:', features[0],'\\nlabel:', labels[0])"
   ]
  },
  {
   "cell_type": "markdown",
   "id": "fceaa9b1",
   "metadata": {
    "origin_pos": 11
   },
   "source": [
    "通过生成第二个特征`features[:, 1]`和`labels`的散点图，\n",
    "可以直观观察到两者之间的线性关系。\n"
   ]
  },
  {
   "cell_type": "code",
   "execution_count": 7,
   "id": "ec27cda9",
   "metadata": {
    "execution": {
     "iopub.execute_input": "2022-12-07T16:43:06.360566Z",
     "iopub.status.busy": "2022-12-07T16:43:06.360291Z",
     "iopub.status.idle": "2022-12-07T16:43:06.547379Z",
     "shell.execute_reply": "2022-12-07T16:43:06.546494Z"
    },
    "origin_pos": 12,
    "tab": [
     "pytorch"
    ],
    "ExecuteTime": {
     "end_time": "2023-08-04T13:58:13.858121700Z",
     "start_time": "2023-08-04T13:58:13.787228Z"
    }
   },
   "outputs": [
    {
     "data": {
      "text/plain": "<Figure size 350x250 with 1 Axes>",
      "image/svg+xml": "<?xml version=\"1.0\" encoding=\"utf-8\" standalone=\"no\"?>\n<!DOCTYPE svg PUBLIC \"-//W3C//DTD SVG 1.1//EN\"\n  \"http://www.w3.org/Graphics/SVG/1.1/DTD/svg11.dtd\">\n<svg xmlns:xlink=\"http://www.w3.org/1999/xlink\" width=\"231.442187pt\" height=\"169.678125pt\" viewBox=\"0 0 231.442187 169.678125\" xmlns=\"http://www.w3.org/2000/svg\" version=\"1.1\">\n <metadata>\n  <rdf:RDF xmlns:dc=\"http://purl.org/dc/elements/1.1/\" xmlns:cc=\"http://creativecommons.org/ns#\" xmlns:rdf=\"http://www.w3.org/1999/02/22-rdf-syntax-ns#\">\n   <cc:Work>\n    <dc:type rdf:resource=\"http://purl.org/dc/dcmitype/StillImage\"/>\n    <dc:date>2023-08-04T21:58:13.827122</dc:date>\n    <dc:format>image/svg+xml</dc:format>\n    <dc:creator>\n     <cc:Agent>\n      <dc:title>Matplotlib v3.5.1, https://matplotlib.org/</dc:title>\n     </cc:Agent>\n    </dc:creator>\n   </cc:Work>\n  </rdf:RDF>\n </metadata>\n <defs>\n  <style type=\"text/css\">*{stroke-linejoin: round; stroke-linecap: butt}</style>\n </defs>\n <g id=\"figure_1\">\n  <g id=\"patch_1\">\n   <path d=\"M 0 169.678125 \nL 231.442187 169.678125 \nL 231.442187 0 \nL 0 0 \nz\n\" style=\"fill: #ffffff\"/>\n  </g>\n  <g id=\"axes_1\">\n   <g id=\"patch_2\">\n    <path d=\"M 28.942188 145.8 \nL 224.242188 145.8 \nL 224.242188 7.2 \nL 28.942188 7.2 \nz\n\" style=\"fill: #ffffff\"/>\n   </g>\n   <g id=\"PathCollection_1\">\n    <defs>\n     <path id=\"m1dba5ca5f6\" d=\"M 0 0.5 \nC 0.132602 0.5 0.25979 0.447317 0.353553 0.353553 \nC 0.447317 0.25979 0.5 0.132602 0.5 0 \nC 0.5 -0.132602 0.447317 -0.25979 0.353553 -0.353553 \nC 0.25979 -0.447317 0.132602 -0.5 0 -0.5 \nC -0.132602 -0.5 -0.25979 -0.447317 -0.353553 -0.353553 \nC -0.447317 -0.25979 -0.5 -0.132602 -0.5 0 \nC -0.5 0.132602 -0.447317 0.25979 -0.353553 0.353553 \nC -0.25979 0.447317 -0.132602 0.5 0 0.5 \nz\n\" style=\"stroke: #1f77b4\"/>\n    </defs>\n    <g clip-path=\"url(#p2b72df2405)\">\n     <use xlink:href=\"#m1dba5ca5f6\" x=\"142.663364\" y=\"66.10528\" style=\"fill: #1f77b4; stroke: #1f77b4\"/>\n     <use xlink:href=\"#m1dba5ca5f6\" x=\"118.245168\" y=\"32.953318\" style=\"fill: #1f77b4; stroke: #1f77b4\"/>\n     <use xlink:href=\"#m1dba5ca5f6\" x=\"113.268579\" y=\"67.709762\" style=\"fill: #1f77b4; stroke: #1f77b4\"/>\n     <use xlink:href=\"#m1dba5ca5f6\" x=\"115.744306\" y=\"79.398306\" style=\"fill: #1f77b4; stroke: #1f77b4\"/>\n     <use xlink:href=\"#m1dba5ca5f6\" x=\"170.451388\" y=\"99.876301\" style=\"fill: #1f77b4; stroke: #1f77b4\"/>\n     <use xlink:href=\"#m1dba5ca5f6\" x=\"140.57727\" y=\"80.628028\" style=\"fill: #1f77b4; stroke: #1f77b4\"/>\n     <use xlink:href=\"#m1dba5ca5f6\" x=\"84.208059\" y=\"53.450531\" style=\"fill: #1f77b4; stroke: #1f77b4\"/>\n     <use xlink:href=\"#m1dba5ca5f6\" x=\"131.125078\" y=\"95.723931\" style=\"fill: #1f77b4; stroke: #1f77b4\"/>\n     <use xlink:href=\"#m1dba5ca5f6\" x=\"137.14179\" y=\"78.188577\" style=\"fill: #1f77b4; stroke: #1f77b4\"/>\n     <use xlink:href=\"#m1dba5ca5f6\" x=\"162.641007\" y=\"86.86352\" style=\"fill: #1f77b4; stroke: #1f77b4\"/>\n     <use xlink:href=\"#m1dba5ca5f6\" x=\"140.808827\" y=\"79.874521\" style=\"fill: #1f77b4; stroke: #1f77b4\"/>\n     <use xlink:href=\"#m1dba5ca5f6\" x=\"155.393041\" y=\"106.669605\" style=\"fill: #1f77b4; stroke: #1f77b4\"/>\n     <use xlink:href=\"#m1dba5ca5f6\" x=\"132.337085\" y=\"71.136393\" style=\"fill: #1f77b4; stroke: #1f77b4\"/>\n     <use xlink:href=\"#m1dba5ca5f6\" x=\"157.3675\" y=\"99.195576\" style=\"fill: #1f77b4; stroke: #1f77b4\"/>\n     <use xlink:href=\"#m1dba5ca5f6\" x=\"126.999814\" y=\"73.548651\" style=\"fill: #1f77b4; stroke: #1f77b4\"/>\n     <use xlink:href=\"#m1dba5ca5f6\" x=\"194.782137\" y=\"112.694202\" style=\"fill: #1f77b4; stroke: #1f77b4\"/>\n     <use xlink:href=\"#m1dba5ca5f6\" x=\"129.944668\" y=\"65.540129\" style=\"fill: #1f77b4; stroke: #1f77b4\"/>\n     <use xlink:href=\"#m1dba5ca5f6\" x=\"122.059029\" y=\"74.296918\" style=\"fill: #1f77b4; stroke: #1f77b4\"/>\n     <use xlink:href=\"#m1dba5ca5f6\" x=\"166.716967\" y=\"92.790458\" style=\"fill: #1f77b4; stroke: #1f77b4\"/>\n     <use xlink:href=\"#m1dba5ca5f6\" x=\"140.446449\" y=\"72.301897\" style=\"fill: #1f77b4; stroke: #1f77b4\"/>\n     <use xlink:href=\"#m1dba5ca5f6\" x=\"148.400858\" y=\"75.996639\" style=\"fill: #1f77b4; stroke: #1f77b4\"/>\n     <use xlink:href=\"#m1dba5ca5f6\" x=\"130.364558\" y=\"69.693421\" style=\"fill: #1f77b4; stroke: #1f77b4\"/>\n     <use xlink:href=\"#m1dba5ca5f6\" x=\"161.481734\" y=\"78.16102\" style=\"fill: #1f77b4; stroke: #1f77b4\"/>\n     <use xlink:href=\"#m1dba5ca5f6\" x=\"152.850142\" y=\"87.210989\" style=\"fill: #1f77b4; stroke: #1f77b4\"/>\n     <use xlink:href=\"#m1dba5ca5f6\" x=\"165.102498\" y=\"105.575669\" style=\"fill: #1f77b4; stroke: #1f77b4\"/>\n     <use xlink:href=\"#m1dba5ca5f6\" x=\"108.192581\" y=\"71.675247\" style=\"fill: #1f77b4; stroke: #1f77b4\"/>\n     <use xlink:href=\"#m1dba5ca5f6\" x=\"184.825911\" y=\"104.074\" style=\"fill: #1f77b4; stroke: #1f77b4\"/>\n     <use xlink:href=\"#m1dba5ca5f6\" x=\"166.013931\" y=\"94.997916\" style=\"fill: #1f77b4; stroke: #1f77b4\"/>\n     <use xlink:href=\"#m1dba5ca5f6\" x=\"71.684741\" y=\"46.865315\" style=\"fill: #1f77b4; stroke: #1f77b4\"/>\n     <use xlink:href=\"#m1dba5ca5f6\" x=\"144.299535\" y=\"57.587586\" style=\"fill: #1f77b4; stroke: #1f77b4\"/>\n     <use xlink:href=\"#m1dba5ca5f6\" x=\"132.36197\" y=\"66.255621\" style=\"fill: #1f77b4; stroke: #1f77b4\"/>\n     <use xlink:href=\"#m1dba5ca5f6\" x=\"149.272508\" y=\"73.895607\" style=\"fill: #1f77b4; stroke: #1f77b4\"/>\n     <use xlink:href=\"#m1dba5ca5f6\" x=\"125.648851\" y=\"95.140076\" style=\"fill: #1f77b4; stroke: #1f77b4\"/>\n     <use xlink:href=\"#m1dba5ca5f6\" x=\"164.255249\" y=\"103.102192\" style=\"fill: #1f77b4; stroke: #1f77b4\"/>\n     <use xlink:href=\"#m1dba5ca5f6\" x=\"87.406165\" y=\"29.017949\" style=\"fill: #1f77b4; stroke: #1f77b4\"/>\n     <use xlink:href=\"#m1dba5ca5f6\" x=\"84.070968\" y=\"30.51827\" style=\"fill: #1f77b4; stroke: #1f77b4\"/>\n     <use xlink:href=\"#m1dba5ca5f6\" x=\"114.975569\" y=\"67.972699\" style=\"fill: #1f77b4; stroke: #1f77b4\"/>\n     <use xlink:href=\"#m1dba5ca5f6\" x=\"151.904004\" y=\"107.496112\" style=\"fill: #1f77b4; stroke: #1f77b4\"/>\n     <use xlink:href=\"#m1dba5ca5f6\" x=\"102.407476\" y=\"53.809287\" style=\"fill: #1f77b4; stroke: #1f77b4\"/>\n     <use xlink:href=\"#m1dba5ca5f6\" x=\"100.882106\" y=\"41.449791\" style=\"fill: #1f77b4; stroke: #1f77b4\"/>\n     <use xlink:href=\"#m1dba5ca5f6\" x=\"130.537602\" y=\"79.448981\" style=\"fill: #1f77b4; stroke: #1f77b4\"/>\n     <use xlink:href=\"#m1dba5ca5f6\" x=\"168.226632\" y=\"90.999937\" style=\"fill: #1f77b4; stroke: #1f77b4\"/>\n     <use xlink:href=\"#m1dba5ca5f6\" x=\"132.462692\" y=\"89.739738\" style=\"fill: #1f77b4; stroke: #1f77b4\"/>\n     <use xlink:href=\"#m1dba5ca5f6\" x=\"166.955675\" y=\"92.707686\" style=\"fill: #1f77b4; stroke: #1f77b4\"/>\n     <use xlink:href=\"#m1dba5ca5f6\" x=\"122.715309\" y=\"60.742997\" style=\"fill: #1f77b4; stroke: #1f77b4\"/>\n     <use xlink:href=\"#m1dba5ca5f6\" x=\"120.190462\" y=\"61.45338\" style=\"fill: #1f77b4; stroke: #1f77b4\"/>\n     <use xlink:href=\"#m1dba5ca5f6\" x=\"145.370614\" y=\"84.579266\" style=\"fill: #1f77b4; stroke: #1f77b4\"/>\n     <use xlink:href=\"#m1dba5ca5f6\" x=\"176.780221\" y=\"116.791004\" style=\"fill: #1f77b4; stroke: #1f77b4\"/>\n     <use xlink:href=\"#m1dba5ca5f6\" x=\"159.16545\" y=\"88.688455\" style=\"fill: #1f77b4; stroke: #1f77b4\"/>\n     <use xlink:href=\"#m1dba5ca5f6\" x=\"138.393097\" y=\"82.56074\" style=\"fill: #1f77b4; stroke: #1f77b4\"/>\n     <use xlink:href=\"#m1dba5ca5f6\" x=\"192.370053\" y=\"104.336787\" style=\"fill: #1f77b4; stroke: #1f77b4\"/>\n     <use xlink:href=\"#m1dba5ca5f6\" x=\"123.675717\" y=\"90.337006\" style=\"fill: #1f77b4; stroke: #1f77b4\"/>\n     <use xlink:href=\"#m1dba5ca5f6\" x=\"162.649641\" y=\"106.713622\" style=\"fill: #1f77b4; stroke: #1f77b4\"/>\n     <use xlink:href=\"#m1dba5ca5f6\" x=\"114.232096\" y=\"75.119474\" style=\"fill: #1f77b4; stroke: #1f77b4\"/>\n     <use xlink:href=\"#m1dba5ca5f6\" x=\"130.457126\" y=\"54.281711\" style=\"fill: #1f77b4; stroke: #1f77b4\"/>\n     <use xlink:href=\"#m1dba5ca5f6\" x=\"136.613236\" y=\"52.429708\" style=\"fill: #1f77b4; stroke: #1f77b4\"/>\n     <use xlink:href=\"#m1dba5ca5f6\" x=\"126.902793\" y=\"79.384004\" style=\"fill: #1f77b4; stroke: #1f77b4\"/>\n     <use xlink:href=\"#m1dba5ca5f6\" x=\"135.871767\" y=\"75.88855\" style=\"fill: #1f77b4; stroke: #1f77b4\"/>\n     <use xlink:href=\"#m1dba5ca5f6\" x=\"111.89302\" y=\"48.014169\" style=\"fill: #1f77b4; stroke: #1f77b4\"/>\n     <use xlink:href=\"#m1dba5ca5f6\" x=\"141.00768\" y=\"79.991432\" style=\"fill: #1f77b4; stroke: #1f77b4\"/>\n     <use xlink:href=\"#m1dba5ca5f6\" x=\"152.275324\" y=\"107.360319\" style=\"fill: #1f77b4; stroke: #1f77b4\"/>\n     <use xlink:href=\"#m1dba5ca5f6\" x=\"164.576826\" y=\"89.163011\" style=\"fill: #1f77b4; stroke: #1f77b4\"/>\n     <use xlink:href=\"#m1dba5ca5f6\" x=\"161.907756\" y=\"85.40137\" style=\"fill: #1f77b4; stroke: #1f77b4\"/>\n     <use xlink:href=\"#m1dba5ca5f6\" x=\"135.114401\" y=\"78.996735\" style=\"fill: #1f77b4; stroke: #1f77b4\"/>\n     <use xlink:href=\"#m1dba5ca5f6\" x=\"124.015891\" y=\"75.20124\" style=\"fill: #1f77b4; stroke: #1f77b4\"/>\n     <use xlink:href=\"#m1dba5ca5f6\" x=\"154.435494\" y=\"97.949375\" style=\"fill: #1f77b4; stroke: #1f77b4\"/>\n     <use xlink:href=\"#m1dba5ca5f6\" x=\"170.195646\" y=\"101.737428\" style=\"fill: #1f77b4; stroke: #1f77b4\"/>\n     <use xlink:href=\"#m1dba5ca5f6\" x=\"118.470139\" y=\"70.789541\" style=\"fill: #1f77b4; stroke: #1f77b4\"/>\n     <use xlink:href=\"#m1dba5ca5f6\" x=\"129.360766\" y=\"65.126965\" style=\"fill: #1f77b4; stroke: #1f77b4\"/>\n     <use xlink:href=\"#m1dba5ca5f6\" x=\"158.455625\" y=\"84.281709\" style=\"fill: #1f77b4; stroke: #1f77b4\"/>\n     <use xlink:href=\"#m1dba5ca5f6\" x=\"119.167712\" y=\"67.19802\" style=\"fill: #1f77b4; stroke: #1f77b4\"/>\n     <use xlink:href=\"#m1dba5ca5f6\" x=\"131.896899\" y=\"69.50449\" style=\"fill: #1f77b4; stroke: #1f77b4\"/>\n     <use xlink:href=\"#m1dba5ca5f6\" x=\"159.415713\" y=\"86.517129\" style=\"fill: #1f77b4; stroke: #1f77b4\"/>\n     <use xlink:href=\"#m1dba5ca5f6\" x=\"128.139909\" y=\"81.635959\" style=\"fill: #1f77b4; stroke: #1f77b4\"/>\n     <use xlink:href=\"#m1dba5ca5f6\" x=\"140.204502\" y=\"82.884725\" style=\"fill: #1f77b4; stroke: #1f77b4\"/>\n     <use xlink:href=\"#m1dba5ca5f6\" x=\"127.493162\" y=\"52.988119\" style=\"fill: #1f77b4; stroke: #1f77b4\"/>\n     <use xlink:href=\"#m1dba5ca5f6\" x=\"88.27773\" y=\"55.090385\" style=\"fill: #1f77b4; stroke: #1f77b4\"/>\n     <use xlink:href=\"#m1dba5ca5f6\" x=\"129.014821\" y=\"69.192067\" style=\"fill: #1f77b4; stroke: #1f77b4\"/>\n     <use xlink:href=\"#m1dba5ca5f6\" x=\"110.746851\" y=\"71.121213\" style=\"fill: #1f77b4; stroke: #1f77b4\"/>\n     <use xlink:href=\"#m1dba5ca5f6\" x=\"127.903646\" y=\"79.11249\" style=\"fill: #1f77b4; stroke: #1f77b4\"/>\n     <use xlink:href=\"#m1dba5ca5f6\" x=\"116.519957\" y=\"44.229662\" style=\"fill: #1f77b4; stroke: #1f77b4\"/>\n     <use xlink:href=\"#m1dba5ca5f6\" x=\"95.649533\" y=\"38.046852\" style=\"fill: #1f77b4; stroke: #1f77b4\"/>\n     <use xlink:href=\"#m1dba5ca5f6\" x=\"123.260932\" y=\"60.783219\" style=\"fill: #1f77b4; stroke: #1f77b4\"/>\n     <use xlink:href=\"#m1dba5ca5f6\" x=\"127.920211\" y=\"57.598278\" style=\"fill: #1f77b4; stroke: #1f77b4\"/>\n     <use xlink:href=\"#m1dba5ca5f6\" x=\"147.177792\" y=\"77.279597\" style=\"fill: #1f77b4; stroke: #1f77b4\"/>\n     <use xlink:href=\"#m1dba5ca5f6\" x=\"136.197208\" y=\"93.268395\" style=\"fill: #1f77b4; stroke: #1f77b4\"/>\n     <use xlink:href=\"#m1dba5ca5f6\" x=\"90.921834\" y=\"66.394297\" style=\"fill: #1f77b4; stroke: #1f77b4\"/>\n     <use xlink:href=\"#m1dba5ca5f6\" x=\"127.532782\" y=\"70.550412\" style=\"fill: #1f77b4; stroke: #1f77b4\"/>\n     <use xlink:href=\"#m1dba5ca5f6\" x=\"165.62608\" y=\"94.957524\" style=\"fill: #1f77b4; stroke: #1f77b4\"/>\n     <use xlink:href=\"#m1dba5ca5f6\" x=\"171.795845\" y=\"120.253559\" style=\"fill: #1f77b4; stroke: #1f77b4\"/>\n     <use xlink:href=\"#m1dba5ca5f6\" x=\"132.298709\" y=\"75.527887\" style=\"fill: #1f77b4; stroke: #1f77b4\"/>\n     <use xlink:href=\"#m1dba5ca5f6\" x=\"128.761015\" y=\"73.02062\" style=\"fill: #1f77b4; stroke: #1f77b4\"/>\n     <use xlink:href=\"#m1dba5ca5f6\" x=\"148.668749\" y=\"96.097869\" style=\"fill: #1f77b4; stroke: #1f77b4\"/>\n     <use xlink:href=\"#m1dba5ca5f6\" x=\"202.211612\" y=\"136.527571\" style=\"fill: #1f77b4; stroke: #1f77b4\"/>\n     <use xlink:href=\"#m1dba5ca5f6\" x=\"161.138911\" y=\"81.984319\" style=\"fill: #1f77b4; stroke: #1f77b4\"/>\n     <use xlink:href=\"#m1dba5ca5f6\" x=\"141.236274\" y=\"68.589507\" style=\"fill: #1f77b4; stroke: #1f77b4\"/>\n     <use xlink:href=\"#m1dba5ca5f6\" x=\"147.542974\" y=\"94.387545\" style=\"fill: #1f77b4; stroke: #1f77b4\"/>\n     <use xlink:href=\"#m1dba5ca5f6\" x=\"158.954158\" y=\"96.465294\" style=\"fill: #1f77b4; stroke: #1f77b4\"/>\n     <use xlink:href=\"#m1dba5ca5f6\" x=\"133.376431\" y=\"72.67948\" style=\"fill: #1f77b4; stroke: #1f77b4\"/>\n     <use xlink:href=\"#m1dba5ca5f6\" x=\"132.480037\" y=\"84.306357\" style=\"fill: #1f77b4; stroke: #1f77b4\"/>\n     <use xlink:href=\"#m1dba5ca5f6\" x=\"132.027566\" y=\"56.627955\" style=\"fill: #1f77b4; stroke: #1f77b4\"/>\n     <use xlink:href=\"#m1dba5ca5f6\" x=\"125.285816\" y=\"72.17284\" style=\"fill: #1f77b4; stroke: #1f77b4\"/>\n     <use xlink:href=\"#m1dba5ca5f6\" x=\"147.536815\" y=\"91.094828\" style=\"fill: #1f77b4; stroke: #1f77b4\"/>\n     <use xlink:href=\"#m1dba5ca5f6\" x=\"149.932753\" y=\"94.125495\" style=\"fill: #1f77b4; stroke: #1f77b4\"/>\n     <use xlink:href=\"#m1dba5ca5f6\" x=\"116.474787\" y=\"66.471723\" style=\"fill: #1f77b4; stroke: #1f77b4\"/>\n     <use xlink:href=\"#m1dba5ca5f6\" x=\"114.852345\" y=\"57.861566\" style=\"fill: #1f77b4; stroke: #1f77b4\"/>\n     <use xlink:href=\"#m1dba5ca5f6\" x=\"141.306475\" y=\"85.659072\" style=\"fill: #1f77b4; stroke: #1f77b4\"/>\n     <use xlink:href=\"#m1dba5ca5f6\" x=\"166.716786\" y=\"93.2979\" style=\"fill: #1f77b4; stroke: #1f77b4\"/>\n     <use xlink:href=\"#m1dba5ca5f6\" x=\"115.40437\" y=\"64.238763\" style=\"fill: #1f77b4; stroke: #1f77b4\"/>\n     <use xlink:href=\"#m1dba5ca5f6\" x=\"143.646133\" y=\"72.25822\" style=\"fill: #1f77b4; stroke: #1f77b4\"/>\n     <use xlink:href=\"#m1dba5ca5f6\" x=\"197.147139\" y=\"106.627718\" style=\"fill: #1f77b4; stroke: #1f77b4\"/>\n     <use xlink:href=\"#m1dba5ca5f6\" x=\"97.333812\" y=\"58.43458\" style=\"fill: #1f77b4; stroke: #1f77b4\"/>\n     <use xlink:href=\"#m1dba5ca5f6\" x=\"152.090549\" y=\"95.338973\" style=\"fill: #1f77b4; stroke: #1f77b4\"/>\n     <use xlink:href=\"#m1dba5ca5f6\" x=\"190.521085\" y=\"132.268695\" style=\"fill: #1f77b4; stroke: #1f77b4\"/>\n     <use xlink:href=\"#m1dba5ca5f6\" x=\"201.407616\" y=\"119.394613\" style=\"fill: #1f77b4; stroke: #1f77b4\"/>\n     <use xlink:href=\"#m1dba5ca5f6\" x=\"90.500654\" y=\"31.102241\" style=\"fill: #1f77b4; stroke: #1f77b4\"/>\n     <use xlink:href=\"#m1dba5ca5f6\" x=\"126.634006\" y=\"66.709158\" style=\"fill: #1f77b4; stroke: #1f77b4\"/>\n     <use xlink:href=\"#m1dba5ca5f6\" x=\"172.889711\" y=\"121.048529\" style=\"fill: #1f77b4; stroke: #1f77b4\"/>\n     <use xlink:href=\"#m1dba5ca5f6\" x=\"134.264533\" y=\"71.181577\" style=\"fill: #1f77b4; stroke: #1f77b4\"/>\n     <use xlink:href=\"#m1dba5ca5f6\" x=\"125.862538\" y=\"72.628798\" style=\"fill: #1f77b4; stroke: #1f77b4\"/>\n     <use xlink:href=\"#m1dba5ca5f6\" x=\"149.260125\" y=\"77.434608\" style=\"fill: #1f77b4; stroke: #1f77b4\"/>\n     <use xlink:href=\"#m1dba5ca5f6\" x=\"165.507643\" y=\"94.253326\" style=\"fill: #1f77b4; stroke: #1f77b4\"/>\n     <use xlink:href=\"#m1dba5ca5f6\" x=\"130.565057\" y=\"84.009803\" style=\"fill: #1f77b4; stroke: #1f77b4\"/>\n     <use xlink:href=\"#m1dba5ca5f6\" x=\"97.132764\" y=\"36.76205\" style=\"fill: #1f77b4; stroke: #1f77b4\"/>\n     <use xlink:href=\"#m1dba5ca5f6\" x=\"124.659329\" y=\"67.300235\" style=\"fill: #1f77b4; stroke: #1f77b4\"/>\n     <use xlink:href=\"#m1dba5ca5f6\" x=\"113.526134\" y=\"56.296353\" style=\"fill: #1f77b4; stroke: #1f77b4\"/>\n     <use xlink:href=\"#m1dba5ca5f6\" x=\"158.908763\" y=\"98.444781\" style=\"fill: #1f77b4; stroke: #1f77b4\"/>\n     <use xlink:href=\"#m1dba5ca5f6\" x=\"109.90421\" y=\"46.320999\" style=\"fill: #1f77b4; stroke: #1f77b4\"/>\n     <use xlink:href=\"#m1dba5ca5f6\" x=\"157.113807\" y=\"86.725013\" style=\"fill: #1f77b4; stroke: #1f77b4\"/>\n     <use xlink:href=\"#m1dba5ca5f6\" x=\"132.739594\" y=\"77.735944\" style=\"fill: #1f77b4; stroke: #1f77b4\"/>\n     <use xlink:href=\"#m1dba5ca5f6\" x=\"105.212099\" y=\"57.137678\" style=\"fill: #1f77b4; stroke: #1f77b4\"/>\n     <use xlink:href=\"#m1dba5ca5f6\" x=\"171.62593\" y=\"97.997357\" style=\"fill: #1f77b4; stroke: #1f77b4\"/>\n     <use xlink:href=\"#m1dba5ca5f6\" x=\"158.1743\" y=\"94.779156\" style=\"fill: #1f77b4; stroke: #1f77b4\"/>\n     <use xlink:href=\"#m1dba5ca5f6\" x=\"125.489084\" y=\"85.405906\" style=\"fill: #1f77b4; stroke: #1f77b4\"/>\n     <use xlink:href=\"#m1dba5ca5f6\" x=\"152.52118\" y=\"87.978874\" style=\"fill: #1f77b4; stroke: #1f77b4\"/>\n     <use xlink:href=\"#m1dba5ca5f6\" x=\"130.170319\" y=\"77.918019\" style=\"fill: #1f77b4; stroke: #1f77b4\"/>\n     <use xlink:href=\"#m1dba5ca5f6\" x=\"87.900313\" y=\"59.931252\" style=\"fill: #1f77b4; stroke: #1f77b4\"/>\n     <use xlink:href=\"#m1dba5ca5f6\" x=\"106.961432\" y=\"50.552671\" style=\"fill: #1f77b4; stroke: #1f77b4\"/>\n     <use xlink:href=\"#m1dba5ca5f6\" x=\"150.8475\" y=\"86.539958\" style=\"fill: #1f77b4; stroke: #1f77b4\"/>\n     <use xlink:href=\"#m1dba5ca5f6\" x=\"95.917647\" y=\"52.273681\" style=\"fill: #1f77b4; stroke: #1f77b4\"/>\n     <use xlink:href=\"#m1dba5ca5f6\" x=\"179.651834\" y=\"100.924877\" style=\"fill: #1f77b4; stroke: #1f77b4\"/>\n     <use xlink:href=\"#m1dba5ca5f6\" x=\"161.558353\" y=\"91.57632\" style=\"fill: #1f77b4; stroke: #1f77b4\"/>\n     <use xlink:href=\"#m1dba5ca5f6\" x=\"178.584545\" y=\"108.600857\" style=\"fill: #1f77b4; stroke: #1f77b4\"/>\n     <use xlink:href=\"#m1dba5ca5f6\" x=\"129.051072\" y=\"77.530207\" style=\"fill: #1f77b4; stroke: #1f77b4\"/>\n     <use xlink:href=\"#m1dba5ca5f6\" x=\"151.304443\" y=\"96.236647\" style=\"fill: #1f77b4; stroke: #1f77b4\"/>\n     <use xlink:href=\"#m1dba5ca5f6\" x=\"139.455636\" y=\"71.336764\" style=\"fill: #1f77b4; stroke: #1f77b4\"/>\n     <use xlink:href=\"#m1dba5ca5f6\" x=\"134.440042\" y=\"68.145472\" style=\"fill: #1f77b4; stroke: #1f77b4\"/>\n     <use xlink:href=\"#m1dba5ca5f6\" x=\"133.379093\" y=\"68.581865\" style=\"fill: #1f77b4; stroke: #1f77b4\"/>\n     <use xlink:href=\"#m1dba5ca5f6\" x=\"160.784373\" y=\"105.448192\" style=\"fill: #1f77b4; stroke: #1f77b4\"/>\n     <use xlink:href=\"#m1dba5ca5f6\" x=\"152.270255\" y=\"97.901227\" style=\"fill: #1f77b4; stroke: #1f77b4\"/>\n     <use xlink:href=\"#m1dba5ca5f6\" x=\"132.515941\" y=\"76.263837\" style=\"fill: #1f77b4; stroke: #1f77b4\"/>\n     <use xlink:href=\"#m1dba5ca5f6\" x=\"153.810547\" y=\"88.504678\" style=\"fill: #1f77b4; stroke: #1f77b4\"/>\n     <use xlink:href=\"#m1dba5ca5f6\" x=\"136.821218\" y=\"86.620336\" style=\"fill: #1f77b4; stroke: #1f77b4\"/>\n     <use xlink:href=\"#m1dba5ca5f6\" x=\"153.350628\" y=\"109.322483\" style=\"fill: #1f77b4; stroke: #1f77b4\"/>\n     <use xlink:href=\"#m1dba5ca5f6\" x=\"130.341699\" y=\"70.459861\" style=\"fill: #1f77b4; stroke: #1f77b4\"/>\n     <use xlink:href=\"#m1dba5ca5f6\" x=\"147.35966\" y=\"96.616031\" style=\"fill: #1f77b4; stroke: #1f77b4\"/>\n     <use xlink:href=\"#m1dba5ca5f6\" x=\"158.590765\" y=\"95.929545\" style=\"fill: #1f77b4; stroke: #1f77b4\"/>\n     <use xlink:href=\"#m1dba5ca5f6\" x=\"125.008141\" y=\"77.94136\" style=\"fill: #1f77b4; stroke: #1f77b4\"/>\n     <use xlink:href=\"#m1dba5ca5f6\" x=\"150.176483\" y=\"82.658184\" style=\"fill: #1f77b4; stroke: #1f77b4\"/>\n     <use xlink:href=\"#m1dba5ca5f6\" x=\"126.372949\" y=\"67.989796\" style=\"fill: #1f77b4; stroke: #1f77b4\"/>\n     <use xlink:href=\"#m1dba5ca5f6\" x=\"128.172019\" y=\"72.220203\" style=\"fill: #1f77b4; stroke: #1f77b4\"/>\n     <use xlink:href=\"#m1dba5ca5f6\" x=\"133.302161\" y=\"88.226801\" style=\"fill: #1f77b4; stroke: #1f77b4\"/>\n     <use xlink:href=\"#m1dba5ca5f6\" x=\"140.826656\" y=\"78.358474\" style=\"fill: #1f77b4; stroke: #1f77b4\"/>\n     <use xlink:href=\"#m1dba5ca5f6\" x=\"108.775443\" y=\"63.209425\" style=\"fill: #1f77b4; stroke: #1f77b4\"/>\n     <use xlink:href=\"#m1dba5ca5f6\" x=\"122.447554\" y=\"72.607773\" style=\"fill: #1f77b4; stroke: #1f77b4\"/>\n     <use xlink:href=\"#m1dba5ca5f6\" x=\"159.804133\" y=\"86.145456\" style=\"fill: #1f77b4; stroke: #1f77b4\"/>\n     <use xlink:href=\"#m1dba5ca5f6\" x=\"177.135298\" y=\"119.76379\" style=\"fill: #1f77b4; stroke: #1f77b4\"/>\n     <use xlink:href=\"#m1dba5ca5f6\" x=\"130.405\" y=\"74.730075\" style=\"fill: #1f77b4; stroke: #1f77b4\"/>\n     <use xlink:href=\"#m1dba5ca5f6\" x=\"157.202771\" y=\"90.300147\" style=\"fill: #1f77b4; stroke: #1f77b4\"/>\n     <use xlink:href=\"#m1dba5ca5f6\" x=\"144.99545\" y=\"92.088815\" style=\"fill: #1f77b4; stroke: #1f77b4\"/>\n     <use xlink:href=\"#m1dba5ca5f6\" x=\"124.171229\" y=\"63.705257\" style=\"fill: #1f77b4; stroke: #1f77b4\"/>\n     <use xlink:href=\"#m1dba5ca5f6\" x=\"123.616191\" y=\"70.478643\" style=\"fill: #1f77b4; stroke: #1f77b4\"/>\n     <use xlink:href=\"#m1dba5ca5f6\" x=\"121.0368\" y=\"59.503675\" style=\"fill: #1f77b4; stroke: #1f77b4\"/>\n     <use xlink:href=\"#m1dba5ca5f6\" x=\"132.744229\" y=\"90.419\" style=\"fill: #1f77b4; stroke: #1f77b4\"/>\n     <use xlink:href=\"#m1dba5ca5f6\" x=\"135.930314\" y=\"77.843086\" style=\"fill: #1f77b4; stroke: #1f77b4\"/>\n     <use xlink:href=\"#m1dba5ca5f6\" x=\"158.523036\" y=\"93.056384\" style=\"fill: #1f77b4; stroke: #1f77b4\"/>\n     <use xlink:href=\"#m1dba5ca5f6\" x=\"161.186008\" y=\"88.795047\" style=\"fill: #1f77b4; stroke: #1f77b4\"/>\n     <use xlink:href=\"#m1dba5ca5f6\" x=\"103.574695\" y=\"80.691911\" style=\"fill: #1f77b4; stroke: #1f77b4\"/>\n     <use xlink:href=\"#m1dba5ca5f6\" x=\"90.291069\" y=\"50.934675\" style=\"fill: #1f77b4; stroke: #1f77b4\"/>\n     <use xlink:href=\"#m1dba5ca5f6\" x=\"151.83337\" y=\"86.996482\" style=\"fill: #1f77b4; stroke: #1f77b4\"/>\n     <use xlink:href=\"#m1dba5ca5f6\" x=\"180.181093\" y=\"98.458315\" style=\"fill: #1f77b4; stroke: #1f77b4\"/>\n     <use xlink:href=\"#m1dba5ca5f6\" x=\"141.880144\" y=\"100.201003\" style=\"fill: #1f77b4; stroke: #1f77b4\"/>\n     <use xlink:href=\"#m1dba5ca5f6\" x=\"82.339269\" y=\"56.438603\" style=\"fill: #1f77b4; stroke: #1f77b4\"/>\n     <use xlink:href=\"#m1dba5ca5f6\" x=\"169.865923\" y=\"98.787201\" style=\"fill: #1f77b4; stroke: #1f77b4\"/>\n     <use xlink:href=\"#m1dba5ca5f6\" x=\"176.475017\" y=\"106.94149\" style=\"fill: #1f77b4; stroke: #1f77b4\"/>\n     <use xlink:href=\"#m1dba5ca5f6\" x=\"181.133932\" y=\"92.49739\" style=\"fill: #1f77b4; stroke: #1f77b4\"/>\n     <use xlink:href=\"#m1dba5ca5f6\" x=\"164.230921\" y=\"92.428195\" style=\"fill: #1f77b4; stroke: #1f77b4\"/>\n     <use xlink:href=\"#m1dba5ca5f6\" x=\"143.636724\" y=\"86.506293\" style=\"fill: #1f77b4; stroke: #1f77b4\"/>\n     <use xlink:href=\"#m1dba5ca5f6\" x=\"121.70894\" y=\"83.741566\" style=\"fill: #1f77b4; stroke: #1f77b4\"/>\n     <use xlink:href=\"#m1dba5ca5f6\" x=\"122.586163\" y=\"72.480262\" style=\"fill: #1f77b4; stroke: #1f77b4\"/>\n     <use xlink:href=\"#m1dba5ca5f6\" x=\"117.831606\" y=\"60.40056\" style=\"fill: #1f77b4; stroke: #1f77b4\"/>\n     <use xlink:href=\"#m1dba5ca5f6\" x=\"140.582134\" y=\"100.027813\" style=\"fill: #1f77b4; stroke: #1f77b4\"/>\n     <use xlink:href=\"#m1dba5ca5f6\" x=\"199.338372\" y=\"139.5\" style=\"fill: #1f77b4; stroke: #1f77b4\"/>\n     <use xlink:href=\"#m1dba5ca5f6\" x=\"150.468654\" y=\"95.375248\" style=\"fill: #1f77b4; stroke: #1f77b4\"/>\n     <use xlink:href=\"#m1dba5ca5f6\" x=\"138.435112\" y=\"77.993557\" style=\"fill: #1f77b4; stroke: #1f77b4\"/>\n     <use xlink:href=\"#m1dba5ca5f6\" x=\"50.941421\" y=\"21.732343\" style=\"fill: #1f77b4; stroke: #1f77b4\"/>\n     <use xlink:href=\"#m1dba5ca5f6\" x=\"148.414492\" y=\"103.434533\" style=\"fill: #1f77b4; stroke: #1f77b4\"/>\n     <use xlink:href=\"#m1dba5ca5f6\" x=\"116.866408\" y=\"60.591451\" style=\"fill: #1f77b4; stroke: #1f77b4\"/>\n     <use xlink:href=\"#m1dba5ca5f6\" x=\"192.154638\" y=\"115.199784\" style=\"fill: #1f77b4; stroke: #1f77b4\"/>\n     <use xlink:href=\"#m1dba5ca5f6\" x=\"128.914729\" y=\"88.759424\" style=\"fill: #1f77b4; stroke: #1f77b4\"/>\n     <use xlink:href=\"#m1dba5ca5f6\" x=\"115.691929\" y=\"70.79378\" style=\"fill: #1f77b4; stroke: #1f77b4\"/>\n     <use xlink:href=\"#m1dba5ca5f6\" x=\"100.771134\" y=\"44.210862\" style=\"fill: #1f77b4; stroke: #1f77b4\"/>\n     <use xlink:href=\"#m1dba5ca5f6\" x=\"118.420391\" y=\"48.077195\" style=\"fill: #1f77b4; stroke: #1f77b4\"/>\n     <use xlink:href=\"#m1dba5ca5f6\" x=\"167.492994\" y=\"106.859133\" style=\"fill: #1f77b4; stroke: #1f77b4\"/>\n     <use xlink:href=\"#m1dba5ca5f6\" x=\"101.154855\" y=\"53.70786\" style=\"fill: #1f77b4; stroke: #1f77b4\"/>\n     <use xlink:href=\"#m1dba5ca5f6\" x=\"159.06126\" y=\"106.425581\" style=\"fill: #1f77b4; stroke: #1f77b4\"/>\n     <use xlink:href=\"#m1dba5ca5f6\" x=\"157.102647\" y=\"90.299071\" style=\"fill: #1f77b4; stroke: #1f77b4\"/>\n     <use xlink:href=\"#m1dba5ca5f6\" x=\"189.066896\" y=\"120.042294\" style=\"fill: #1f77b4; stroke: #1f77b4\"/>\n     <use xlink:href=\"#m1dba5ca5f6\" x=\"142.043832\" y=\"72.912468\" style=\"fill: #1f77b4; stroke: #1f77b4\"/>\n     <use xlink:href=\"#m1dba5ca5f6\" x=\"178.896549\" y=\"93.588188\" style=\"fill: #1f77b4; stroke: #1f77b4\"/>\n     <use xlink:href=\"#m1dba5ca5f6\" x=\"154.083639\" y=\"108.796798\" style=\"fill: #1f77b4; stroke: #1f77b4\"/>\n     <use xlink:href=\"#m1dba5ca5f6\" x=\"149.255424\" y=\"108.991692\" style=\"fill: #1f77b4; stroke: #1f77b4\"/>\n     <use xlink:href=\"#m1dba5ca5f6\" x=\"128.578349\" y=\"60.863461\" style=\"fill: #1f77b4; stroke: #1f77b4\"/>\n     <use xlink:href=\"#m1dba5ca5f6\" x=\"138.329877\" y=\"71.789005\" style=\"fill: #1f77b4; stroke: #1f77b4\"/>\n     <use xlink:href=\"#m1dba5ca5f6\" x=\"175.240202\" y=\"112.373622\" style=\"fill: #1f77b4; stroke: #1f77b4\"/>\n     <use xlink:href=\"#m1dba5ca5f6\" x=\"167.390674\" y=\"118.586865\" style=\"fill: #1f77b4; stroke: #1f77b4\"/>\n     <use xlink:href=\"#m1dba5ca5f6\" x=\"169.705123\" y=\"110.239412\" style=\"fill: #1f77b4; stroke: #1f77b4\"/>\n     <use xlink:href=\"#m1dba5ca5f6\" x=\"193.476983\" y=\"137.688059\" style=\"fill: #1f77b4; stroke: #1f77b4\"/>\n     <use xlink:href=\"#m1dba5ca5f6\" x=\"198.609627\" y=\"124.740457\" style=\"fill: #1f77b4; stroke: #1f77b4\"/>\n     <use xlink:href=\"#m1dba5ca5f6\" x=\"135.442291\" y=\"75.925631\" style=\"fill: #1f77b4; stroke: #1f77b4\"/>\n     <use xlink:href=\"#m1dba5ca5f6\" x=\"109.580373\" y=\"60.572201\" style=\"fill: #1f77b4; stroke: #1f77b4\"/>\n     <use xlink:href=\"#m1dba5ca5f6\" x=\"143.308763\" y=\"70.854847\" style=\"fill: #1f77b4; stroke: #1f77b4\"/>\n     <use xlink:href=\"#m1dba5ca5f6\" x=\"83.057778\" y=\"47.2432\" style=\"fill: #1f77b4; stroke: #1f77b4\"/>\n     <use xlink:href=\"#m1dba5ca5f6\" x=\"120.431686\" y=\"65.359987\" style=\"fill: #1f77b4; stroke: #1f77b4\"/>\n     <use xlink:href=\"#m1dba5ca5f6\" x=\"94.201116\" y=\"45.53326\" style=\"fill: #1f77b4; stroke: #1f77b4\"/>\n     <use xlink:href=\"#m1dba5ca5f6\" x=\"114.165904\" y=\"59.624375\" style=\"fill: #1f77b4; stroke: #1f77b4\"/>\n     <use xlink:href=\"#m1dba5ca5f6\" x=\"164.700887\" y=\"91.311625\" style=\"fill: #1f77b4; stroke: #1f77b4\"/>\n     <use xlink:href=\"#m1dba5ca5f6\" x=\"137.757256\" y=\"68.834306\" style=\"fill: #1f77b4; stroke: #1f77b4\"/>\n     <use xlink:href=\"#m1dba5ca5f6\" x=\"111.706199\" y=\"68.986384\" style=\"fill: #1f77b4; stroke: #1f77b4\"/>\n     <use xlink:href=\"#m1dba5ca5f6\" x=\"104.343016\" y=\"47.064248\" style=\"fill: #1f77b4; stroke: #1f77b4\"/>\n     <use xlink:href=\"#m1dba5ca5f6\" x=\"142.418937\" y=\"75.317723\" style=\"fill: #1f77b4; stroke: #1f77b4\"/>\n     <use xlink:href=\"#m1dba5ca5f6\" x=\"131.451902\" y=\"86.698002\" style=\"fill: #1f77b4; stroke: #1f77b4\"/>\n     <use xlink:href=\"#m1dba5ca5f6\" x=\"149.065036\" y=\"89.256426\" style=\"fill: #1f77b4; stroke: #1f77b4\"/>\n     <use xlink:href=\"#m1dba5ca5f6\" x=\"126.303154\" y=\"70.095754\" style=\"fill: #1f77b4; stroke: #1f77b4\"/>\n     <use xlink:href=\"#m1dba5ca5f6\" x=\"135.68737\" y=\"70.758257\" style=\"fill: #1f77b4; stroke: #1f77b4\"/>\n     <use xlink:href=\"#m1dba5ca5f6\" x=\"159.99488\" y=\"88.336551\" style=\"fill: #1f77b4; stroke: #1f77b4\"/>\n     <use xlink:href=\"#m1dba5ca5f6\" x=\"126.987523\" y=\"70.029291\" style=\"fill: #1f77b4; stroke: #1f77b4\"/>\n     <use xlink:href=\"#m1dba5ca5f6\" x=\"132.577912\" y=\"70.376533\" style=\"fill: #1f77b4; stroke: #1f77b4\"/>\n     <use xlink:href=\"#m1dba5ca5f6\" x=\"169.100369\" y=\"130.082888\" style=\"fill: #1f77b4; stroke: #1f77b4\"/>\n     <use xlink:href=\"#m1dba5ca5f6\" x=\"121.559959\" y=\"90.840047\" style=\"fill: #1f77b4; stroke: #1f77b4\"/>\n     <use xlink:href=\"#m1dba5ca5f6\" x=\"178.80773\" y=\"111.927418\" style=\"fill: #1f77b4; stroke: #1f77b4\"/>\n     <use xlink:href=\"#m1dba5ca5f6\" x=\"98.382753\" y=\"57.420442\" style=\"fill: #1f77b4; stroke: #1f77b4\"/>\n     <use xlink:href=\"#m1dba5ca5f6\" x=\"118.989264\" y=\"58.662282\" style=\"fill: #1f77b4; stroke: #1f77b4\"/>\n     <use xlink:href=\"#m1dba5ca5f6\" x=\"114.252559\" y=\"55.79875\" style=\"fill: #1f77b4; stroke: #1f77b4\"/>\n     <use xlink:href=\"#m1dba5ca5f6\" x=\"208.620621\" y=\"129.032043\" style=\"fill: #1f77b4; stroke: #1f77b4\"/>\n     <use xlink:href=\"#m1dba5ca5f6\" x=\"159.120153\" y=\"85.033144\" style=\"fill: #1f77b4; stroke: #1f77b4\"/>\n     <use xlink:href=\"#m1dba5ca5f6\" x=\"98.425509\" y=\"58.879303\" style=\"fill: #1f77b4; stroke: #1f77b4\"/>\n     <use xlink:href=\"#m1dba5ca5f6\" x=\"121.28705\" y=\"52.907544\" style=\"fill: #1f77b4; stroke: #1f77b4\"/>\n     <use xlink:href=\"#m1dba5ca5f6\" x=\"155.545201\" y=\"88.703961\" style=\"fill: #1f77b4; stroke: #1f77b4\"/>\n     <use xlink:href=\"#m1dba5ca5f6\" x=\"164.636007\" y=\"86.693994\" style=\"fill: #1f77b4; stroke: #1f77b4\"/>\n     <use xlink:href=\"#m1dba5ca5f6\" x=\"123.635889\" y=\"62.637263\" style=\"fill: #1f77b4; stroke: #1f77b4\"/>\n     <use xlink:href=\"#m1dba5ca5f6\" x=\"108.0474\" y=\"47.630789\" style=\"fill: #1f77b4; stroke: #1f77b4\"/>\n     <use xlink:href=\"#m1dba5ca5f6\" x=\"133.977389\" y=\"91.447324\" style=\"fill: #1f77b4; stroke: #1f77b4\"/>\n     <use xlink:href=\"#m1dba5ca5f6\" x=\"184.371685\" y=\"79.614823\" style=\"fill: #1f77b4; stroke: #1f77b4\"/>\n     <use xlink:href=\"#m1dba5ca5f6\" x=\"154.209232\" y=\"95.398244\" style=\"fill: #1f77b4; stroke: #1f77b4\"/>\n     <use xlink:href=\"#m1dba5ca5f6\" x=\"111.962151\" y=\"57.297601\" style=\"fill: #1f77b4; stroke: #1f77b4\"/>\n     <use xlink:href=\"#m1dba5ca5f6\" x=\"172.34668\" y=\"104.837874\" style=\"fill: #1f77b4; stroke: #1f77b4\"/>\n     <use xlink:href=\"#m1dba5ca5f6\" x=\"152.943479\" y=\"83.871087\" style=\"fill: #1f77b4; stroke: #1f77b4\"/>\n     <use xlink:href=\"#m1dba5ca5f6\" x=\"161.774556\" y=\"86.92431\" style=\"fill: #1f77b4; stroke: #1f77b4\"/>\n     <use xlink:href=\"#m1dba5ca5f6\" x=\"152.095453\" y=\"85.328377\" style=\"fill: #1f77b4; stroke: #1f77b4\"/>\n     <use xlink:href=\"#m1dba5ca5f6\" x=\"213.517903\" y=\"132.324933\" style=\"fill: #1f77b4; stroke: #1f77b4\"/>\n     <use xlink:href=\"#m1dba5ca5f6\" x=\"145.164545\" y=\"85.961171\" style=\"fill: #1f77b4; stroke: #1f77b4\"/>\n     <use xlink:href=\"#m1dba5ca5f6\" x=\"168.767661\" y=\"97.110797\" style=\"fill: #1f77b4; stroke: #1f77b4\"/>\n     <use xlink:href=\"#m1dba5ca5f6\" x=\"111.101184\" y=\"58.006828\" style=\"fill: #1f77b4; stroke: #1f77b4\"/>\n     <use xlink:href=\"#m1dba5ca5f6\" x=\"181.735929\" y=\"112.173988\" style=\"fill: #1f77b4; stroke: #1f77b4\"/>\n     <use xlink:href=\"#m1dba5ca5f6\" x=\"168.737368\" y=\"97.904452\" style=\"fill: #1f77b4; stroke: #1f77b4\"/>\n     <use xlink:href=\"#m1dba5ca5f6\" x=\"98.483701\" y=\"49.206817\" style=\"fill: #1f77b4; stroke: #1f77b4\"/>\n     <use xlink:href=\"#m1dba5ca5f6\" x=\"125.856654\" y=\"74.479517\" style=\"fill: #1f77b4; stroke: #1f77b4\"/>\n     <use xlink:href=\"#m1dba5ca5f6\" x=\"155.763324\" y=\"85.927593\" style=\"fill: #1f77b4; stroke: #1f77b4\"/>\n     <use xlink:href=\"#m1dba5ca5f6\" x=\"104.074784\" y=\"48.862544\" style=\"fill: #1f77b4; stroke: #1f77b4\"/>\n     <use xlink:href=\"#m1dba5ca5f6\" x=\"103.866172\" y=\"51.46191\" style=\"fill: #1f77b4; stroke: #1f77b4\"/>\n     <use xlink:href=\"#m1dba5ca5f6\" x=\"141.709489\" y=\"77.76415\" style=\"fill: #1f77b4; stroke: #1f77b4\"/>\n     <use xlink:href=\"#m1dba5ca5f6\" x=\"94.022065\" y=\"47.224939\" style=\"fill: #1f77b4; stroke: #1f77b4\"/>\n     <use xlink:href=\"#m1dba5ca5f6\" x=\"153.911344\" y=\"89.020021\" style=\"fill: #1f77b4; stroke: #1f77b4\"/>\n     <use xlink:href=\"#m1dba5ca5f6\" x=\"140.969309\" y=\"75.459718\" style=\"fill: #1f77b4; stroke: #1f77b4\"/>\n     <use xlink:href=\"#m1dba5ca5f6\" x=\"120.30174\" y=\"38.167859\" style=\"fill: #1f77b4; stroke: #1f77b4\"/>\n     <use xlink:href=\"#m1dba5ca5f6\" x=\"159.323418\" y=\"103.437966\" style=\"fill: #1f77b4; stroke: #1f77b4\"/>\n     <use xlink:href=\"#m1dba5ca5f6\" x=\"155.18072\" y=\"84.960239\" style=\"fill: #1f77b4; stroke: #1f77b4\"/>\n     <use xlink:href=\"#m1dba5ca5f6\" x=\"168.71898\" y=\"85.060531\" style=\"fill: #1f77b4; stroke: #1f77b4\"/>\n     <use xlink:href=\"#m1dba5ca5f6\" x=\"124.940393\" y=\"69.01498\" style=\"fill: #1f77b4; stroke: #1f77b4\"/>\n     <use xlink:href=\"#m1dba5ca5f6\" x=\"148.552844\" y=\"85.142714\" style=\"fill: #1f77b4; stroke: #1f77b4\"/>\n     <use xlink:href=\"#m1dba5ca5f6\" x=\"152.70471\" y=\"85.068993\" style=\"fill: #1f77b4; stroke: #1f77b4\"/>\n     <use xlink:href=\"#m1dba5ca5f6\" x=\"117.930292\" y=\"49.533775\" style=\"fill: #1f77b4; stroke: #1f77b4\"/>\n     <use xlink:href=\"#m1dba5ca5f6\" x=\"146.970784\" y=\"106.714301\" style=\"fill: #1f77b4; stroke: #1f77b4\"/>\n     <use xlink:href=\"#m1dba5ca5f6\" x=\"130.024342\" y=\"75.711821\" style=\"fill: #1f77b4; stroke: #1f77b4\"/>\n     <use xlink:href=\"#m1dba5ca5f6\" x=\"187.092967\" y=\"101.86524\" style=\"fill: #1f77b4; stroke: #1f77b4\"/>\n     <use xlink:href=\"#m1dba5ca5f6\" x=\"149.164369\" y=\"70.859801\" style=\"fill: #1f77b4; stroke: #1f77b4\"/>\n     <use xlink:href=\"#m1dba5ca5f6\" x=\"167.180949\" y=\"99.265243\" style=\"fill: #1f77b4; stroke: #1f77b4\"/>\n     <use xlink:href=\"#m1dba5ca5f6\" x=\"98.452784\" y=\"33.097308\" style=\"fill: #1f77b4; stroke: #1f77b4\"/>\n     <use xlink:href=\"#m1dba5ca5f6\" x=\"105.496596\" y=\"50.397501\" style=\"fill: #1f77b4; stroke: #1f77b4\"/>\n     <use xlink:href=\"#m1dba5ca5f6\" x=\"159.181709\" y=\"104.262298\" style=\"fill: #1f77b4; stroke: #1f77b4\"/>\n     <use xlink:href=\"#m1dba5ca5f6\" x=\"113.479229\" y=\"85.469349\" style=\"fill: #1f77b4; stroke: #1f77b4\"/>\n     <use xlink:href=\"#m1dba5ca5f6\" x=\"161.683401\" y=\"100.46166\" style=\"fill: #1f77b4; stroke: #1f77b4\"/>\n     <use xlink:href=\"#m1dba5ca5f6\" x=\"179.046152\" y=\"106.094487\" style=\"fill: #1f77b4; stroke: #1f77b4\"/>\n     <use xlink:href=\"#m1dba5ca5f6\" x=\"141.020903\" y=\"84.81797\" style=\"fill: #1f77b4; stroke: #1f77b4\"/>\n     <use xlink:href=\"#m1dba5ca5f6\" x=\"174.793223\" y=\"110.127229\" style=\"fill: #1f77b4; stroke: #1f77b4\"/>\n     <use xlink:href=\"#m1dba5ca5f6\" x=\"76.069507\" y=\"42.189279\" style=\"fill: #1f77b4; stroke: #1f77b4\"/>\n     <use xlink:href=\"#m1dba5ca5f6\" x=\"119.729511\" y=\"72.945693\" style=\"fill: #1f77b4; stroke: #1f77b4\"/>\n     <use xlink:href=\"#m1dba5ca5f6\" x=\"100.590473\" y=\"68.376211\" style=\"fill: #1f77b4; stroke: #1f77b4\"/>\n     <use xlink:href=\"#m1dba5ca5f6\" x=\"76.331284\" y=\"37.61071\" style=\"fill: #1f77b4; stroke: #1f77b4\"/>\n     <use xlink:href=\"#m1dba5ca5f6\" x=\"76.095753\" y=\"33.503796\" style=\"fill: #1f77b4; stroke: #1f77b4\"/>\n     <use xlink:href=\"#m1dba5ca5f6\" x=\"120.193416\" y=\"57.999405\" style=\"fill: #1f77b4; stroke: #1f77b4\"/>\n     <use xlink:href=\"#m1dba5ca5f6\" x=\"134.579769\" y=\"86.910801\" style=\"fill: #1f77b4; stroke: #1f77b4\"/>\n     <use xlink:href=\"#m1dba5ca5f6\" x=\"179.947841\" y=\"109.700642\" style=\"fill: #1f77b4; stroke: #1f77b4\"/>\n     <use xlink:href=\"#m1dba5ca5f6\" x=\"132.199956\" y=\"77.029151\" style=\"fill: #1f77b4; stroke: #1f77b4\"/>\n     <use xlink:href=\"#m1dba5ca5f6\" x=\"122.411986\" y=\"80.986706\" style=\"fill: #1f77b4; stroke: #1f77b4\"/>\n     <use xlink:href=\"#m1dba5ca5f6\" x=\"161.193087\" y=\"90.698571\" style=\"fill: #1f77b4; stroke: #1f77b4\"/>\n     <use xlink:href=\"#m1dba5ca5f6\" x=\"195.312035\" y=\"117.169195\" style=\"fill: #1f77b4; stroke: #1f77b4\"/>\n     <use xlink:href=\"#m1dba5ca5f6\" x=\"72.894015\" y=\"28.109042\" style=\"fill: #1f77b4; stroke: #1f77b4\"/>\n     <use xlink:href=\"#m1dba5ca5f6\" x=\"134.767762\" y=\"78.438927\" style=\"fill: #1f77b4; stroke: #1f77b4\"/>\n     <use xlink:href=\"#m1dba5ca5f6\" x=\"37.81946\" y=\"13.5\" style=\"fill: #1f77b4; stroke: #1f77b4\"/>\n     <use xlink:href=\"#m1dba5ca5f6\" x=\"140.83014\" y=\"84.562677\" style=\"fill: #1f77b4; stroke: #1f77b4\"/>\n     <use xlink:href=\"#m1dba5ca5f6\" x=\"157.296879\" y=\"72.676815\" style=\"fill: #1f77b4; stroke: #1f77b4\"/>\n     <use xlink:href=\"#m1dba5ca5f6\" x=\"143.794809\" y=\"80.035701\" style=\"fill: #1f77b4; stroke: #1f77b4\"/>\n     <use xlink:href=\"#m1dba5ca5f6\" x=\"142.747534\" y=\"59.666808\" style=\"fill: #1f77b4; stroke: #1f77b4\"/>\n     <use xlink:href=\"#m1dba5ca5f6\" x=\"143.753045\" y=\"78.597837\" style=\"fill: #1f77b4; stroke: #1f77b4\"/>\n     <use xlink:href=\"#m1dba5ca5f6\" x=\"143.37\" y=\"100.54678\" style=\"fill: #1f77b4; stroke: #1f77b4\"/>\n     <use xlink:href=\"#m1dba5ca5f6\" x=\"133.866611\" y=\"78.866112\" style=\"fill: #1f77b4; stroke: #1f77b4\"/>\n     <use xlink:href=\"#m1dba5ca5f6\" x=\"193.180464\" y=\"112.093571\" style=\"fill: #1f77b4; stroke: #1f77b4\"/>\n     <use xlink:href=\"#m1dba5ca5f6\" x=\"149.920101\" y=\"90.595757\" style=\"fill: #1f77b4; stroke: #1f77b4\"/>\n     <use xlink:href=\"#m1dba5ca5f6\" x=\"132.140075\" y=\"60.48926\" style=\"fill: #1f77b4; stroke: #1f77b4\"/>\n     <use xlink:href=\"#m1dba5ca5f6\" x=\"89.670173\" y=\"54.309982\" style=\"fill: #1f77b4; stroke: #1f77b4\"/>\n     <use xlink:href=\"#m1dba5ca5f6\" x=\"131.198053\" y=\"61.811591\" style=\"fill: #1f77b4; stroke: #1f77b4\"/>\n     <use xlink:href=\"#m1dba5ca5f6\" x=\"142.664208\" y=\"104.922827\" style=\"fill: #1f77b4; stroke: #1f77b4\"/>\n     <use xlink:href=\"#m1dba5ca5f6\" x=\"161.168193\" y=\"86.26478\" style=\"fill: #1f77b4; stroke: #1f77b4\"/>\n     <use xlink:href=\"#m1dba5ca5f6\" x=\"147.793892\" y=\"75.086213\" style=\"fill: #1f77b4; stroke: #1f77b4\"/>\n     <use xlink:href=\"#m1dba5ca5f6\" x=\"209.260587\" y=\"117.761529\" style=\"fill: #1f77b4; stroke: #1f77b4\"/>\n     <use xlink:href=\"#m1dba5ca5f6\" x=\"176.731503\" y=\"103.95113\" style=\"fill: #1f77b4; stroke: #1f77b4\"/>\n     <use xlink:href=\"#m1dba5ca5f6\" x=\"85.977051\" y=\"50.677158\" style=\"fill: #1f77b4; stroke: #1f77b4\"/>\n     <use xlink:href=\"#m1dba5ca5f6\" x=\"142.764661\" y=\"78.445241\" style=\"fill: #1f77b4; stroke: #1f77b4\"/>\n     <use xlink:href=\"#m1dba5ca5f6\" x=\"166.667905\" y=\"116.234276\" style=\"fill: #1f77b4; stroke: #1f77b4\"/>\n     <use xlink:href=\"#m1dba5ca5f6\" x=\"159.95332\" y=\"94.752853\" style=\"fill: #1f77b4; stroke: #1f77b4\"/>\n     <use xlink:href=\"#m1dba5ca5f6\" x=\"120.781851\" y=\"64.754562\" style=\"fill: #1f77b4; stroke: #1f77b4\"/>\n     <use xlink:href=\"#m1dba5ca5f6\" x=\"175.251797\" y=\"95.566851\" style=\"fill: #1f77b4; stroke: #1f77b4\"/>\n     <use xlink:href=\"#m1dba5ca5f6\" x=\"149.370458\" y=\"88.736672\" style=\"fill: #1f77b4; stroke: #1f77b4\"/>\n     <use xlink:href=\"#m1dba5ca5f6\" x=\"112.34108\" y=\"53.408109\" style=\"fill: #1f77b4; stroke: #1f77b4\"/>\n     <use xlink:href=\"#m1dba5ca5f6\" x=\"170.985493\" y=\"100.49003\" style=\"fill: #1f77b4; stroke: #1f77b4\"/>\n     <use xlink:href=\"#m1dba5ca5f6\" x=\"112.638624\" y=\"73.268661\" style=\"fill: #1f77b4; stroke: #1f77b4\"/>\n     <use xlink:href=\"#m1dba5ca5f6\" x=\"117.667653\" y=\"71.241626\" style=\"fill: #1f77b4; stroke: #1f77b4\"/>\n     <use xlink:href=\"#m1dba5ca5f6\" x=\"164.828211\" y=\"90.730527\" style=\"fill: #1f77b4; stroke: #1f77b4\"/>\n     <use xlink:href=\"#m1dba5ca5f6\" x=\"140.941567\" y=\"81.225154\" style=\"fill: #1f77b4; stroke: #1f77b4\"/>\n     <use xlink:href=\"#m1dba5ca5f6\" x=\"189.70956\" y=\"120.355353\" style=\"fill: #1f77b4; stroke: #1f77b4\"/>\n     <use xlink:href=\"#m1dba5ca5f6\" x=\"103.722431\" y=\"64.578311\" style=\"fill: #1f77b4; stroke: #1f77b4\"/>\n     <use xlink:href=\"#m1dba5ca5f6\" x=\"147.495964\" y=\"76.396125\" style=\"fill: #1f77b4; stroke: #1f77b4\"/>\n     <use xlink:href=\"#m1dba5ca5f6\" x=\"107.117267\" y=\"63.667445\" style=\"fill: #1f77b4; stroke: #1f77b4\"/>\n     <use xlink:href=\"#m1dba5ca5f6\" x=\"157.609591\" y=\"94.876361\" style=\"fill: #1f77b4; stroke: #1f77b4\"/>\n     <use xlink:href=\"#m1dba5ca5f6\" x=\"106.147111\" y=\"63.788702\" style=\"fill: #1f77b4; stroke: #1f77b4\"/>\n     <use xlink:href=\"#m1dba5ca5f6\" x=\"120.069139\" y=\"68.978457\" style=\"fill: #1f77b4; stroke: #1f77b4\"/>\n     <use xlink:href=\"#m1dba5ca5f6\" x=\"149.225397\" y=\"72.549595\" style=\"fill: #1f77b4; stroke: #1f77b4\"/>\n     <use xlink:href=\"#m1dba5ca5f6\" x=\"102.326033\" y=\"82.414345\" style=\"fill: #1f77b4; stroke: #1f77b4\"/>\n     <use xlink:href=\"#m1dba5ca5f6\" x=\"142.267341\" y=\"94.939225\" style=\"fill: #1f77b4; stroke: #1f77b4\"/>\n     <use xlink:href=\"#m1dba5ca5f6\" x=\"130.104132\" y=\"78.340313\" style=\"fill: #1f77b4; stroke: #1f77b4\"/>\n     <use xlink:href=\"#m1dba5ca5f6\" x=\"133.648232\" y=\"65.14093\" style=\"fill: #1f77b4; stroke: #1f77b4\"/>\n     <use xlink:href=\"#m1dba5ca5f6\" x=\"142.513936\" y=\"68.705779\" style=\"fill: #1f77b4; stroke: #1f77b4\"/>\n     <use xlink:href=\"#m1dba5ca5f6\" x=\"117.801991\" y=\"58.938302\" style=\"fill: #1f77b4; stroke: #1f77b4\"/>\n     <use xlink:href=\"#m1dba5ca5f6\" x=\"172.334399\" y=\"111.869587\" style=\"fill: #1f77b4; stroke: #1f77b4\"/>\n     <use xlink:href=\"#m1dba5ca5f6\" x=\"173.341997\" y=\"124.111847\" style=\"fill: #1f77b4; stroke: #1f77b4\"/>\n     <use xlink:href=\"#m1dba5ca5f6\" x=\"130.404139\" y=\"46.569455\" style=\"fill: #1f77b4; stroke: #1f77b4\"/>\n     <use xlink:href=\"#m1dba5ca5f6\" x=\"112.126429\" y=\"54.459\" style=\"fill: #1f77b4; stroke: #1f77b4\"/>\n     <use xlink:href=\"#m1dba5ca5f6\" x=\"106.595717\" y=\"65.28173\" style=\"fill: #1f77b4; stroke: #1f77b4\"/>\n     <use xlink:href=\"#m1dba5ca5f6\" x=\"85.887902\" y=\"60.71444\" style=\"fill: #1f77b4; stroke: #1f77b4\"/>\n     <use xlink:href=\"#m1dba5ca5f6\" x=\"134.748984\" y=\"83.261929\" style=\"fill: #1f77b4; stroke: #1f77b4\"/>\n     <use xlink:href=\"#m1dba5ca5f6\" x=\"137.403354\" y=\"81.709491\" style=\"fill: #1f77b4; stroke: #1f77b4\"/>\n     <use xlink:href=\"#m1dba5ca5f6\" x=\"131.652415\" y=\"72.658897\" style=\"fill: #1f77b4; stroke: #1f77b4\"/>\n     <use xlink:href=\"#m1dba5ca5f6\" x=\"152.05841\" y=\"112.201712\" style=\"fill: #1f77b4; stroke: #1f77b4\"/>\n     <use xlink:href=\"#m1dba5ca5f6\" x=\"115.440465\" y=\"57.485723\" style=\"fill: #1f77b4; stroke: #1f77b4\"/>\n     <use xlink:href=\"#m1dba5ca5f6\" x=\"113.603785\" y=\"57.172184\" style=\"fill: #1f77b4; stroke: #1f77b4\"/>\n     <use xlink:href=\"#m1dba5ca5f6\" x=\"118.393199\" y=\"74.229575\" style=\"fill: #1f77b4; stroke: #1f77b4\"/>\n     <use xlink:href=\"#m1dba5ca5f6\" x=\"168.355221\" y=\"100.085699\" style=\"fill: #1f77b4; stroke: #1f77b4\"/>\n     <use xlink:href=\"#m1dba5ca5f6\" x=\"196.181327\" y=\"132.838254\" style=\"fill: #1f77b4; stroke: #1f77b4\"/>\n     <use xlink:href=\"#m1dba5ca5f6\" x=\"110.882881\" y=\"61.223438\" style=\"fill: #1f77b4; stroke: #1f77b4\"/>\n     <use xlink:href=\"#m1dba5ca5f6\" x=\"158.401748\" y=\"91.875315\" style=\"fill: #1f77b4; stroke: #1f77b4\"/>\n     <use xlink:href=\"#m1dba5ca5f6\" x=\"125.196836\" y=\"57.735504\" style=\"fill: #1f77b4; stroke: #1f77b4\"/>\n     <use xlink:href=\"#m1dba5ca5f6\" x=\"154.327388\" y=\"85.839615\" style=\"fill: #1f77b4; stroke: #1f77b4\"/>\n     <use xlink:href=\"#m1dba5ca5f6\" x=\"169.34886\" y=\"95.90714\" style=\"fill: #1f77b4; stroke: #1f77b4\"/>\n     <use xlink:href=\"#m1dba5ca5f6\" x=\"164.71666\" y=\"115.117774\" style=\"fill: #1f77b4; stroke: #1f77b4\"/>\n     <use xlink:href=\"#m1dba5ca5f6\" x=\"166.058861\" y=\"104.999928\" style=\"fill: #1f77b4; stroke: #1f77b4\"/>\n     <use xlink:href=\"#m1dba5ca5f6\" x=\"141.316905\" y=\"84.213179\" style=\"fill: #1f77b4; stroke: #1f77b4\"/>\n     <use xlink:href=\"#m1dba5ca5f6\" x=\"149.679779\" y=\"91.598338\" style=\"fill: #1f77b4; stroke: #1f77b4\"/>\n     <use xlink:href=\"#m1dba5ca5f6\" x=\"149.347508\" y=\"87.332417\" style=\"fill: #1f77b4; stroke: #1f77b4\"/>\n     <use xlink:href=\"#m1dba5ca5f6\" x=\"192.506491\" y=\"113.92889\" style=\"fill: #1f77b4; stroke: #1f77b4\"/>\n     <use xlink:href=\"#m1dba5ca5f6\" x=\"113.037581\" y=\"75.759428\" style=\"fill: #1f77b4; stroke: #1f77b4\"/>\n     <use xlink:href=\"#m1dba5ca5f6\" x=\"106.029434\" y=\"61.426516\" style=\"fill: #1f77b4; stroke: #1f77b4\"/>\n     <use xlink:href=\"#m1dba5ca5f6\" x=\"155.93679\" y=\"100.257875\" style=\"fill: #1f77b4; stroke: #1f77b4\"/>\n     <use xlink:href=\"#m1dba5ca5f6\" x=\"83.195555\" y=\"66.262128\" style=\"fill: #1f77b4; stroke: #1f77b4\"/>\n     <use xlink:href=\"#m1dba5ca5f6\" x=\"102.570219\" y=\"63.211794\" style=\"fill: #1f77b4; stroke: #1f77b4\"/>\n     <use xlink:href=\"#m1dba5ca5f6\" x=\"141.201431\" y=\"87.877836\" style=\"fill: #1f77b4; stroke: #1f77b4\"/>\n     <use xlink:href=\"#m1dba5ca5f6\" x=\"135.180426\" y=\"71.036265\" style=\"fill: #1f77b4; stroke: #1f77b4\"/>\n     <use xlink:href=\"#m1dba5ca5f6\" x=\"147.587744\" y=\"79.271545\" style=\"fill: #1f77b4; stroke: #1f77b4\"/>\n     <use xlink:href=\"#m1dba5ca5f6\" x=\"109.002081\" y=\"58.895761\" style=\"fill: #1f77b4; stroke: #1f77b4\"/>\n     <use xlink:href=\"#m1dba5ca5f6\" x=\"146.133912\" y=\"81.068037\" style=\"fill: #1f77b4; stroke: #1f77b4\"/>\n     <use xlink:href=\"#m1dba5ca5f6\" x=\"136.948335\" y=\"69.782814\" style=\"fill: #1f77b4; stroke: #1f77b4\"/>\n     <use xlink:href=\"#m1dba5ca5f6\" x=\"157.53312\" y=\"79.847551\" style=\"fill: #1f77b4; stroke: #1f77b4\"/>\n     <use xlink:href=\"#m1dba5ca5f6\" x=\"167.332805\" y=\"96.240961\" style=\"fill: #1f77b4; stroke: #1f77b4\"/>\n     <use xlink:href=\"#m1dba5ca5f6\" x=\"164.019314\" y=\"110.864598\" style=\"fill: #1f77b4; stroke: #1f77b4\"/>\n     <use xlink:href=\"#m1dba5ca5f6\" x=\"100.001611\" y=\"48.418309\" style=\"fill: #1f77b4; stroke: #1f77b4\"/>\n     <use xlink:href=\"#m1dba5ca5f6\" x=\"100.914248\" y=\"58.801025\" style=\"fill: #1f77b4; stroke: #1f77b4\"/>\n     <use xlink:href=\"#m1dba5ca5f6\" x=\"149.933861\" y=\"92.450279\" style=\"fill: #1f77b4; stroke: #1f77b4\"/>\n     <use xlink:href=\"#m1dba5ca5f6\" x=\"146.048264\" y=\"84.61299\" style=\"fill: #1f77b4; stroke: #1f77b4\"/>\n     <use xlink:href=\"#m1dba5ca5f6\" x=\"136.610177\" y=\"62.25768\" style=\"fill: #1f77b4; stroke: #1f77b4\"/>\n     <use xlink:href=\"#m1dba5ca5f6\" x=\"116.38906\" y=\"59.712093\" style=\"fill: #1f77b4; stroke: #1f77b4\"/>\n     <use xlink:href=\"#m1dba5ca5f6\" x=\"155.677734\" y=\"86.147343\" style=\"fill: #1f77b4; stroke: #1f77b4\"/>\n     <use xlink:href=\"#m1dba5ca5f6\" x=\"157.973541\" y=\"102.692796\" style=\"fill: #1f77b4; stroke: #1f77b4\"/>\n     <use xlink:href=\"#m1dba5ca5f6\" x=\"114.921462\" y=\"67.674358\" style=\"fill: #1f77b4; stroke: #1f77b4\"/>\n     <use xlink:href=\"#m1dba5ca5f6\" x=\"186.11571\" y=\"119.889444\" style=\"fill: #1f77b4; stroke: #1f77b4\"/>\n     <use xlink:href=\"#m1dba5ca5f6\" x=\"112.906645\" y=\"70.23419\" style=\"fill: #1f77b4; stroke: #1f77b4\"/>\n     <use xlink:href=\"#m1dba5ca5f6\" x=\"163.248251\" y=\"76.402579\" style=\"fill: #1f77b4; stroke: #1f77b4\"/>\n     <use xlink:href=\"#m1dba5ca5f6\" x=\"161.126421\" y=\"91.555171\" style=\"fill: #1f77b4; stroke: #1f77b4\"/>\n     <use xlink:href=\"#m1dba5ca5f6\" x=\"168.975075\" y=\"119.419563\" style=\"fill: #1f77b4; stroke: #1f77b4\"/>\n     <use xlink:href=\"#m1dba5ca5f6\" x=\"68.685691\" y=\"60.553847\" style=\"fill: #1f77b4; stroke: #1f77b4\"/>\n     <use xlink:href=\"#m1dba5ca5f6\" x=\"105.924164\" y=\"55.260387\" style=\"fill: #1f77b4; stroke: #1f77b4\"/>\n     <use xlink:href=\"#m1dba5ca5f6\" x=\"131.912291\" y=\"85.851133\" style=\"fill: #1f77b4; stroke: #1f77b4\"/>\n     <use xlink:href=\"#m1dba5ca5f6\" x=\"77.597264\" y=\"36.473951\" style=\"fill: #1f77b4; stroke: #1f77b4\"/>\n     <use xlink:href=\"#m1dba5ca5f6\" x=\"144.354971\" y=\"102.709976\" style=\"fill: #1f77b4; stroke: #1f77b4\"/>\n     <use xlink:href=\"#m1dba5ca5f6\" x=\"119.777073\" y=\"64.889528\" style=\"fill: #1f77b4; stroke: #1f77b4\"/>\n     <use xlink:href=\"#m1dba5ca5f6\" x=\"148.996116\" y=\"101.508953\" style=\"fill: #1f77b4; stroke: #1f77b4\"/>\n     <use xlink:href=\"#m1dba5ca5f6\" x=\"163.858254\" y=\"86.923892\" style=\"fill: #1f77b4; stroke: #1f77b4\"/>\n     <use xlink:href=\"#m1dba5ca5f6\" x=\"182.778423\" y=\"113.376065\" style=\"fill: #1f77b4; stroke: #1f77b4\"/>\n     <use xlink:href=\"#m1dba5ca5f6\" x=\"93.601329\" y=\"49.052048\" style=\"fill: #1f77b4; stroke: #1f77b4\"/>\n     <use xlink:href=\"#m1dba5ca5f6\" x=\"128.242055\" y=\"78.23527\" style=\"fill: #1f77b4; stroke: #1f77b4\"/>\n     <use xlink:href=\"#m1dba5ca5f6\" x=\"144.06935\" y=\"105.168829\" style=\"fill: #1f77b4; stroke: #1f77b4\"/>\n     <use xlink:href=\"#m1dba5ca5f6\" x=\"104.636129\" y=\"56.684425\" style=\"fill: #1f77b4; stroke: #1f77b4\"/>\n     <use xlink:href=\"#m1dba5ca5f6\" x=\"162.754706\" y=\"93.429157\" style=\"fill: #1f77b4; stroke: #1f77b4\"/>\n     <use xlink:href=\"#m1dba5ca5f6\" x=\"129.326641\" y=\"70.96934\" style=\"fill: #1f77b4; stroke: #1f77b4\"/>\n     <use xlink:href=\"#m1dba5ca5f6\" x=\"164.143155\" y=\"99.08433\" style=\"fill: #1f77b4; stroke: #1f77b4\"/>\n     <use xlink:href=\"#m1dba5ca5f6\" x=\"166.482067\" y=\"107.791426\" style=\"fill: #1f77b4; stroke: #1f77b4\"/>\n     <use xlink:href=\"#m1dba5ca5f6\" x=\"106.730123\" y=\"58.70339\" style=\"fill: #1f77b4; stroke: #1f77b4\"/>\n     <use xlink:href=\"#m1dba5ca5f6\" x=\"152.136833\" y=\"102.783051\" style=\"fill: #1f77b4; stroke: #1f77b4\"/>\n     <use xlink:href=\"#m1dba5ca5f6\" x=\"147.592684\" y=\"74.16857\" style=\"fill: #1f77b4; stroke: #1f77b4\"/>\n     <use xlink:href=\"#m1dba5ca5f6\" x=\"180.269055\" y=\"93.662926\" style=\"fill: #1f77b4; stroke: #1f77b4\"/>\n     <use xlink:href=\"#m1dba5ca5f6\" x=\"163.630948\" y=\"87.317156\" style=\"fill: #1f77b4; stroke: #1f77b4\"/>\n     <use xlink:href=\"#m1dba5ca5f6\" x=\"131.834538\" y=\"97.424788\" style=\"fill: #1f77b4; stroke: #1f77b4\"/>\n     <use xlink:href=\"#m1dba5ca5f6\" x=\"120.895544\" y=\"53.614844\" style=\"fill: #1f77b4; stroke: #1f77b4\"/>\n     <use xlink:href=\"#m1dba5ca5f6\" x=\"148.930124\" y=\"71.236768\" style=\"fill: #1f77b4; stroke: #1f77b4\"/>\n     <use xlink:href=\"#m1dba5ca5f6\" x=\"181.672531\" y=\"118.723483\" style=\"fill: #1f77b4; stroke: #1f77b4\"/>\n     <use xlink:href=\"#m1dba5ca5f6\" x=\"162.902448\" y=\"95.942482\" style=\"fill: #1f77b4; stroke: #1f77b4\"/>\n     <use xlink:href=\"#m1dba5ca5f6\" x=\"192.707752\" y=\"126.866545\" style=\"fill: #1f77b4; stroke: #1f77b4\"/>\n     <use xlink:href=\"#m1dba5ca5f6\" x=\"105.48425\" y=\"50.025643\" style=\"fill: #1f77b4; stroke: #1f77b4\"/>\n     <use xlink:href=\"#m1dba5ca5f6\" x=\"105.437584\" y=\"62.779671\" style=\"fill: #1f77b4; stroke: #1f77b4\"/>\n     <use xlink:href=\"#m1dba5ca5f6\" x=\"149.498139\" y=\"68.082038\" style=\"fill: #1f77b4; stroke: #1f77b4\"/>\n     <use xlink:href=\"#m1dba5ca5f6\" x=\"169.546068\" y=\"114.099633\" style=\"fill: #1f77b4; stroke: #1f77b4\"/>\n     <use xlink:href=\"#m1dba5ca5f6\" x=\"115.680329\" y=\"83.362286\" style=\"fill: #1f77b4; stroke: #1f77b4\"/>\n     <use xlink:href=\"#m1dba5ca5f6\" x=\"125.691413\" y=\"69.383116\" style=\"fill: #1f77b4; stroke: #1f77b4\"/>\n     <use xlink:href=\"#m1dba5ca5f6\" x=\"125.785609\" y=\"69.018045\" style=\"fill: #1f77b4; stroke: #1f77b4\"/>\n     <use xlink:href=\"#m1dba5ca5f6\" x=\"172.538207\" y=\"117.646396\" style=\"fill: #1f77b4; stroke: #1f77b4\"/>\n     <use xlink:href=\"#m1dba5ca5f6\" x=\"146.651692\" y=\"75.388453\" style=\"fill: #1f77b4; stroke: #1f77b4\"/>\n     <use xlink:href=\"#m1dba5ca5f6\" x=\"179.922855\" y=\"109.986586\" style=\"fill: #1f77b4; stroke: #1f77b4\"/>\n     <use xlink:href=\"#m1dba5ca5f6\" x=\"127.22613\" y=\"80.179709\" style=\"fill: #1f77b4; stroke: #1f77b4\"/>\n     <use xlink:href=\"#m1dba5ca5f6\" x=\"132.936679\" y=\"64.153799\" style=\"fill: #1f77b4; stroke: #1f77b4\"/>\n     <use xlink:href=\"#m1dba5ca5f6\" x=\"150.530086\" y=\"98.406161\" style=\"fill: #1f77b4; stroke: #1f77b4\"/>\n     <use xlink:href=\"#m1dba5ca5f6\" x=\"145.84819\" y=\"93.259733\" style=\"fill: #1f77b4; stroke: #1f77b4\"/>\n     <use xlink:href=\"#m1dba5ca5f6\" x=\"108.805975\" y=\"66.115517\" style=\"fill: #1f77b4; stroke: #1f77b4\"/>\n     <use xlink:href=\"#m1dba5ca5f6\" x=\"127.084411\" y=\"52.104319\" style=\"fill: #1f77b4; stroke: #1f77b4\"/>\n     <use xlink:href=\"#m1dba5ca5f6\" x=\"139.794238\" y=\"91.299927\" style=\"fill: #1f77b4; stroke: #1f77b4\"/>\n     <use xlink:href=\"#m1dba5ca5f6\" x=\"143.620564\" y=\"84.909816\" style=\"fill: #1f77b4; stroke: #1f77b4\"/>\n     <use xlink:href=\"#m1dba5ca5f6\" x=\"185.418966\" y=\"110.73898\" style=\"fill: #1f77b4; stroke: #1f77b4\"/>\n     <use xlink:href=\"#m1dba5ca5f6\" x=\"151.963412\" y=\"81.436817\" style=\"fill: #1f77b4; stroke: #1f77b4\"/>\n     <use xlink:href=\"#m1dba5ca5f6\" x=\"65.546773\" y=\"22.442084\" style=\"fill: #1f77b4; stroke: #1f77b4\"/>\n     <use xlink:href=\"#m1dba5ca5f6\" x=\"132.169181\" y=\"61.264022\" style=\"fill: #1f77b4; stroke: #1f77b4\"/>\n     <use xlink:href=\"#m1dba5ca5f6\" x=\"169.174585\" y=\"86.973936\" style=\"fill: #1f77b4; stroke: #1f77b4\"/>\n     <use xlink:href=\"#m1dba5ca5f6\" x=\"128.371737\" y=\"71.426646\" style=\"fill: #1f77b4; stroke: #1f77b4\"/>\n     <use xlink:href=\"#m1dba5ca5f6\" x=\"121.036495\" y=\"73.539468\" style=\"fill: #1f77b4; stroke: #1f77b4\"/>\n     <use xlink:href=\"#m1dba5ca5f6\" x=\"133.79521\" y=\"69.545255\" style=\"fill: #1f77b4; stroke: #1f77b4\"/>\n     <use xlink:href=\"#m1dba5ca5f6\" x=\"67.278048\" y=\"32.980826\" style=\"fill: #1f77b4; stroke: #1f77b4\"/>\n     <use xlink:href=\"#m1dba5ca5f6\" x=\"142.579005\" y=\"88.887655\" style=\"fill: #1f77b4; stroke: #1f77b4\"/>\n     <use xlink:href=\"#m1dba5ca5f6\" x=\"133.912033\" y=\"74.373209\" style=\"fill: #1f77b4; stroke: #1f77b4\"/>\n     <use xlink:href=\"#m1dba5ca5f6\" x=\"126.543317\" y=\"85.609401\" style=\"fill: #1f77b4; stroke: #1f77b4\"/>\n     <use xlink:href=\"#m1dba5ca5f6\" x=\"140.924558\" y=\"72.745766\" style=\"fill: #1f77b4; stroke: #1f77b4\"/>\n     <use xlink:href=\"#m1dba5ca5f6\" x=\"161.10793\" y=\"96.146863\" style=\"fill: #1f77b4; stroke: #1f77b4\"/>\n     <use xlink:href=\"#m1dba5ca5f6\" x=\"118.993868\" y=\"85.226585\" style=\"fill: #1f77b4; stroke: #1f77b4\"/>\n     <use xlink:href=\"#m1dba5ca5f6\" x=\"129.346188\" y=\"75.091008\" style=\"fill: #1f77b4; stroke: #1f77b4\"/>\n     <use xlink:href=\"#m1dba5ca5f6\" x=\"157.824515\" y=\"92.142825\" style=\"fill: #1f77b4; stroke: #1f77b4\"/>\n     <use xlink:href=\"#m1dba5ca5f6\" x=\"173.223389\" y=\"105.397526\" style=\"fill: #1f77b4; stroke: #1f77b4\"/>\n     <use xlink:href=\"#m1dba5ca5f6\" x=\"141.143963\" y=\"90.447363\" style=\"fill: #1f77b4; stroke: #1f77b4\"/>\n     <use xlink:href=\"#m1dba5ca5f6\" x=\"150.189115\" y=\"79.119913\" style=\"fill: #1f77b4; stroke: #1f77b4\"/>\n     <use xlink:href=\"#m1dba5ca5f6\" x=\"117.873839\" y=\"74.26075\" style=\"fill: #1f77b4; stroke: #1f77b4\"/>\n     <use xlink:href=\"#m1dba5ca5f6\" x=\"118.797808\" y=\"63.621937\" style=\"fill: #1f77b4; stroke: #1f77b4\"/>\n     <use xlink:href=\"#m1dba5ca5f6\" x=\"116.68903\" y=\"46.841076\" style=\"fill: #1f77b4; stroke: #1f77b4\"/>\n     <use xlink:href=\"#m1dba5ca5f6\" x=\"155.643006\" y=\"96.001576\" style=\"fill: #1f77b4; stroke: #1f77b4\"/>\n     <use xlink:href=\"#m1dba5ca5f6\" x=\"123.534288\" y=\"66.929535\" style=\"fill: #1f77b4; stroke: #1f77b4\"/>\n     <use xlink:href=\"#m1dba5ca5f6\" x=\"152.229987\" y=\"103.446305\" style=\"fill: #1f77b4; stroke: #1f77b4\"/>\n     <use xlink:href=\"#m1dba5ca5f6\" x=\"136.924748\" y=\"68.908132\" style=\"fill: #1f77b4; stroke: #1f77b4\"/>\n     <use xlink:href=\"#m1dba5ca5f6\" x=\"175.228444\" y=\"101.436115\" style=\"fill: #1f77b4; stroke: #1f77b4\"/>\n     <use xlink:href=\"#m1dba5ca5f6\" x=\"177.799296\" y=\"115.837765\" style=\"fill: #1f77b4; stroke: #1f77b4\"/>\n     <use xlink:href=\"#m1dba5ca5f6\" x=\"148.183112\" y=\"94.517007\" style=\"fill: #1f77b4; stroke: #1f77b4\"/>\n     <use xlink:href=\"#m1dba5ca5f6\" x=\"121.48\" y=\"81.741124\" style=\"fill: #1f77b4; stroke: #1f77b4\"/>\n     <use xlink:href=\"#m1dba5ca5f6\" x=\"125.034176\" y=\"86.687351\" style=\"fill: #1f77b4; stroke: #1f77b4\"/>\n     <use xlink:href=\"#m1dba5ca5f6\" x=\"104.491365\" y=\"44.919195\" style=\"fill: #1f77b4; stroke: #1f77b4\"/>\n     <use xlink:href=\"#m1dba5ca5f6\" x=\"113.60593\" y=\"67.169082\" style=\"fill: #1f77b4; stroke: #1f77b4\"/>\n     <use xlink:href=\"#m1dba5ca5f6\" x=\"126.182697\" y=\"51.375803\" style=\"fill: #1f77b4; stroke: #1f77b4\"/>\n     <use xlink:href=\"#m1dba5ca5f6\" x=\"164.23493\" y=\"105.61164\" style=\"fill: #1f77b4; stroke: #1f77b4\"/>\n     <use xlink:href=\"#m1dba5ca5f6\" x=\"118.399485\" y=\"66.741941\" style=\"fill: #1f77b4; stroke: #1f77b4\"/>\n     <use xlink:href=\"#m1dba5ca5f6\" x=\"127.87006\" y=\"88.287901\" style=\"fill: #1f77b4; stroke: #1f77b4\"/>\n     <use xlink:href=\"#m1dba5ca5f6\" x=\"128.160886\" y=\"52.835562\" style=\"fill: #1f77b4; stroke: #1f77b4\"/>\n     <use xlink:href=\"#m1dba5ca5f6\" x=\"103.204607\" y=\"39.050552\" style=\"fill: #1f77b4; stroke: #1f77b4\"/>\n     <use xlink:href=\"#m1dba5ca5f6\" x=\"132.935002\" y=\"65.956997\" style=\"fill: #1f77b4; stroke: #1f77b4\"/>\n     <use xlink:href=\"#m1dba5ca5f6\" x=\"123.613253\" y=\"79.203686\" style=\"fill: #1f77b4; stroke: #1f77b4\"/>\n     <use xlink:href=\"#m1dba5ca5f6\" x=\"154.948425\" y=\"78.928036\" style=\"fill: #1f77b4; stroke: #1f77b4\"/>\n     <use xlink:href=\"#m1dba5ca5f6\" x=\"151.677766\" y=\"97.292504\" style=\"fill: #1f77b4; stroke: #1f77b4\"/>\n     <use xlink:href=\"#m1dba5ca5f6\" x=\"167.346637\" y=\"84.446853\" style=\"fill: #1f77b4; stroke: #1f77b4\"/>\n     <use xlink:href=\"#m1dba5ca5f6\" x=\"159.035342\" y=\"89.982812\" style=\"fill: #1f77b4; stroke: #1f77b4\"/>\n     <use xlink:href=\"#m1dba5ca5f6\" x=\"127.793227\" y=\"75.942588\" style=\"fill: #1f77b4; stroke: #1f77b4\"/>\n     <use xlink:href=\"#m1dba5ca5f6\" x=\"136.840192\" y=\"67.078774\" style=\"fill: #1f77b4; stroke: #1f77b4\"/>\n     <use xlink:href=\"#m1dba5ca5f6\" x=\"110.724148\" y=\"60.233622\" style=\"fill: #1f77b4; stroke: #1f77b4\"/>\n     <use xlink:href=\"#m1dba5ca5f6\" x=\"173.3825\" y=\"97.137755\" style=\"fill: #1f77b4; stroke: #1f77b4\"/>\n     <use xlink:href=\"#m1dba5ca5f6\" x=\"171.637913\" y=\"87.942958\" style=\"fill: #1f77b4; stroke: #1f77b4\"/>\n     <use xlink:href=\"#m1dba5ca5f6\" x=\"128.351981\" y=\"63.136599\" style=\"fill: #1f77b4; stroke: #1f77b4\"/>\n     <use xlink:href=\"#m1dba5ca5f6\" x=\"109.494981\" y=\"42.463221\" style=\"fill: #1f77b4; stroke: #1f77b4\"/>\n     <use xlink:href=\"#m1dba5ca5f6\" x=\"139.710572\" y=\"80.213493\" style=\"fill: #1f77b4; stroke: #1f77b4\"/>\n     <use xlink:href=\"#m1dba5ca5f6\" x=\"142.042741\" y=\"69.628577\" style=\"fill: #1f77b4; stroke: #1f77b4\"/>\n     <use xlink:href=\"#m1dba5ca5f6\" x=\"140.488294\" y=\"95.182622\" style=\"fill: #1f77b4; stroke: #1f77b4\"/>\n     <use xlink:href=\"#m1dba5ca5f6\" x=\"183.253617\" y=\"114.070066\" style=\"fill: #1f77b4; stroke: #1f77b4\"/>\n     <use xlink:href=\"#m1dba5ca5f6\" x=\"137.925673\" y=\"83.51879\" style=\"fill: #1f77b4; stroke: #1f77b4\"/>\n     <use xlink:href=\"#m1dba5ca5f6\" x=\"161.044957\" y=\"84.26336\" style=\"fill: #1f77b4; stroke: #1f77b4\"/>\n     <use xlink:href=\"#m1dba5ca5f6\" x=\"166.55706\" y=\"99.836733\" style=\"fill: #1f77b4; stroke: #1f77b4\"/>\n     <use xlink:href=\"#m1dba5ca5f6\" x=\"87.105664\" y=\"34.077538\" style=\"fill: #1f77b4; stroke: #1f77b4\"/>\n     <use xlink:href=\"#m1dba5ca5f6\" x=\"119.35098\" y=\"84.135489\" style=\"fill: #1f77b4; stroke: #1f77b4\"/>\n     <use xlink:href=\"#m1dba5ca5f6\" x=\"151.417498\" y=\"91.146934\" style=\"fill: #1f77b4; stroke: #1f77b4\"/>\n     <use xlink:href=\"#m1dba5ca5f6\" x=\"173.727404\" y=\"98.452305\" style=\"fill: #1f77b4; stroke: #1f77b4\"/>\n     <use xlink:href=\"#m1dba5ca5f6\" x=\"138.570093\" y=\"54.632856\" style=\"fill: #1f77b4; stroke: #1f77b4\"/>\n     <use xlink:href=\"#m1dba5ca5f6\" x=\"172.619768\" y=\"110.255854\" style=\"fill: #1f77b4; stroke: #1f77b4\"/>\n     <use xlink:href=\"#m1dba5ca5f6\" x=\"86.963795\" y=\"67.504811\" style=\"fill: #1f77b4; stroke: #1f77b4\"/>\n     <use xlink:href=\"#m1dba5ca5f6\" x=\"104.484627\" y=\"81.299108\" style=\"fill: #1f77b4; stroke: #1f77b4\"/>\n     <use xlink:href=\"#m1dba5ca5f6\" x=\"166.231894\" y=\"112.142031\" style=\"fill: #1f77b4; stroke: #1f77b4\"/>\n     <use xlink:href=\"#m1dba5ca5f6\" x=\"115.204821\" y=\"50.07885\" style=\"fill: #1f77b4; stroke: #1f77b4\"/>\n     <use xlink:href=\"#m1dba5ca5f6\" x=\"142.774376\" y=\"75.398463\" style=\"fill: #1f77b4; stroke: #1f77b4\"/>\n     <use xlink:href=\"#m1dba5ca5f6\" x=\"157.575656\" y=\"84.527762\" style=\"fill: #1f77b4; stroke: #1f77b4\"/>\n     <use xlink:href=\"#m1dba5ca5f6\" x=\"133.130811\" y=\"75.69222\" style=\"fill: #1f77b4; stroke: #1f77b4\"/>\n     <use xlink:href=\"#m1dba5ca5f6\" x=\"157.915187\" y=\"81.254137\" style=\"fill: #1f77b4; stroke: #1f77b4\"/>\n     <use xlink:href=\"#m1dba5ca5f6\" x=\"179.449297\" y=\"84.642186\" style=\"fill: #1f77b4; stroke: #1f77b4\"/>\n     <use xlink:href=\"#m1dba5ca5f6\" x=\"155.248983\" y=\"82.450236\" style=\"fill: #1f77b4; stroke: #1f77b4\"/>\n     <use xlink:href=\"#m1dba5ca5f6\" x=\"100.232956\" y=\"37.756825\" style=\"fill: #1f77b4; stroke: #1f77b4\"/>\n     <use xlink:href=\"#m1dba5ca5f6\" x=\"177.558986\" y=\"117.99694\" style=\"fill: #1f77b4; stroke: #1f77b4\"/>\n     <use xlink:href=\"#m1dba5ca5f6\" x=\"111.406388\" y=\"59.36874\" style=\"fill: #1f77b4; stroke: #1f77b4\"/>\n     <use xlink:href=\"#m1dba5ca5f6\" x=\"129.69889\" y=\"51.733074\" style=\"fill: #1f77b4; stroke: #1f77b4\"/>\n     <use xlink:href=\"#m1dba5ca5f6\" x=\"140.293214\" y=\"74.945646\" style=\"fill: #1f77b4; stroke: #1f77b4\"/>\n     <use xlink:href=\"#m1dba5ca5f6\" x=\"140.030037\" y=\"93.595179\" style=\"fill: #1f77b4; stroke: #1f77b4\"/>\n     <use xlink:href=\"#m1dba5ca5f6\" x=\"138.267964\" y=\"83.36636\" style=\"fill: #1f77b4; stroke: #1f77b4\"/>\n     <use xlink:href=\"#m1dba5ca5f6\" x=\"138.852364\" y=\"91.165464\" style=\"fill: #1f77b4; stroke: #1f77b4\"/>\n     <use xlink:href=\"#m1dba5ca5f6\" x=\"163.791371\" y=\"115.714515\" style=\"fill: #1f77b4; stroke: #1f77b4\"/>\n     <use xlink:href=\"#m1dba5ca5f6\" x=\"169.327076\" y=\"91.086137\" style=\"fill: #1f77b4; stroke: #1f77b4\"/>\n     <use xlink:href=\"#m1dba5ca5f6\" x=\"128.143409\" y=\"98.498549\" style=\"fill: #1f77b4; stroke: #1f77b4\"/>\n     <use xlink:href=\"#m1dba5ca5f6\" x=\"132.406257\" y=\"80.906792\" style=\"fill: #1f77b4; stroke: #1f77b4\"/>\n     <use xlink:href=\"#m1dba5ca5f6\" x=\"116.083183\" y=\"60.910759\" style=\"fill: #1f77b4; stroke: #1f77b4\"/>\n     <use xlink:href=\"#m1dba5ca5f6\" x=\"122.976272\" y=\"69.612465\" style=\"fill: #1f77b4; stroke: #1f77b4\"/>\n     <use xlink:href=\"#m1dba5ca5f6\" x=\"153.361324\" y=\"97.663853\" style=\"fill: #1f77b4; stroke: #1f77b4\"/>\n     <use xlink:href=\"#m1dba5ca5f6\" x=\"103.991463\" y=\"46.854983\" style=\"fill: #1f77b4; stroke: #1f77b4\"/>\n     <use xlink:href=\"#m1dba5ca5f6\" x=\"123.358345\" y=\"71.961375\" style=\"fill: #1f77b4; stroke: #1f77b4\"/>\n     <use xlink:href=\"#m1dba5ca5f6\" x=\"130.278325\" y=\"59.139224\" style=\"fill: #1f77b4; stroke: #1f77b4\"/>\n     <use xlink:href=\"#m1dba5ca5f6\" x=\"108.335708\" y=\"51.02579\" style=\"fill: #1f77b4; stroke: #1f77b4\"/>\n     <use xlink:href=\"#m1dba5ca5f6\" x=\"145.722075\" y=\"76.331387\" style=\"fill: #1f77b4; stroke: #1f77b4\"/>\n     <use xlink:href=\"#m1dba5ca5f6\" x=\"130.870617\" y=\"81.524412\" style=\"fill: #1f77b4; stroke: #1f77b4\"/>\n     <use xlink:href=\"#m1dba5ca5f6\" x=\"156.870468\" y=\"86.438182\" style=\"fill: #1f77b4; stroke: #1f77b4\"/>\n     <use xlink:href=\"#m1dba5ca5f6\" x=\"159.316422\" y=\"69.40565\" style=\"fill: #1f77b4; stroke: #1f77b4\"/>\n     <use xlink:href=\"#m1dba5ca5f6\" x=\"130.084874\" y=\"73.099486\" style=\"fill: #1f77b4; stroke: #1f77b4\"/>\n     <use xlink:href=\"#m1dba5ca5f6\" x=\"123.515585\" y=\"74.191036\" style=\"fill: #1f77b4; stroke: #1f77b4\"/>\n     <use xlink:href=\"#m1dba5ca5f6\" x=\"154.105845\" y=\"95.16202\" style=\"fill: #1f77b4; stroke: #1f77b4\"/>\n     <use xlink:href=\"#m1dba5ca5f6\" x=\"146.001195\" y=\"86.33607\" style=\"fill: #1f77b4; stroke: #1f77b4\"/>\n     <use xlink:href=\"#m1dba5ca5f6\" x=\"124.30555\" y=\"57.471286\" style=\"fill: #1f77b4; stroke: #1f77b4\"/>\n     <use xlink:href=\"#m1dba5ca5f6\" x=\"131.659214\" y=\"70.028341\" style=\"fill: #1f77b4; stroke: #1f77b4\"/>\n     <use xlink:href=\"#m1dba5ca5f6\" x=\"91.727418\" y=\"32.31811\" style=\"fill: #1f77b4; stroke: #1f77b4\"/>\n     <use xlink:href=\"#m1dba5ca5f6\" x=\"166.877252\" y=\"106.845943\" style=\"fill: #1f77b4; stroke: #1f77b4\"/>\n     <use xlink:href=\"#m1dba5ca5f6\" x=\"144.310116\" y=\"72.911154\" style=\"fill: #1f77b4; stroke: #1f77b4\"/>\n     <use xlink:href=\"#m1dba5ca5f6\" x=\"115.321458\" y=\"53.961075\" style=\"fill: #1f77b4; stroke: #1f77b4\"/>\n     <use xlink:href=\"#m1dba5ca5f6\" x=\"87.381571\" y=\"36.951169\" style=\"fill: #1f77b4; stroke: #1f77b4\"/>\n     <use xlink:href=\"#m1dba5ca5f6\" x=\"125.952332\" y=\"73.335731\" style=\"fill: #1f77b4; stroke: #1f77b4\"/>\n     <use xlink:href=\"#m1dba5ca5f6\" x=\"133.621185\" y=\"83.778024\" style=\"fill: #1f77b4; stroke: #1f77b4\"/>\n     <use xlink:href=\"#m1dba5ca5f6\" x=\"122.907008\" y=\"72.665674\" style=\"fill: #1f77b4; stroke: #1f77b4\"/>\n     <use xlink:href=\"#m1dba5ca5f6\" x=\"86.608636\" y=\"33.838874\" style=\"fill: #1f77b4; stroke: #1f77b4\"/>\n     <use xlink:href=\"#m1dba5ca5f6\" x=\"85.287796\" y=\"51.00489\" style=\"fill: #1f77b4; stroke: #1f77b4\"/>\n     <use xlink:href=\"#m1dba5ca5f6\" x=\"137.129274\" y=\"82.953537\" style=\"fill: #1f77b4; stroke: #1f77b4\"/>\n     <use xlink:href=\"#m1dba5ca5f6\" x=\"160.093922\" y=\"90.863821\" style=\"fill: #1f77b4; stroke: #1f77b4\"/>\n     <use xlink:href=\"#m1dba5ca5f6\" x=\"164.394494\" y=\"93.006519\" style=\"fill: #1f77b4; stroke: #1f77b4\"/>\n     <use xlink:href=\"#m1dba5ca5f6\" x=\"131.990507\" y=\"80.883404\" style=\"fill: #1f77b4; stroke: #1f77b4\"/>\n     <use xlink:href=\"#m1dba5ca5f6\" x=\"164.159459\" y=\"92.060359\" style=\"fill: #1f77b4; stroke: #1f77b4\"/>\n     <use xlink:href=\"#m1dba5ca5f6\" x=\"133.263592\" y=\"67.565105\" style=\"fill: #1f77b4; stroke: #1f77b4\"/>\n     <use xlink:href=\"#m1dba5ca5f6\" x=\"104.287365\" y=\"62.520389\" style=\"fill: #1f77b4; stroke: #1f77b4\"/>\n     <use xlink:href=\"#m1dba5ca5f6\" x=\"113.266255\" y=\"70.400368\" style=\"fill: #1f77b4; stroke: #1f77b4\"/>\n     <use xlink:href=\"#m1dba5ca5f6\" x=\"151.329425\" y=\"81.963206\" style=\"fill: #1f77b4; stroke: #1f77b4\"/>\n     <use xlink:href=\"#m1dba5ca5f6\" x=\"152.988704\" y=\"97.450876\" style=\"fill: #1f77b4; stroke: #1f77b4\"/>\n     <use xlink:href=\"#m1dba5ca5f6\" x=\"169.533023\" y=\"121.699019\" style=\"fill: #1f77b4; stroke: #1f77b4\"/>\n     <use xlink:href=\"#m1dba5ca5f6\" x=\"134.781476\" y=\"81.331127\" style=\"fill: #1f77b4; stroke: #1f77b4\"/>\n     <use xlink:href=\"#m1dba5ca5f6\" x=\"143.727147\" y=\"92.387063\" style=\"fill: #1f77b4; stroke: #1f77b4\"/>\n     <use xlink:href=\"#m1dba5ca5f6\" x=\"140.457144\" y=\"100.953261\" style=\"fill: #1f77b4; stroke: #1f77b4\"/>\n     <use xlink:href=\"#m1dba5ca5f6\" x=\"112.913247\" y=\"74.007208\" style=\"fill: #1f77b4; stroke: #1f77b4\"/>\n     <use xlink:href=\"#m1dba5ca5f6\" x=\"150.744095\" y=\"80.393323\" style=\"fill: #1f77b4; stroke: #1f77b4\"/>\n     <use xlink:href=\"#m1dba5ca5f6\" x=\"161.398096\" y=\"109.571109\" style=\"fill: #1f77b4; stroke: #1f77b4\"/>\n     <use xlink:href=\"#m1dba5ca5f6\" x=\"140.929789\" y=\"81.150466\" style=\"fill: #1f77b4; stroke: #1f77b4\"/>\n     <use xlink:href=\"#m1dba5ca5f6\" x=\"123.743676\" y=\"55.685733\" style=\"fill: #1f77b4; stroke: #1f77b4\"/>\n     <use xlink:href=\"#m1dba5ca5f6\" x=\"164.128539\" y=\"108.155339\" style=\"fill: #1f77b4; stroke: #1f77b4\"/>\n     <use xlink:href=\"#m1dba5ca5f6\" x=\"134.046473\" y=\"72.694223\" style=\"fill: #1f77b4; stroke: #1f77b4\"/>\n     <use xlink:href=\"#m1dba5ca5f6\" x=\"133.044266\" y=\"83.89872\" style=\"fill: #1f77b4; stroke: #1f77b4\"/>\n     <use xlink:href=\"#m1dba5ca5f6\" x=\"129.288325\" y=\"85.278856\" style=\"fill: #1f77b4; stroke: #1f77b4\"/>\n     <use xlink:href=\"#m1dba5ca5f6\" x=\"162.196979\" y=\"102.108663\" style=\"fill: #1f77b4; stroke: #1f77b4\"/>\n     <use xlink:href=\"#m1dba5ca5f6\" x=\"101.983974\" y=\"61.703033\" style=\"fill: #1f77b4; stroke: #1f77b4\"/>\n     <use xlink:href=\"#m1dba5ca5f6\" x=\"93.333934\" y=\"42.674544\" style=\"fill: #1f77b4; stroke: #1f77b4\"/>\n     <use xlink:href=\"#m1dba5ca5f6\" x=\"157.693021\" y=\"98.591914\" style=\"fill: #1f77b4; stroke: #1f77b4\"/>\n     <use xlink:href=\"#m1dba5ca5f6\" x=\"175.455755\" y=\"98.678617\" style=\"fill: #1f77b4; stroke: #1f77b4\"/>\n     <use xlink:href=\"#m1dba5ca5f6\" x=\"139.746465\" y=\"94.451755\" style=\"fill: #1f77b4; stroke: #1f77b4\"/>\n     <use xlink:href=\"#m1dba5ca5f6\" x=\"184.372887\" y=\"109.900067\" style=\"fill: #1f77b4; stroke: #1f77b4\"/>\n     <use xlink:href=\"#m1dba5ca5f6\" x=\"120.95664\" y=\"74.946005\" style=\"fill: #1f77b4; stroke: #1f77b4\"/>\n     <use xlink:href=\"#m1dba5ca5f6\" x=\"152.329777\" y=\"101.864428\" style=\"fill: #1f77b4; stroke: #1f77b4\"/>\n     <use xlink:href=\"#m1dba5ca5f6\" x=\"71.57242\" y=\"55.745101\" style=\"fill: #1f77b4; stroke: #1f77b4\"/>\n     <use xlink:href=\"#m1dba5ca5f6\" x=\"128.390525\" y=\"66.889248\" style=\"fill: #1f77b4; stroke: #1f77b4\"/>\n     <use xlink:href=\"#m1dba5ca5f6\" x=\"146.090704\" y=\"68.111089\" style=\"fill: #1f77b4; stroke: #1f77b4\"/>\n     <use xlink:href=\"#m1dba5ca5f6\" x=\"101.136196\" y=\"72.623714\" style=\"fill: #1f77b4; stroke: #1f77b4\"/>\n     <use xlink:href=\"#m1dba5ca5f6\" x=\"174.027307\" y=\"106.248359\" style=\"fill: #1f77b4; stroke: #1f77b4\"/>\n     <use xlink:href=\"#m1dba5ca5f6\" x=\"173.118769\" y=\"98.912849\" style=\"fill: #1f77b4; stroke: #1f77b4\"/>\n     <use xlink:href=\"#m1dba5ca5f6\" x=\"144.698351\" y=\"75.915291\" style=\"fill: #1f77b4; stroke: #1f77b4\"/>\n     <use xlink:href=\"#m1dba5ca5f6\" x=\"133.28346\" y=\"85.185321\" style=\"fill: #1f77b4; stroke: #1f77b4\"/>\n     <use xlink:href=\"#m1dba5ca5f6\" x=\"90.723445\" y=\"31.652371\" style=\"fill: #1f77b4; stroke: #1f77b4\"/>\n     <use xlink:href=\"#m1dba5ca5f6\" x=\"139.984711\" y=\"64.126759\" style=\"fill: #1f77b4; stroke: #1f77b4\"/>\n     <use xlink:href=\"#m1dba5ca5f6\" x=\"176.913801\" y=\"108.708981\" style=\"fill: #1f77b4; stroke: #1f77b4\"/>\n     <use xlink:href=\"#m1dba5ca5f6\" x=\"169.892098\" y=\"102.366703\" style=\"fill: #1f77b4; stroke: #1f77b4\"/>\n     <use xlink:href=\"#m1dba5ca5f6\" x=\"134.494399\" y=\"96.260442\" style=\"fill: #1f77b4; stroke: #1f77b4\"/>\n     <use xlink:href=\"#m1dba5ca5f6\" x=\"105.834435\" y=\"50.36896\" style=\"fill: #1f77b4; stroke: #1f77b4\"/>\n     <use xlink:href=\"#m1dba5ca5f6\" x=\"114.121528\" y=\"51.83566\" style=\"fill: #1f77b4; stroke: #1f77b4\"/>\n     <use xlink:href=\"#m1dba5ca5f6\" x=\"140.981814\" y=\"73.806969\" style=\"fill: #1f77b4; stroke: #1f77b4\"/>\n     <use xlink:href=\"#m1dba5ca5f6\" x=\"180.021149\" y=\"96.293768\" style=\"fill: #1f77b4; stroke: #1f77b4\"/>\n     <use xlink:href=\"#m1dba5ca5f6\" x=\"134.180581\" y=\"64.166337\" style=\"fill: #1f77b4; stroke: #1f77b4\"/>\n     <use xlink:href=\"#m1dba5ca5f6\" x=\"132.986594\" y=\"80.140137\" style=\"fill: #1f77b4; stroke: #1f77b4\"/>\n     <use xlink:href=\"#m1dba5ca5f6\" x=\"160.103108\" y=\"72.780172\" style=\"fill: #1f77b4; stroke: #1f77b4\"/>\n     <use xlink:href=\"#m1dba5ca5f6\" x=\"149.612837\" y=\"114.25301\" style=\"fill: #1f77b4; stroke: #1f77b4\"/>\n     <use xlink:href=\"#m1dba5ca5f6\" x=\"173.650993\" y=\"100.931754\" style=\"fill: #1f77b4; stroke: #1f77b4\"/>\n     <use xlink:href=\"#m1dba5ca5f6\" x=\"129.923973\" y=\"78.755097\" style=\"fill: #1f77b4; stroke: #1f77b4\"/>\n     <use xlink:href=\"#m1dba5ca5f6\" x=\"146.53792\" y=\"102.030875\" style=\"fill: #1f77b4; stroke: #1f77b4\"/>\n     <use xlink:href=\"#m1dba5ca5f6\" x=\"134.918432\" y=\"92.724502\" style=\"fill: #1f77b4; stroke: #1f77b4\"/>\n     <use xlink:href=\"#m1dba5ca5f6\" x=\"129.822494\" y=\"62.104199\" style=\"fill: #1f77b4; stroke: #1f77b4\"/>\n     <use xlink:href=\"#m1dba5ca5f6\" x=\"113.036194\" y=\"56.879399\" style=\"fill: #1f77b4; stroke: #1f77b4\"/>\n     <use xlink:href=\"#m1dba5ca5f6\" x=\"171.373356\" y=\"110.40202\" style=\"fill: #1f77b4; stroke: #1f77b4\"/>\n     <use xlink:href=\"#m1dba5ca5f6\" x=\"145.440667\" y=\"84.910985\" style=\"fill: #1f77b4; stroke: #1f77b4\"/>\n     <use xlink:href=\"#m1dba5ca5f6\" x=\"117.796429\" y=\"63.74017\" style=\"fill: #1f77b4; stroke: #1f77b4\"/>\n     <use xlink:href=\"#m1dba5ca5f6\" x=\"115.58403\" y=\"68.835428\" style=\"fill: #1f77b4; stroke: #1f77b4\"/>\n     <use xlink:href=\"#m1dba5ca5f6\" x=\"104.063604\" y=\"68.742921\" style=\"fill: #1f77b4; stroke: #1f77b4\"/>\n     <use xlink:href=\"#m1dba5ca5f6\" x=\"121.47868\" y=\"68.070952\" style=\"fill: #1f77b4; stroke: #1f77b4\"/>\n     <use xlink:href=\"#m1dba5ca5f6\" x=\"121.856944\" y=\"69.535026\" style=\"fill: #1f77b4; stroke: #1f77b4\"/>\n     <use xlink:href=\"#m1dba5ca5f6\" x=\"179.784598\" y=\"99.656798\" style=\"fill: #1f77b4; stroke: #1f77b4\"/>\n     <use xlink:href=\"#m1dba5ca5f6\" x=\"114.262595\" y=\"52.143754\" style=\"fill: #1f77b4; stroke: #1f77b4\"/>\n     <use xlink:href=\"#m1dba5ca5f6\" x=\"121.405835\" y=\"63.309388\" style=\"fill: #1f77b4; stroke: #1f77b4\"/>\n     <use xlink:href=\"#m1dba5ca5f6\" x=\"163.196342\" y=\"94.766033\" style=\"fill: #1f77b4; stroke: #1f77b4\"/>\n     <use xlink:href=\"#m1dba5ca5f6\" x=\"124.744752\" y=\"55.105555\" style=\"fill: #1f77b4; stroke: #1f77b4\"/>\n     <use xlink:href=\"#m1dba5ca5f6\" x=\"165.158707\" y=\"97.490154\" style=\"fill: #1f77b4; stroke: #1f77b4\"/>\n     <use xlink:href=\"#m1dba5ca5f6\" x=\"102.296984\" y=\"49.943692\" style=\"fill: #1f77b4; stroke: #1f77b4\"/>\n     <use xlink:href=\"#m1dba5ca5f6\" x=\"128.610117\" y=\"70.316702\" style=\"fill: #1f77b4; stroke: #1f77b4\"/>\n     <use xlink:href=\"#m1dba5ca5f6\" x=\"131.849033\" y=\"77.325908\" style=\"fill: #1f77b4; stroke: #1f77b4\"/>\n     <use xlink:href=\"#m1dba5ca5f6\" x=\"95.261563\" y=\"39.7028\" style=\"fill: #1f77b4; stroke: #1f77b4\"/>\n     <use xlink:href=\"#m1dba5ca5f6\" x=\"186.9955\" y=\"104.82817\" style=\"fill: #1f77b4; stroke: #1f77b4\"/>\n     <use xlink:href=\"#m1dba5ca5f6\" x=\"145.338361\" y=\"85.600184\" style=\"fill: #1f77b4; stroke: #1f77b4\"/>\n     <use xlink:href=\"#m1dba5ca5f6\" x=\"162.019484\" y=\"86.303083\" style=\"fill: #1f77b4; stroke: #1f77b4\"/>\n     <use xlink:href=\"#m1dba5ca5f6\" x=\"117.537875\" y=\"57.676509\" style=\"fill: #1f77b4; stroke: #1f77b4\"/>\n     <use xlink:href=\"#m1dba5ca5f6\" x=\"136.424382\" y=\"89.126114\" style=\"fill: #1f77b4; stroke: #1f77b4\"/>\n     <use xlink:href=\"#m1dba5ca5f6\" x=\"144.72208\" y=\"85.897483\" style=\"fill: #1f77b4; stroke: #1f77b4\"/>\n     <use xlink:href=\"#m1dba5ca5f6\" x=\"87.695894\" y=\"35.156405\" style=\"fill: #1f77b4; stroke: #1f77b4\"/>\n     <use xlink:href=\"#m1dba5ca5f6\" x=\"109.374354\" y=\"78.096083\" style=\"fill: #1f77b4; stroke: #1f77b4\"/>\n     <use xlink:href=\"#m1dba5ca5f6\" x=\"143.847667\" y=\"89.399247\" style=\"fill: #1f77b4; stroke: #1f77b4\"/>\n     <use xlink:href=\"#m1dba5ca5f6\" x=\"131.713333\" y=\"83.158378\" style=\"fill: #1f77b4; stroke: #1f77b4\"/>\n     <use xlink:href=\"#m1dba5ca5f6\" x=\"197.732418\" y=\"106.010522\" style=\"fill: #1f77b4; stroke: #1f77b4\"/>\n     <use xlink:href=\"#m1dba5ca5f6\" x=\"173.736356\" y=\"103.338176\" style=\"fill: #1f77b4; stroke: #1f77b4\"/>\n     <use xlink:href=\"#m1dba5ca5f6\" x=\"136.236763\" y=\"77.055025\" style=\"fill: #1f77b4; stroke: #1f77b4\"/>\n     <use xlink:href=\"#m1dba5ca5f6\" x=\"121.431515\" y=\"79.31211\" style=\"fill: #1f77b4; stroke: #1f77b4\"/>\n     <use xlink:href=\"#m1dba5ca5f6\" x=\"133.940865\" y=\"93.426274\" style=\"fill: #1f77b4; stroke: #1f77b4\"/>\n     <use xlink:href=\"#m1dba5ca5f6\" x=\"137.532607\" y=\"96.73485\" style=\"fill: #1f77b4; stroke: #1f77b4\"/>\n     <use xlink:href=\"#m1dba5ca5f6\" x=\"166.407238\" y=\"89.125279\" style=\"fill: #1f77b4; stroke: #1f77b4\"/>\n     <use xlink:href=\"#m1dba5ca5f6\" x=\"141.149918\" y=\"64.420993\" style=\"fill: #1f77b4; stroke: #1f77b4\"/>\n     <use xlink:href=\"#m1dba5ca5f6\" x=\"109.189173\" y=\"67.731711\" style=\"fill: #1f77b4; stroke: #1f77b4\"/>\n     <use xlink:href=\"#m1dba5ca5f6\" x=\"131.69498\" y=\"64.197348\" style=\"fill: #1f77b4; stroke: #1f77b4\"/>\n     <use xlink:href=\"#m1dba5ca5f6\" x=\"130.576741\" y=\"68.644987\" style=\"fill: #1f77b4; stroke: #1f77b4\"/>\n     <use xlink:href=\"#m1dba5ca5f6\" x=\"167.719021\" y=\"104.2237\" style=\"fill: #1f77b4; stroke: #1f77b4\"/>\n     <use xlink:href=\"#m1dba5ca5f6\" x=\"159.322107\" y=\"105.765647\" style=\"fill: #1f77b4; stroke: #1f77b4\"/>\n     <use xlink:href=\"#m1dba5ca5f6\" x=\"65.943173\" y=\"26.235745\" style=\"fill: #1f77b4; stroke: #1f77b4\"/>\n     <use xlink:href=\"#m1dba5ca5f6\" x=\"148.065452\" y=\"98.521459\" style=\"fill: #1f77b4; stroke: #1f77b4\"/>\n     <use xlink:href=\"#m1dba5ca5f6\" x=\"148.28441\" y=\"92.220133\" style=\"fill: #1f77b4; stroke: #1f77b4\"/>\n     <use xlink:href=\"#m1dba5ca5f6\" x=\"163.384988\" y=\"93.601262\" style=\"fill: #1f77b4; stroke: #1f77b4\"/>\n     <use xlink:href=\"#m1dba5ca5f6\" x=\"124.891591\" y=\"63.580946\" style=\"fill: #1f77b4; stroke: #1f77b4\"/>\n     <use xlink:href=\"#m1dba5ca5f6\" x=\"110.521961\" y=\"45.652896\" style=\"fill: #1f77b4; stroke: #1f77b4\"/>\n     <use xlink:href=\"#m1dba5ca5f6\" x=\"94.342303\" y=\"55.19881\" style=\"fill: #1f77b4; stroke: #1f77b4\"/>\n     <use xlink:href=\"#m1dba5ca5f6\" x=\"151.927174\" y=\"88.826098\" style=\"fill: #1f77b4; stroke: #1f77b4\"/>\n     <use xlink:href=\"#m1dba5ca5f6\" x=\"99.486838\" y=\"44.196123\" style=\"fill: #1f77b4; stroke: #1f77b4\"/>\n     <use xlink:href=\"#m1dba5ca5f6\" x=\"111.218447\" y=\"43.281554\" style=\"fill: #1f77b4; stroke: #1f77b4\"/>\n     <use xlink:href=\"#m1dba5ca5f6\" x=\"101.455124\" y=\"51.605516\" style=\"fill: #1f77b4; stroke: #1f77b4\"/>\n     <use xlink:href=\"#m1dba5ca5f6\" x=\"61.757072\" y=\"30.659377\" style=\"fill: #1f77b4; stroke: #1f77b4\"/>\n     <use xlink:href=\"#m1dba5ca5f6\" x=\"138.006848\" y=\"82.821647\" style=\"fill: #1f77b4; stroke: #1f77b4\"/>\n     <use xlink:href=\"#m1dba5ca5f6\" x=\"141.753418\" y=\"86.258953\" style=\"fill: #1f77b4; stroke: #1f77b4\"/>\n     <use xlink:href=\"#m1dba5ca5f6\" x=\"134.929005\" y=\"65.087907\" style=\"fill: #1f77b4; stroke: #1f77b4\"/>\n     <use xlink:href=\"#m1dba5ca5f6\" x=\"148.211672\" y=\"97.762734\" style=\"fill: #1f77b4; stroke: #1f77b4\"/>\n     <use xlink:href=\"#m1dba5ca5f6\" x=\"132.102872\" y=\"55.646614\" style=\"fill: #1f77b4; stroke: #1f77b4\"/>\n     <use xlink:href=\"#m1dba5ca5f6\" x=\"179.77398\" y=\"121.613925\" style=\"fill: #1f77b4; stroke: #1f77b4\"/>\n     <use xlink:href=\"#m1dba5ca5f6\" x=\"153.211834\" y=\"95.245567\" style=\"fill: #1f77b4; stroke: #1f77b4\"/>\n     <use xlink:href=\"#m1dba5ca5f6\" x=\"111.490202\" y=\"63.916974\" style=\"fill: #1f77b4; stroke: #1f77b4\"/>\n     <use xlink:href=\"#m1dba5ca5f6\" x=\"165.616051\" y=\"114.751649\" style=\"fill: #1f77b4; stroke: #1f77b4\"/>\n     <use xlink:href=\"#m1dba5ca5f6\" x=\"154.857592\" y=\"71.346445\" style=\"fill: #1f77b4; stroke: #1f77b4\"/>\n     <use xlink:href=\"#m1dba5ca5f6\" x=\"144.107144\" y=\"88.539653\" style=\"fill: #1f77b4; stroke: #1f77b4\"/>\n     <use xlink:href=\"#m1dba5ca5f6\" x=\"110.022927\" y=\"65.945025\" style=\"fill: #1f77b4; stroke: #1f77b4\"/>\n     <use xlink:href=\"#m1dba5ca5f6\" x=\"127.668747\" y=\"68.694971\" style=\"fill: #1f77b4; stroke: #1f77b4\"/>\n     <use xlink:href=\"#m1dba5ca5f6\" x=\"139.417556\" y=\"73.27964\" style=\"fill: #1f77b4; stroke: #1f77b4\"/>\n     <use xlink:href=\"#m1dba5ca5f6\" x=\"132.523879\" y=\"71.260795\" style=\"fill: #1f77b4; stroke: #1f77b4\"/>\n     <use xlink:href=\"#m1dba5ca5f6\" x=\"140.995233\" y=\"80.895586\" style=\"fill: #1f77b4; stroke: #1f77b4\"/>\n     <use xlink:href=\"#m1dba5ca5f6\" x=\"173.103588\" y=\"104.900796\" style=\"fill: #1f77b4; stroke: #1f77b4\"/>\n     <use xlink:href=\"#m1dba5ca5f6\" x=\"146.851951\" y=\"82.742508\" style=\"fill: #1f77b4; stroke: #1f77b4\"/>\n     <use xlink:href=\"#m1dba5ca5f6\" x=\"99.587313\" y=\"53.870614\" style=\"fill: #1f77b4; stroke: #1f77b4\"/>\n     <use xlink:href=\"#m1dba5ca5f6\" x=\"118.571633\" y=\"64.497435\" style=\"fill: #1f77b4; stroke: #1f77b4\"/>\n     <use xlink:href=\"#m1dba5ca5f6\" x=\"136.802739\" y=\"88.670353\" style=\"fill: #1f77b4; stroke: #1f77b4\"/>\n     <use xlink:href=\"#m1dba5ca5f6\" x=\"151.873819\" y=\"79.452586\" style=\"fill: #1f77b4; stroke: #1f77b4\"/>\n     <use xlink:href=\"#m1dba5ca5f6\" x=\"164.094527\" y=\"90.829111\" style=\"fill: #1f77b4; stroke: #1f77b4\"/>\n     <use xlink:href=\"#m1dba5ca5f6\" x=\"146.394647\" y=\"106.734018\" style=\"fill: #1f77b4; stroke: #1f77b4\"/>\n     <use xlink:href=\"#m1dba5ca5f6\" x=\"164.412118\" y=\"91.595808\" style=\"fill: #1f77b4; stroke: #1f77b4\"/>\n     <use xlink:href=\"#m1dba5ca5f6\" x=\"187.106913\" y=\"108.450504\" style=\"fill: #1f77b4; stroke: #1f77b4\"/>\n     <use xlink:href=\"#m1dba5ca5f6\" x=\"92.556612\" y=\"59.885037\" style=\"fill: #1f77b4; stroke: #1f77b4\"/>\n     <use xlink:href=\"#m1dba5ca5f6\" x=\"139.823541\" y=\"84.463738\" style=\"fill: #1f77b4; stroke: #1f77b4\"/>\n     <use xlink:href=\"#m1dba5ca5f6\" x=\"144.910674\" y=\"71.644745\" style=\"fill: #1f77b4; stroke: #1f77b4\"/>\n     <use xlink:href=\"#m1dba5ca5f6\" x=\"117.719898\" y=\"75.665702\" style=\"fill: #1f77b4; stroke: #1f77b4\"/>\n     <use xlink:href=\"#m1dba5ca5f6\" x=\"116.662153\" y=\"56.772023\" style=\"fill: #1f77b4; stroke: #1f77b4\"/>\n     <use xlink:href=\"#m1dba5ca5f6\" x=\"169.703712\" y=\"94.233051\" style=\"fill: #1f77b4; stroke: #1f77b4\"/>\n     <use xlink:href=\"#m1dba5ca5f6\" x=\"115.718291\" y=\"36.868797\" style=\"fill: #1f77b4; stroke: #1f77b4\"/>\n     <use xlink:href=\"#m1dba5ca5f6\" x=\"161.059401\" y=\"97.324853\" style=\"fill: #1f77b4; stroke: #1f77b4\"/>\n     <use xlink:href=\"#m1dba5ca5f6\" x=\"162.08779\" y=\"72.33708\" style=\"fill: #1f77b4; stroke: #1f77b4\"/>\n     <use xlink:href=\"#m1dba5ca5f6\" x=\"203.289673\" y=\"117.106199\" style=\"fill: #1f77b4; stroke: #1f77b4\"/>\n     <use xlink:href=\"#m1dba5ca5f6\" x=\"137.380908\" y=\"68.169938\" style=\"fill: #1f77b4; stroke: #1f77b4\"/>\n     <use xlink:href=\"#m1dba5ca5f6\" x=\"175.010867\" y=\"102.094968\" style=\"fill: #1f77b4; stroke: #1f77b4\"/>\n     <use xlink:href=\"#m1dba5ca5f6\" x=\"155.456797\" y=\"95.326524\" style=\"fill: #1f77b4; stroke: #1f77b4\"/>\n     <use xlink:href=\"#m1dba5ca5f6\" x=\"123.50206\" y=\"73.703581\" style=\"fill: #1f77b4; stroke: #1f77b4\"/>\n     <use xlink:href=\"#m1dba5ca5f6\" x=\"87.950533\" y=\"47.228914\" style=\"fill: #1f77b4; stroke: #1f77b4\"/>\n     <use xlink:href=\"#m1dba5ca5f6\" x=\"133.448044\" y=\"76.700627\" style=\"fill: #1f77b4; stroke: #1f77b4\"/>\n     <use xlink:href=\"#m1dba5ca5f6\" x=\"147.55119\" y=\"105.661812\" style=\"fill: #1f77b4; stroke: #1f77b4\"/>\n     <use xlink:href=\"#m1dba5ca5f6\" x=\"177.174618\" y=\"115.950564\" style=\"fill: #1f77b4; stroke: #1f77b4\"/>\n     <use xlink:href=\"#m1dba5ca5f6\" x=\"161.044321\" y=\"99.260287\" style=\"fill: #1f77b4; stroke: #1f77b4\"/>\n     <use xlink:href=\"#m1dba5ca5f6\" x=\"116.569169\" y=\"45.598971\" style=\"fill: #1f77b4; stroke: #1f77b4\"/>\n     <use xlink:href=\"#m1dba5ca5f6\" x=\"134.460441\" y=\"69.095983\" style=\"fill: #1f77b4; stroke: #1f77b4\"/>\n     <use xlink:href=\"#m1dba5ca5f6\" x=\"169.674301\" y=\"100.324664\" style=\"fill: #1f77b4; stroke: #1f77b4\"/>\n     <use xlink:href=\"#m1dba5ca5f6\" x=\"80.105668\" y=\"33.407117\" style=\"fill: #1f77b4; stroke: #1f77b4\"/>\n     <use xlink:href=\"#m1dba5ca5f6\" x=\"110.298089\" y=\"59.837472\" style=\"fill: #1f77b4; stroke: #1f77b4\"/>\n     <use xlink:href=\"#m1dba5ca5f6\" x=\"213.829201\" y=\"119.891344\" style=\"fill: #1f77b4; stroke: #1f77b4\"/>\n     <use xlink:href=\"#m1dba5ca5f6\" x=\"140.175603\" y=\"94.644322\" style=\"fill: #1f77b4; stroke: #1f77b4\"/>\n     <use xlink:href=\"#m1dba5ca5f6\" x=\"142.053299\" y=\"80.420939\" style=\"fill: #1f77b4; stroke: #1f77b4\"/>\n     <use xlink:href=\"#m1dba5ca5f6\" x=\"145.910051\" y=\"81.345702\" style=\"fill: #1f77b4; stroke: #1f77b4\"/>\n     <use xlink:href=\"#m1dba5ca5f6\" x=\"135.6762\" y=\"72.877093\" style=\"fill: #1f77b4; stroke: #1f77b4\"/>\n     <use xlink:href=\"#m1dba5ca5f6\" x=\"164.929844\" y=\"93.690683\" style=\"fill: #1f77b4; stroke: #1f77b4\"/>\n     <use xlink:href=\"#m1dba5ca5f6\" x=\"173.519216\" y=\"90.831073\" style=\"fill: #1f77b4; stroke: #1f77b4\"/>\n     <use xlink:href=\"#m1dba5ca5f6\" x=\"133.071324\" y=\"74.946748\" style=\"fill: #1f77b4; stroke: #1f77b4\"/>\n     <use xlink:href=\"#m1dba5ca5f6\" x=\"105.76259\" y=\"67.060815\" style=\"fill: #1f77b4; stroke: #1f77b4\"/>\n     <use xlink:href=\"#m1dba5ca5f6\" x=\"172.585977\" y=\"119.696811\" style=\"fill: #1f77b4; stroke: #1f77b4\"/>\n     <use xlink:href=\"#m1dba5ca5f6\" x=\"125.090717\" y=\"60.641029\" style=\"fill: #1f77b4; stroke: #1f77b4\"/>\n     <use xlink:href=\"#m1dba5ca5f6\" x=\"161.563128\" y=\"89.701992\" style=\"fill: #1f77b4; stroke: #1f77b4\"/>\n     <use xlink:href=\"#m1dba5ca5f6\" x=\"131.16361\" y=\"93.289478\" style=\"fill: #1f77b4; stroke: #1f77b4\"/>\n     <use xlink:href=\"#m1dba5ca5f6\" x=\"171.392743\" y=\"116.705026\" style=\"fill: #1f77b4; stroke: #1f77b4\"/>\n     <use xlink:href=\"#m1dba5ca5f6\" x=\"215.364915\" y=\"116.606745\" style=\"fill: #1f77b4; stroke: #1f77b4\"/>\n     <use xlink:href=\"#m1dba5ca5f6\" x=\"147.229485\" y=\"90.007863\" style=\"fill: #1f77b4; stroke: #1f77b4\"/>\n     <use xlink:href=\"#m1dba5ca5f6\" x=\"119.638318\" y=\"68.900456\" style=\"fill: #1f77b4; stroke: #1f77b4\"/>\n     <use xlink:href=\"#m1dba5ca5f6\" x=\"135.530184\" y=\"75.683116\" style=\"fill: #1f77b4; stroke: #1f77b4\"/>\n     <use xlink:href=\"#m1dba5ca5f6\" x=\"85.1945\" y=\"20.166097\" style=\"fill: #1f77b4; stroke: #1f77b4\"/>\n     <use xlink:href=\"#m1dba5ca5f6\" x=\"139.41334\" y=\"76.39253\" style=\"fill: #1f77b4; stroke: #1f77b4\"/>\n     <use xlink:href=\"#m1dba5ca5f6\" x=\"130.039336\" y=\"64.400086\" style=\"fill: #1f77b4; stroke: #1f77b4\"/>\n     <use xlink:href=\"#m1dba5ca5f6\" x=\"109.506592\" y=\"67.768271\" style=\"fill: #1f77b4; stroke: #1f77b4\"/>\n     <use xlink:href=\"#m1dba5ca5f6\" x=\"189.581467\" y=\"123.026371\" style=\"fill: #1f77b4; stroke: #1f77b4\"/>\n     <use xlink:href=\"#m1dba5ca5f6\" x=\"129.222577\" y=\"79.845447\" style=\"fill: #1f77b4; stroke: #1f77b4\"/>\n     <use xlink:href=\"#m1dba5ca5f6\" x=\"178.177628\" y=\"98.602579\" style=\"fill: #1f77b4; stroke: #1f77b4\"/>\n     <use xlink:href=\"#m1dba5ca5f6\" x=\"92.037227\" y=\"26.154843\" style=\"fill: #1f77b4; stroke: #1f77b4\"/>\n     <use xlink:href=\"#m1dba5ca5f6\" x=\"142.062001\" y=\"95.044182\" style=\"fill: #1f77b4; stroke: #1f77b4\"/>\n     <use xlink:href=\"#m1dba5ca5f6\" x=\"141.409416\" y=\"80.773127\" style=\"fill: #1f77b4; stroke: #1f77b4\"/>\n     <use xlink:href=\"#m1dba5ca5f6\" x=\"156.220254\" y=\"97.589273\" style=\"fill: #1f77b4; stroke: #1f77b4\"/>\n     <use xlink:href=\"#m1dba5ca5f6\" x=\"143.873585\" y=\"84.643168\" style=\"fill: #1f77b4; stroke: #1f77b4\"/>\n     <use xlink:href=\"#m1dba5ca5f6\" x=\"112.802347\" y=\"34.071963\" style=\"fill: #1f77b4; stroke: #1f77b4\"/>\n     <use xlink:href=\"#m1dba5ca5f6\" x=\"135.933906\" y=\"71.993397\" style=\"fill: #1f77b4; stroke: #1f77b4\"/>\n     <use xlink:href=\"#m1dba5ca5f6\" x=\"134.95107\" y=\"87.776714\" style=\"fill: #1f77b4; stroke: #1f77b4\"/>\n     <use xlink:href=\"#m1dba5ca5f6\" x=\"150.246384\" y=\"102.910784\" style=\"fill: #1f77b4; stroke: #1f77b4\"/>\n     <use xlink:href=\"#m1dba5ca5f6\" x=\"141.042477\" y=\"94.978324\" style=\"fill: #1f77b4; stroke: #1f77b4\"/>\n     <use xlink:href=\"#m1dba5ca5f6\" x=\"104.076012\" y=\"70.315032\" style=\"fill: #1f77b4; stroke: #1f77b4\"/>\n     <use xlink:href=\"#m1dba5ca5f6\" x=\"127.455924\" y=\"80.263941\" style=\"fill: #1f77b4; stroke: #1f77b4\"/>\n     <use xlink:href=\"#m1dba5ca5f6\" x=\"121.41051\" y=\"59.172379\" style=\"fill: #1f77b4; stroke: #1f77b4\"/>\n     <use xlink:href=\"#m1dba5ca5f6\" x=\"112.49977\" y=\"71.558552\" style=\"fill: #1f77b4; stroke: #1f77b4\"/>\n     <use xlink:href=\"#m1dba5ca5f6\" x=\"136.967977\" y=\"69.929298\" style=\"fill: #1f77b4; stroke: #1f77b4\"/>\n     <use xlink:href=\"#m1dba5ca5f6\" x=\"140.994611\" y=\"92.008128\" style=\"fill: #1f77b4; stroke: #1f77b4\"/>\n     <use xlink:href=\"#m1dba5ca5f6\" x=\"142.028257\" y=\"87.262924\" style=\"fill: #1f77b4; stroke: #1f77b4\"/>\n     <use xlink:href=\"#m1dba5ca5f6\" x=\"136.946574\" y=\"66.136757\" style=\"fill: #1f77b4; stroke: #1f77b4\"/>\n     <use xlink:href=\"#m1dba5ca5f6\" x=\"183.192388\" y=\"103.850521\" style=\"fill: #1f77b4; stroke: #1f77b4\"/>\n     <use xlink:href=\"#m1dba5ca5f6\" x=\"161.194525\" y=\"104.800135\" style=\"fill: #1f77b4; stroke: #1f77b4\"/>\n     <use xlink:href=\"#m1dba5ca5f6\" x=\"176.262648\" y=\"98.539942\" style=\"fill: #1f77b4; stroke: #1f77b4\"/>\n     <use xlink:href=\"#m1dba5ca5f6\" x=\"135.996496\" y=\"81.057831\" style=\"fill: #1f77b4; stroke: #1f77b4\"/>\n     <use xlink:href=\"#m1dba5ca5f6\" x=\"131.175106\" y=\"76.605366\" style=\"fill: #1f77b4; stroke: #1f77b4\"/>\n     <use xlink:href=\"#m1dba5ca5f6\" x=\"151.326378\" y=\"83.284563\" style=\"fill: #1f77b4; stroke: #1f77b4\"/>\n     <use xlink:href=\"#m1dba5ca5f6\" x=\"108.804025\" y=\"62.889122\" style=\"fill: #1f77b4; stroke: #1f77b4\"/>\n     <use xlink:href=\"#m1dba5ca5f6\" x=\"150.350787\" y=\"81.733502\" style=\"fill: #1f77b4; stroke: #1f77b4\"/>\n     <use xlink:href=\"#m1dba5ca5f6\" x=\"129.718177\" y=\"70.573031\" style=\"fill: #1f77b4; stroke: #1f77b4\"/>\n     <use xlink:href=\"#m1dba5ca5f6\" x=\"139.03961\" y=\"83.123651\" style=\"fill: #1f77b4; stroke: #1f77b4\"/>\n     <use xlink:href=\"#m1dba5ca5f6\" x=\"154.474184\" y=\"93.419555\" style=\"fill: #1f77b4; stroke: #1f77b4\"/>\n     <use xlink:href=\"#m1dba5ca5f6\" x=\"137.41444\" y=\"83.656387\" style=\"fill: #1f77b4; stroke: #1f77b4\"/>\n     <use xlink:href=\"#m1dba5ca5f6\" x=\"107.533531\" y=\"58.605365\" style=\"fill: #1f77b4; stroke: #1f77b4\"/>\n     <use xlink:href=\"#m1dba5ca5f6\" x=\"103.862586\" y=\"42.539843\" style=\"fill: #1f77b4; stroke: #1f77b4\"/>\n     <use xlink:href=\"#m1dba5ca5f6\" x=\"85.553483\" y=\"43.562162\" style=\"fill: #1f77b4; stroke: #1f77b4\"/>\n     <use xlink:href=\"#m1dba5ca5f6\" x=\"151.634686\" y=\"79.877581\" style=\"fill: #1f77b4; stroke: #1f77b4\"/>\n     <use xlink:href=\"#m1dba5ca5f6\" x=\"146.915913\" y=\"100.778774\" style=\"fill: #1f77b4; stroke: #1f77b4\"/>\n     <use xlink:href=\"#m1dba5ca5f6\" x=\"148.562544\" y=\"79.258041\" style=\"fill: #1f77b4; stroke: #1f77b4\"/>\n     <use xlink:href=\"#m1dba5ca5f6\" x=\"177.642458\" y=\"106.667616\" style=\"fill: #1f77b4; stroke: #1f77b4\"/>\n     <use xlink:href=\"#m1dba5ca5f6\" x=\"117.508078\" y=\"62.294487\" style=\"fill: #1f77b4; stroke: #1f77b4\"/>\n     <use xlink:href=\"#m1dba5ca5f6\" x=\"168.12987\" y=\"90.801597\" style=\"fill: #1f77b4; stroke: #1f77b4\"/>\n     <use xlink:href=\"#m1dba5ca5f6\" x=\"163.812395\" y=\"84.923959\" style=\"fill: #1f77b4; stroke: #1f77b4\"/>\n     <use xlink:href=\"#m1dba5ca5f6\" x=\"121.379311\" y=\"71.157638\" style=\"fill: #1f77b4; stroke: #1f77b4\"/>\n     <use xlink:href=\"#m1dba5ca5f6\" x=\"124.537683\" y=\"78.868525\" style=\"fill: #1f77b4; stroke: #1f77b4\"/>\n     <use xlink:href=\"#m1dba5ca5f6\" x=\"143.65011\" y=\"79.922884\" style=\"fill: #1f77b4; stroke: #1f77b4\"/>\n     <use xlink:href=\"#m1dba5ca5f6\" x=\"125.306224\" y=\"84.50618\" style=\"fill: #1f77b4; stroke: #1f77b4\"/>\n     <use xlink:href=\"#m1dba5ca5f6\" x=\"141.678316\" y=\"45.20292\" style=\"fill: #1f77b4; stroke: #1f77b4\"/>\n     <use xlink:href=\"#m1dba5ca5f6\" x=\"152.857516\" y=\"85.35009\" style=\"fill: #1f77b4; stroke: #1f77b4\"/>\n     <use xlink:href=\"#m1dba5ca5f6\" x=\"117.057737\" y=\"91.885199\" style=\"fill: #1f77b4; stroke: #1f77b4\"/>\n     <use xlink:href=\"#m1dba5ca5f6\" x=\"138.58981\" y=\"73.397029\" style=\"fill: #1f77b4; stroke: #1f77b4\"/>\n     <use xlink:href=\"#m1dba5ca5f6\" x=\"121.595069\" y=\"89.82143\" style=\"fill: #1f77b4; stroke: #1f77b4\"/>\n     <use xlink:href=\"#m1dba5ca5f6\" x=\"146.142503\" y=\"81.03788\" style=\"fill: #1f77b4; stroke: #1f77b4\"/>\n     <use xlink:href=\"#m1dba5ca5f6\" x=\"128.846645\" y=\"78.558697\" style=\"fill: #1f77b4; stroke: #1f77b4\"/>\n     <use xlink:href=\"#m1dba5ca5f6\" x=\"152.075931\" y=\"80.931411\" style=\"fill: #1f77b4; stroke: #1f77b4\"/>\n     <use xlink:href=\"#m1dba5ca5f6\" x=\"116.931758\" y=\"61.060435\" style=\"fill: #1f77b4; stroke: #1f77b4\"/>\n     <use xlink:href=\"#m1dba5ca5f6\" x=\"117.185833\" y=\"82.003234\" style=\"fill: #1f77b4; stroke: #1f77b4\"/>\n     <use xlink:href=\"#m1dba5ca5f6\" x=\"178.148824\" y=\"96.847634\" style=\"fill: #1f77b4; stroke: #1f77b4\"/>\n     <use xlink:href=\"#m1dba5ca5f6\" x=\"124.319214\" y=\"72.864708\" style=\"fill: #1f77b4; stroke: #1f77b4\"/>\n     <use xlink:href=\"#m1dba5ca5f6\" x=\"166.487687\" y=\"103.48411\" style=\"fill: #1f77b4; stroke: #1f77b4\"/>\n     <use xlink:href=\"#m1dba5ca5f6\" x=\"119.345599\" y=\"71.129177\" style=\"fill: #1f77b4; stroke: #1f77b4\"/>\n     <use xlink:href=\"#m1dba5ca5f6\" x=\"126.357085\" y=\"72.668713\" style=\"fill: #1f77b4; stroke: #1f77b4\"/>\n     <use xlink:href=\"#m1dba5ca5f6\" x=\"119.864071\" y=\"77.689374\" style=\"fill: #1f77b4; stroke: #1f77b4\"/>\n     <use xlink:href=\"#m1dba5ca5f6\" x=\"153.221195\" y=\"75.73817\" style=\"fill: #1f77b4; stroke: #1f77b4\"/>\n     <use xlink:href=\"#m1dba5ca5f6\" x=\"128.965217\" y=\"73.75176\" style=\"fill: #1f77b4; stroke: #1f77b4\"/>\n     <use xlink:href=\"#m1dba5ca5f6\" x=\"171.783842\" y=\"111.091936\" style=\"fill: #1f77b4; stroke: #1f77b4\"/>\n     <use xlink:href=\"#m1dba5ca5f6\" x=\"152.039763\" y=\"81.939664\" style=\"fill: #1f77b4; stroke: #1f77b4\"/>\n     <use xlink:href=\"#m1dba5ca5f6\" x=\"117.461758\" y=\"59.744769\" style=\"fill: #1f77b4; stroke: #1f77b4\"/>\n     <use xlink:href=\"#m1dba5ca5f6\" x=\"107.028488\" y=\"64.784064\" style=\"fill: #1f77b4; stroke: #1f77b4\"/>\n     <use xlink:href=\"#m1dba5ca5f6\" x=\"148.823373\" y=\"89.820519\" style=\"fill: #1f77b4; stroke: #1f77b4\"/>\n     <use xlink:href=\"#m1dba5ca5f6\" x=\"157.512611\" y=\"86.948932\" style=\"fill: #1f77b4; stroke: #1f77b4\"/>\n     <use xlink:href=\"#m1dba5ca5f6\" x=\"75.848927\" y=\"47.3278\" style=\"fill: #1f77b4; stroke: #1f77b4\"/>\n     <use xlink:href=\"#m1dba5ca5f6\" x=\"142.996511\" y=\"71.524465\" style=\"fill: #1f77b4; stroke: #1f77b4\"/>\n     <use xlink:href=\"#m1dba5ca5f6\" x=\"115.738858\" y=\"62.38641\" style=\"fill: #1f77b4; stroke: #1f77b4\"/>\n     <use xlink:href=\"#m1dba5ca5f6\" x=\"152.299271\" y=\"69.493346\" style=\"fill: #1f77b4; stroke: #1f77b4\"/>\n     <use xlink:href=\"#m1dba5ca5f6\" x=\"151.122603\" y=\"81.299147\" style=\"fill: #1f77b4; stroke: #1f77b4\"/>\n     <use xlink:href=\"#m1dba5ca5f6\" x=\"118.085797\" y=\"63.189404\" style=\"fill: #1f77b4; stroke: #1f77b4\"/>\n     <use xlink:href=\"#m1dba5ca5f6\" x=\"151.984442\" y=\"92.133257\" style=\"fill: #1f77b4; stroke: #1f77b4\"/>\n     <use xlink:href=\"#m1dba5ca5f6\" x=\"121.081436\" y=\"54.958734\" style=\"fill: #1f77b4; stroke: #1f77b4\"/>\n     <use xlink:href=\"#m1dba5ca5f6\" x=\"102.49813\" y=\"59.947463\" style=\"fill: #1f77b4; stroke: #1f77b4\"/>\n     <use xlink:href=\"#m1dba5ca5f6\" x=\"135.210595\" y=\"69.26046\" style=\"fill: #1f77b4; stroke: #1f77b4\"/>\n     <use xlink:href=\"#m1dba5ca5f6\" x=\"170.197605\" y=\"102.64088\" style=\"fill: #1f77b4; stroke: #1f77b4\"/>\n     <use xlink:href=\"#m1dba5ca5f6\" x=\"108.266712\" y=\"67.578913\" style=\"fill: #1f77b4; stroke: #1f77b4\"/>\n     <use xlink:href=\"#m1dba5ca5f6\" x=\"133.948547\" y=\"88.648856\" style=\"fill: #1f77b4; stroke: #1f77b4\"/>\n     <use xlink:href=\"#m1dba5ca5f6\" x=\"150.68769\" y=\"98.354504\" style=\"fill: #1f77b4; stroke: #1f77b4\"/>\n     <use xlink:href=\"#m1dba5ca5f6\" x=\"136.049849\" y=\"68.305727\" style=\"fill: #1f77b4; stroke: #1f77b4\"/>\n     <use xlink:href=\"#m1dba5ca5f6\" x=\"154.45175\" y=\"73.003573\" style=\"fill: #1f77b4; stroke: #1f77b4\"/>\n     <use xlink:href=\"#m1dba5ca5f6\" x=\"161.530805\" y=\"84.284669\" style=\"fill: #1f77b4; stroke: #1f77b4\"/>\n     <use xlink:href=\"#m1dba5ca5f6\" x=\"147.694378\" y=\"75.323416\" style=\"fill: #1f77b4; stroke: #1f77b4\"/>\n     <use xlink:href=\"#m1dba5ca5f6\" x=\"165.822113\" y=\"97.993942\" style=\"fill: #1f77b4; stroke: #1f77b4\"/>\n     <use xlink:href=\"#m1dba5ca5f6\" x=\"115.385407\" y=\"65.587048\" style=\"fill: #1f77b4; stroke: #1f77b4\"/>\n     <use xlink:href=\"#m1dba5ca5f6\" x=\"139.38177\" y=\"69.437233\" style=\"fill: #1f77b4; stroke: #1f77b4\"/>\n     <use xlink:href=\"#m1dba5ca5f6\" x=\"155.140784\" y=\"84.442753\" style=\"fill: #1f77b4; stroke: #1f77b4\"/>\n     <use xlink:href=\"#m1dba5ca5f6\" x=\"175.230727\" y=\"115.333602\" style=\"fill: #1f77b4; stroke: #1f77b4\"/>\n     <use xlink:href=\"#m1dba5ca5f6\" x=\"125.990017\" y=\"72.236832\" style=\"fill: #1f77b4; stroke: #1f77b4\"/>\n     <use xlink:href=\"#m1dba5ca5f6\" x=\"109.168956\" y=\"67.783118\" style=\"fill: #1f77b4; stroke: #1f77b4\"/>\n     <use xlink:href=\"#m1dba5ca5f6\" x=\"95.049946\" y=\"60.029632\" style=\"fill: #1f77b4; stroke: #1f77b4\"/>\n     <use xlink:href=\"#m1dba5ca5f6\" x=\"139.824279\" y=\"90.959744\" style=\"fill: #1f77b4; stroke: #1f77b4\"/>\n     <use xlink:href=\"#m1dba5ca5f6\" x=\"118.683817\" y=\"60.265753\" style=\"fill: #1f77b4; stroke: #1f77b4\"/>\n     <use xlink:href=\"#m1dba5ca5f6\" x=\"188.88909\" y=\"112.015501\" style=\"fill: #1f77b4; stroke: #1f77b4\"/>\n     <use xlink:href=\"#m1dba5ca5f6\" x=\"123.734793\" y=\"60.531454\" style=\"fill: #1f77b4; stroke: #1f77b4\"/>\n     <use xlink:href=\"#m1dba5ca5f6\" x=\"192.756727\" y=\"118.635619\" style=\"fill: #1f77b4; stroke: #1f77b4\"/>\n     <use xlink:href=\"#m1dba5ca5f6\" x=\"140.860248\" y=\"75.971059\" style=\"fill: #1f77b4; stroke: #1f77b4\"/>\n     <use xlink:href=\"#m1dba5ca5f6\" x=\"133.751254\" y=\"70.280262\" style=\"fill: #1f77b4; stroke: #1f77b4\"/>\n     <use xlink:href=\"#m1dba5ca5f6\" x=\"80.759332\" y=\"51.835452\" style=\"fill: #1f77b4; stroke: #1f77b4\"/>\n     <use xlink:href=\"#m1dba5ca5f6\" x=\"149.515953\" y=\"89.660278\" style=\"fill: #1f77b4; stroke: #1f77b4\"/>\n     <use xlink:href=\"#m1dba5ca5f6\" x=\"160.789076\" y=\"88.699302\" style=\"fill: #1f77b4; stroke: #1f77b4\"/>\n     <use xlink:href=\"#m1dba5ca5f6\" x=\"160.855301\" y=\"98.885494\" style=\"fill: #1f77b4; stroke: #1f77b4\"/>\n     <use xlink:href=\"#m1dba5ca5f6\" x=\"206.477909\" y=\"125.045336\" style=\"fill: #1f77b4; stroke: #1f77b4\"/>\n     <use xlink:href=\"#m1dba5ca5f6\" x=\"63.055595\" y=\"43.336143\" style=\"fill: #1f77b4; stroke: #1f77b4\"/>\n     <use xlink:href=\"#m1dba5ca5f6\" x=\"145.535184\" y=\"108.95056\" style=\"fill: #1f77b4; stroke: #1f77b4\"/>\n     <use xlink:href=\"#m1dba5ca5f6\" x=\"133.370077\" y=\"83.834453\" style=\"fill: #1f77b4; stroke: #1f77b4\"/>\n     <use xlink:href=\"#m1dba5ca5f6\" x=\"156.518066\" y=\"91.715683\" style=\"fill: #1f77b4; stroke: #1f77b4\"/>\n     <use xlink:href=\"#m1dba5ca5f6\" x=\"119.472173\" y=\"71.969167\" style=\"fill: #1f77b4; stroke: #1f77b4\"/>\n     <use xlink:href=\"#m1dba5ca5f6\" x=\"112.668322\" y=\"54.362924\" style=\"fill: #1f77b4; stroke: #1f77b4\"/>\n     <use xlink:href=\"#m1dba5ca5f6\" x=\"155.413676\" y=\"87.485489\" style=\"fill: #1f77b4; stroke: #1f77b4\"/>\n     <use xlink:href=\"#m1dba5ca5f6\" x=\"124.062494\" y=\"48.331527\" style=\"fill: #1f77b4; stroke: #1f77b4\"/>\n     <use xlink:href=\"#m1dba5ca5f6\" x=\"80.438503\" y=\"53.559044\" style=\"fill: #1f77b4; stroke: #1f77b4\"/>\n     <use xlink:href=\"#m1dba5ca5f6\" x=\"188.167961\" y=\"112.119422\" style=\"fill: #1f77b4; stroke: #1f77b4\"/>\n     <use xlink:href=\"#m1dba5ca5f6\" x=\"113.346245\" y=\"66.161259\" style=\"fill: #1f77b4; stroke: #1f77b4\"/>\n     <use xlink:href=\"#m1dba5ca5f6\" x=\"112.183249\" y=\"65.279766\" style=\"fill: #1f77b4; stroke: #1f77b4\"/>\n     <use xlink:href=\"#m1dba5ca5f6\" x=\"141.35888\" y=\"90.418584\" style=\"fill: #1f77b4; stroke: #1f77b4\"/>\n     <use xlink:href=\"#m1dba5ca5f6\" x=\"166.115554\" y=\"98.783055\" style=\"fill: #1f77b4; stroke: #1f77b4\"/>\n     <use xlink:href=\"#m1dba5ca5f6\" x=\"165.924167\" y=\"108.053568\" style=\"fill: #1f77b4; stroke: #1f77b4\"/>\n     <use xlink:href=\"#m1dba5ca5f6\" x=\"121.293999\" y=\"70.956256\" style=\"fill: #1f77b4; stroke: #1f77b4\"/>\n     <use xlink:href=\"#m1dba5ca5f6\" x=\"103.938539\" y=\"53.373603\" style=\"fill: #1f77b4; stroke: #1f77b4\"/>\n     <use xlink:href=\"#m1dba5ca5f6\" x=\"110.429906\" y=\"59.078412\" style=\"fill: #1f77b4; stroke: #1f77b4\"/>\n     <use xlink:href=\"#m1dba5ca5f6\" x=\"111.083406\" y=\"66.498475\" style=\"fill: #1f77b4; stroke: #1f77b4\"/>\n     <use xlink:href=\"#m1dba5ca5f6\" x=\"118.312019\" y=\"53.793417\" style=\"fill: #1f77b4; stroke: #1f77b4\"/>\n     <use xlink:href=\"#m1dba5ca5f6\" x=\"145.853739\" y=\"91.923219\" style=\"fill: #1f77b4; stroke: #1f77b4\"/>\n     <use xlink:href=\"#m1dba5ca5f6\" x=\"107.000328\" y=\"57.324179\" style=\"fill: #1f77b4; stroke: #1f77b4\"/>\n     <use xlink:href=\"#m1dba5ca5f6\" x=\"143.570482\" y=\"78.593291\" style=\"fill: #1f77b4; stroke: #1f77b4\"/>\n     <use xlink:href=\"#m1dba5ca5f6\" x=\"133.765233\" y=\"69.950197\" style=\"fill: #1f77b4; stroke: #1f77b4\"/>\n     <use xlink:href=\"#m1dba5ca5f6\" x=\"179.985235\" y=\"115.180952\" style=\"fill: #1f77b4; stroke: #1f77b4\"/>\n     <use xlink:href=\"#m1dba5ca5f6\" x=\"161.292094\" y=\"113.196273\" style=\"fill: #1f77b4; stroke: #1f77b4\"/>\n     <use xlink:href=\"#m1dba5ca5f6\" x=\"128.63594\" y=\"54.504898\" style=\"fill: #1f77b4; stroke: #1f77b4\"/>\n     <use xlink:href=\"#m1dba5ca5f6\" x=\"144.116376\" y=\"91.481011\" style=\"fill: #1f77b4; stroke: #1f77b4\"/>\n     <use xlink:href=\"#m1dba5ca5f6\" x=\"186.421261\" y=\"110.77992\" style=\"fill: #1f77b4; stroke: #1f77b4\"/>\n     <use xlink:href=\"#m1dba5ca5f6\" x=\"179.579255\" y=\"95.051279\" style=\"fill: #1f77b4; stroke: #1f77b4\"/>\n     <use xlink:href=\"#m1dba5ca5f6\" x=\"171.792507\" y=\"96.789723\" style=\"fill: #1f77b4; stroke: #1f77b4\"/>\n     <use xlink:href=\"#m1dba5ca5f6\" x=\"115.496329\" y=\"81.839696\" style=\"fill: #1f77b4; stroke: #1f77b4\"/>\n     <use xlink:href=\"#m1dba5ca5f6\" x=\"105.982369\" y=\"40.731462\" style=\"fill: #1f77b4; stroke: #1f77b4\"/>\n     <use xlink:href=\"#m1dba5ca5f6\" x=\"139.400397\" y=\"91.236652\" style=\"fill: #1f77b4; stroke: #1f77b4\"/>\n     <use xlink:href=\"#m1dba5ca5f6\" x=\"104.07302\" y=\"47.885645\" style=\"fill: #1f77b4; stroke: #1f77b4\"/>\n     <use xlink:href=\"#m1dba5ca5f6\" x=\"178.180336\" y=\"101.400531\" style=\"fill: #1f77b4; stroke: #1f77b4\"/>\n     <use xlink:href=\"#m1dba5ca5f6\" x=\"149.651722\" y=\"71.725997\" style=\"fill: #1f77b4; stroke: #1f77b4\"/>\n     <use xlink:href=\"#m1dba5ca5f6\" x=\"125.139044\" y=\"75.590164\" style=\"fill: #1f77b4; stroke: #1f77b4\"/>\n     <use xlink:href=\"#m1dba5ca5f6\" x=\"147.406689\" y=\"95.508786\" style=\"fill: #1f77b4; stroke: #1f77b4\"/>\n     <use xlink:href=\"#m1dba5ca5f6\" x=\"161.896791\" y=\"91.370335\" style=\"fill: #1f77b4; stroke: #1f77b4\"/>\n     <use xlink:href=\"#m1dba5ca5f6\" x=\"135.598303\" y=\"66.898279\" style=\"fill: #1f77b4; stroke: #1f77b4\"/>\n     <use xlink:href=\"#m1dba5ca5f6\" x=\"108.8397\" y=\"54.888019\" style=\"fill: #1f77b4; stroke: #1f77b4\"/>\n     <use xlink:href=\"#m1dba5ca5f6\" x=\"110.129983\" y=\"68.35269\" style=\"fill: #1f77b4; stroke: #1f77b4\"/>\n     <use xlink:href=\"#m1dba5ca5f6\" x=\"187.647671\" y=\"106.605534\" style=\"fill: #1f77b4; stroke: #1f77b4\"/>\n     <use xlink:href=\"#m1dba5ca5f6\" x=\"107.752638\" y=\"68.322876\" style=\"fill: #1f77b4; stroke: #1f77b4\"/>\n     <use xlink:href=\"#m1dba5ca5f6\" x=\"81.471903\" y=\"47.11253\" style=\"fill: #1f77b4; stroke: #1f77b4\"/>\n     <use xlink:href=\"#m1dba5ca5f6\" x=\"124.820402\" y=\"71.148295\" style=\"fill: #1f77b4; stroke: #1f77b4\"/>\n     <use xlink:href=\"#m1dba5ca5f6\" x=\"146.842118\" y=\"85.301851\" style=\"fill: #1f77b4; stroke: #1f77b4\"/>\n     <use xlink:href=\"#m1dba5ca5f6\" x=\"148.758315\" y=\"79.741007\" style=\"fill: #1f77b4; stroke: #1f77b4\"/>\n     <use xlink:href=\"#m1dba5ca5f6\" x=\"152.812168\" y=\"85.497897\" style=\"fill: #1f77b4; stroke: #1f77b4\"/>\n     <use xlink:href=\"#m1dba5ca5f6\" x=\"130.867894\" y=\"75.656486\" style=\"fill: #1f77b4; stroke: #1f77b4\"/>\n     <use xlink:href=\"#m1dba5ca5f6\" x=\"163.7261\" y=\"89.952281\" style=\"fill: #1f77b4; stroke: #1f77b4\"/>\n     <use xlink:href=\"#m1dba5ca5f6\" x=\"150.953898\" y=\"80.491038\" style=\"fill: #1f77b4; stroke: #1f77b4\"/>\n     <use xlink:href=\"#m1dba5ca5f6\" x=\"173.684494\" y=\"99.927766\" style=\"fill: #1f77b4; stroke: #1f77b4\"/>\n     <use xlink:href=\"#m1dba5ca5f6\" x=\"116.582042\" y=\"57.208502\" style=\"fill: #1f77b4; stroke: #1f77b4\"/>\n     <use xlink:href=\"#m1dba5ca5f6\" x=\"104.045481\" y=\"52.039283\" style=\"fill: #1f77b4; stroke: #1f77b4\"/>\n     <use xlink:href=\"#m1dba5ca5f6\" x=\"153.3708\" y=\"75.447754\" style=\"fill: #1f77b4; stroke: #1f77b4\"/>\n     <use xlink:href=\"#m1dba5ca5f6\" x=\"118.461441\" y=\"55.058197\" style=\"fill: #1f77b4; stroke: #1f77b4\"/>\n     <use xlink:href=\"#m1dba5ca5f6\" x=\"160.41087\" y=\"85.757167\" style=\"fill: #1f77b4; stroke: #1f77b4\"/>\n     <use xlink:href=\"#m1dba5ca5f6\" x=\"103.462861\" y=\"63.052263\" style=\"fill: #1f77b4; stroke: #1f77b4\"/>\n     <use xlink:href=\"#m1dba5ca5f6\" x=\"93.808972\" y=\"44.844309\" style=\"fill: #1f77b4; stroke: #1f77b4\"/>\n     <use xlink:href=\"#m1dba5ca5f6\" x=\"93.808005\" y=\"65.398607\" style=\"fill: #1f77b4; stroke: #1f77b4\"/>\n     <use xlink:href=\"#m1dba5ca5f6\" x=\"178.767665\" y=\"121.634014\" style=\"fill: #1f77b4; stroke: #1f77b4\"/>\n     <use xlink:href=\"#m1dba5ca5f6\" x=\"152.463998\" y=\"89.558737\" style=\"fill: #1f77b4; stroke: #1f77b4\"/>\n     <use xlink:href=\"#m1dba5ca5f6\" x=\"184.579918\" y=\"105.848295\" style=\"fill: #1f77b4; stroke: #1f77b4\"/>\n     <use xlink:href=\"#m1dba5ca5f6\" x=\"127.769585\" y=\"79.536038\" style=\"fill: #1f77b4; stroke: #1f77b4\"/>\n     <use xlink:href=\"#m1dba5ca5f6\" x=\"153.405477\" y=\"81.401709\" style=\"fill: #1f77b4; stroke: #1f77b4\"/>\n     <use xlink:href=\"#m1dba5ca5f6\" x=\"99.063411\" y=\"63.714857\" style=\"fill: #1f77b4; stroke: #1f77b4\"/>\n     <use xlink:href=\"#m1dba5ca5f6\" x=\"148.176939\" y=\"85.261481\" style=\"fill: #1f77b4; stroke: #1f77b4\"/>\n     <use xlink:href=\"#m1dba5ca5f6\" x=\"111.662721\" y=\"70.640304\" style=\"fill: #1f77b4; stroke: #1f77b4\"/>\n     <use xlink:href=\"#m1dba5ca5f6\" x=\"159.646199\" y=\"105.254053\" style=\"fill: #1f77b4; stroke: #1f77b4\"/>\n     <use xlink:href=\"#m1dba5ca5f6\" x=\"152.185739\" y=\"104.541607\" style=\"fill: #1f77b4; stroke: #1f77b4\"/>\n     <use xlink:href=\"#m1dba5ca5f6\" x=\"168.052585\" y=\"95.420515\" style=\"fill: #1f77b4; stroke: #1f77b4\"/>\n     <use xlink:href=\"#m1dba5ca5f6\" x=\"109.818746\" y=\"57.920217\" style=\"fill: #1f77b4; stroke: #1f77b4\"/>\n     <use xlink:href=\"#m1dba5ca5f6\" x=\"104.400839\" y=\"47.203162\" style=\"fill: #1f77b4; stroke: #1f77b4\"/>\n     <use xlink:href=\"#m1dba5ca5f6\" x=\"113.820514\" y=\"78.682764\" style=\"fill: #1f77b4; stroke: #1f77b4\"/>\n     <use xlink:href=\"#m1dba5ca5f6\" x=\"155.387229\" y=\"83.541258\" style=\"fill: #1f77b4; stroke: #1f77b4\"/>\n     <use xlink:href=\"#m1dba5ca5f6\" x=\"193.54355\" y=\"105.146042\" style=\"fill: #1f77b4; stroke: #1f77b4\"/>\n     <use xlink:href=\"#m1dba5ca5f6\" x=\"123.34048\" y=\"60.517271\" style=\"fill: #1f77b4; stroke: #1f77b4\"/>\n     <use xlink:href=\"#m1dba5ca5f6\" x=\"166.716208\" y=\"93.620143\" style=\"fill: #1f77b4; stroke: #1f77b4\"/>\n     <use xlink:href=\"#m1dba5ca5f6\" x=\"180.146534\" y=\"92.512779\" style=\"fill: #1f77b4; stroke: #1f77b4\"/>\n     <use xlink:href=\"#m1dba5ca5f6\" x=\"130.235999\" y=\"55.723022\" style=\"fill: #1f77b4; stroke: #1f77b4\"/>\n     <use xlink:href=\"#m1dba5ca5f6\" x=\"165.784515\" y=\"91.098935\" style=\"fill: #1f77b4; stroke: #1f77b4\"/>\n     <use xlink:href=\"#m1dba5ca5f6\" x=\"164.841156\" y=\"92.339871\" style=\"fill: #1f77b4; stroke: #1f77b4\"/>\n     <use xlink:href=\"#m1dba5ca5f6\" x=\"132.991933\" y=\"79.305198\" style=\"fill: #1f77b4; stroke: #1f77b4\"/>\n     <use xlink:href=\"#m1dba5ca5f6\" x=\"111.111384\" y=\"47.215448\" style=\"fill: #1f77b4; stroke: #1f77b4\"/>\n     <use xlink:href=\"#m1dba5ca5f6\" x=\"146.30183\" y=\"82.323831\" style=\"fill: #1f77b4; stroke: #1f77b4\"/>\n     <use xlink:href=\"#m1dba5ca5f6\" x=\"135.505507\" y=\"83.196313\" style=\"fill: #1f77b4; stroke: #1f77b4\"/>\n     <use xlink:href=\"#m1dba5ca5f6\" x=\"139.532648\" y=\"73.079256\" style=\"fill: #1f77b4; stroke: #1f77b4\"/>\n     <use xlink:href=\"#m1dba5ca5f6\" x=\"157.159221\" y=\"93.094769\" style=\"fill: #1f77b4; stroke: #1f77b4\"/>\n     <use xlink:href=\"#m1dba5ca5f6\" x=\"130.913314\" y=\"58.735173\" style=\"fill: #1f77b4; stroke: #1f77b4\"/>\n     <use xlink:href=\"#m1dba5ca5f6\" x=\"170.764613\" y=\"105.643335\" style=\"fill: #1f77b4; stroke: #1f77b4\"/>\n     <use xlink:href=\"#m1dba5ca5f6\" x=\"161.956955\" y=\"95.397062\" style=\"fill: #1f77b4; stroke: #1f77b4\"/>\n     <use xlink:href=\"#m1dba5ca5f6\" x=\"195.450217\" y=\"91.742434\" style=\"fill: #1f77b4; stroke: #1f77b4\"/>\n     <use xlink:href=\"#m1dba5ca5f6\" x=\"108.173579\" y=\"84.749975\" style=\"fill: #1f77b4; stroke: #1f77b4\"/>\n     <use xlink:href=\"#m1dba5ca5f6\" x=\"177.276054\" y=\"119.602747\" style=\"fill: #1f77b4; stroke: #1f77b4\"/>\n     <use xlink:href=\"#m1dba5ca5f6\" x=\"134.355492\" y=\"85.092444\" style=\"fill: #1f77b4; stroke: #1f77b4\"/>\n     <use xlink:href=\"#m1dba5ca5f6\" x=\"121.491247\" y=\"78.332411\" style=\"fill: #1f77b4; stroke: #1f77b4\"/>\n     <use xlink:href=\"#m1dba5ca5f6\" x=\"152.47199\" y=\"107.076385\" style=\"fill: #1f77b4; stroke: #1f77b4\"/>\n     <use xlink:href=\"#m1dba5ca5f6\" x=\"151.986988\" y=\"80.244938\" style=\"fill: #1f77b4; stroke: #1f77b4\"/>\n     <use xlink:href=\"#m1dba5ca5f6\" x=\"151.442054\" y=\"99.559422\" style=\"fill: #1f77b4; stroke: #1f77b4\"/>\n     <use xlink:href=\"#m1dba5ca5f6\" x=\"193.465866\" y=\"115.171929\" style=\"fill: #1f77b4; stroke: #1f77b4\"/>\n     <use xlink:href=\"#m1dba5ca5f6\" x=\"177.395518\" y=\"118.718021\" style=\"fill: #1f77b4; stroke: #1f77b4\"/>\n     <use xlink:href=\"#m1dba5ca5f6\" x=\"147.835637\" y=\"73.139988\" style=\"fill: #1f77b4; stroke: #1f77b4\"/>\n     <use xlink:href=\"#m1dba5ca5f6\" x=\"76.617421\" y=\"32.221883\" style=\"fill: #1f77b4; stroke: #1f77b4\"/>\n     <use xlink:href=\"#m1dba5ca5f6\" x=\"149.525435\" y=\"75.753724\" style=\"fill: #1f77b4; stroke: #1f77b4\"/>\n     <use xlink:href=\"#m1dba5ca5f6\" x=\"116.198022\" y=\"56.333664\" style=\"fill: #1f77b4; stroke: #1f77b4\"/>\n     <use xlink:href=\"#m1dba5ca5f6\" x=\"139.369725\" y=\"59.109815\" style=\"fill: #1f77b4; stroke: #1f77b4\"/>\n     <use xlink:href=\"#m1dba5ca5f6\" x=\"72.277734\" y=\"33.766513\" style=\"fill: #1f77b4; stroke: #1f77b4\"/>\n     <use xlink:href=\"#m1dba5ca5f6\" x=\"85.9651\" y=\"61.244182\" style=\"fill: #1f77b4; stroke: #1f77b4\"/>\n     <use xlink:href=\"#m1dba5ca5f6\" x=\"153.549326\" y=\"77.832584\" style=\"fill: #1f77b4; stroke: #1f77b4\"/>\n     <use xlink:href=\"#m1dba5ca5f6\" x=\"158.694043\" y=\"116.520952\" style=\"fill: #1f77b4; stroke: #1f77b4\"/>\n     <use xlink:href=\"#m1dba5ca5f6\" x=\"152.12597\" y=\"88.914292\" style=\"fill: #1f77b4; stroke: #1f77b4\"/>\n     <use xlink:href=\"#m1dba5ca5f6\" x=\"128.879196\" y=\"60.954691\" style=\"fill: #1f77b4; stroke: #1f77b4\"/>\n     <use xlink:href=\"#m1dba5ca5f6\" x=\"146.315121\" y=\"60.281634\" style=\"fill: #1f77b4; stroke: #1f77b4\"/>\n     <use xlink:href=\"#m1dba5ca5f6\" x=\"156.904989\" y=\"92.568814\" style=\"fill: #1f77b4; stroke: #1f77b4\"/>\n     <use xlink:href=\"#m1dba5ca5f6\" x=\"130.325327\" y=\"60.362489\" style=\"fill: #1f77b4; stroke: #1f77b4\"/>\n     <use xlink:href=\"#m1dba5ca5f6\" x=\"141.098501\" y=\"93.135843\" style=\"fill: #1f77b4; stroke: #1f77b4\"/>\n     <use xlink:href=\"#m1dba5ca5f6\" x=\"123.044034\" y=\"62.308134\" style=\"fill: #1f77b4; stroke: #1f77b4\"/>\n     <use xlink:href=\"#m1dba5ca5f6\" x=\"149.219762\" y=\"98.408258\" style=\"fill: #1f77b4; stroke: #1f77b4\"/>\n     <use xlink:href=\"#m1dba5ca5f6\" x=\"205.276161\" y=\"128.441851\" style=\"fill: #1f77b4; stroke: #1f77b4\"/>\n     <use xlink:href=\"#m1dba5ca5f6\" x=\"141.88833\" y=\"80.62163\" style=\"fill: #1f77b4; stroke: #1f77b4\"/>\n     <use xlink:href=\"#m1dba5ca5f6\" x=\"165.0325\" y=\"99.196353\" style=\"fill: #1f77b4; stroke: #1f77b4\"/>\n     <use xlink:href=\"#m1dba5ca5f6\" x=\"151.399656\" y=\"78.428363\" style=\"fill: #1f77b4; stroke: #1f77b4\"/>\n     <use xlink:href=\"#m1dba5ca5f6\" x=\"155.606066\" y=\"92.357588\" style=\"fill: #1f77b4; stroke: #1f77b4\"/>\n     <use xlink:href=\"#m1dba5ca5f6\" x=\"117.091079\" y=\"75.757371\" style=\"fill: #1f77b4; stroke: #1f77b4\"/>\n     <use xlink:href=\"#m1dba5ca5f6\" x=\"81.393386\" y=\"32.103224\" style=\"fill: #1f77b4; stroke: #1f77b4\"/>\n     <use xlink:href=\"#m1dba5ca5f6\" x=\"168.089821\" y=\"113.192587\" style=\"fill: #1f77b4; stroke: #1f77b4\"/>\n     <use xlink:href=\"#m1dba5ca5f6\" x=\"148.710741\" y=\"73.036984\" style=\"fill: #1f77b4; stroke: #1f77b4\"/>\n     <use xlink:href=\"#m1dba5ca5f6\" x=\"143.440348\" y=\"83.657127\" style=\"fill: #1f77b4; stroke: #1f77b4\"/>\n     <use xlink:href=\"#m1dba5ca5f6\" x=\"154.371389\" y=\"80.171143\" style=\"fill: #1f77b4; stroke: #1f77b4\"/>\n     <use xlink:href=\"#m1dba5ca5f6\" x=\"126.121936\" y=\"68.562898\" style=\"fill: #1f77b4; stroke: #1f77b4\"/>\n     <use xlink:href=\"#m1dba5ca5f6\" x=\"154.167797\" y=\"106.975165\" style=\"fill: #1f77b4; stroke: #1f77b4\"/>\n     <use xlink:href=\"#m1dba5ca5f6\" x=\"156.121927\" y=\"103.138438\" style=\"fill: #1f77b4; stroke: #1f77b4\"/>\n     <use xlink:href=\"#m1dba5ca5f6\" x=\"126.843322\" y=\"68.891786\" style=\"fill: #1f77b4; stroke: #1f77b4\"/>\n     <use xlink:href=\"#m1dba5ca5f6\" x=\"122.118393\" y=\"77.113178\" style=\"fill: #1f77b4; stroke: #1f77b4\"/>\n     <use xlink:href=\"#m1dba5ca5f6\" x=\"142.7383\" y=\"80.871676\" style=\"fill: #1f77b4; stroke: #1f77b4\"/>\n     <use xlink:href=\"#m1dba5ca5f6\" x=\"112.873379\" y=\"55.12648\" style=\"fill: #1f77b4; stroke: #1f77b4\"/>\n    </g>\n   </g>\n   <g id=\"matplotlib.axis_1\">\n    <g id=\"xtick_1\">\n     <g id=\"line2d_1\">\n      <defs>\n       <path id=\"m5c8ad61fd3\" d=\"M 0 0 \nL 0 3.5 \n\" style=\"stroke: #000000; stroke-width: 0.8\"/>\n      </defs>\n      <g>\n       <use xlink:href=\"#m5c8ad61fd3\" x=\"30.325205\" y=\"145.8\" style=\"stroke: #000000; stroke-width: 0.8\"/>\n      </g>\n     </g>\n     <g id=\"text_1\">\n      <!-- −4 -->\n      <g transform=\"translate(22.954111 160.398438)scale(0.1 -0.1)\">\n       <defs>\n        <path id=\"DejaVuSans-2212\" d=\"M 678 2272 \nL 4684 2272 \nL 4684 1741 \nL 678 1741 \nL 678 2272 \nz\n\" transform=\"scale(0.015625)\"/>\n        <path id=\"DejaVuSans-34\" d=\"M 2419 4116 \nL 825 1625 \nL 2419 1625 \nL 2419 4116 \nz\nM 2253 4666 \nL 3047 4666 \nL 3047 1625 \nL 3713 1625 \nL 3713 1100 \nL 3047 1100 \nL 3047 0 \nL 2419 0 \nL 2419 1100 \nL 313 1100 \nL 313 1709 \nL 2253 4666 \nz\n\" transform=\"scale(0.015625)\"/>\n       </defs>\n       <use xlink:href=\"#DejaVuSans-2212\"/>\n       <use xlink:href=\"#DejaVuSans-34\" x=\"83.789062\"/>\n      </g>\n     </g>\n    </g>\n    <g id=\"xtick_2\">\n     <g id=\"line2d_2\">\n      <g>\n       <use xlink:href=\"#m5c8ad61fd3\" x=\"85.121267\" y=\"145.8\" style=\"stroke: #000000; stroke-width: 0.8\"/>\n      </g>\n     </g>\n     <g id=\"text_2\">\n      <!-- −2 -->\n      <g transform=\"translate(77.750173 160.398438)scale(0.1 -0.1)\">\n       <defs>\n        <path id=\"DejaVuSans-32\" d=\"M 1228 531 \nL 3431 531 \nL 3431 0 \nL 469 0 \nL 469 531 \nQ 828 903 1448 1529 \nQ 2069 2156 2228 2338 \nQ 2531 2678 2651 2914 \nQ 2772 3150 2772 3378 \nQ 2772 3750 2511 3984 \nQ 2250 4219 1831 4219 \nQ 1534 4219 1204 4116 \nQ 875 4013 500 3803 \nL 500 4441 \nQ 881 4594 1212 4672 \nQ 1544 4750 1819 4750 \nQ 2544 4750 2975 4387 \nQ 3406 4025 3406 3419 \nQ 3406 3131 3298 2873 \nQ 3191 2616 2906 2266 \nQ 2828 2175 2409 1742 \nQ 1991 1309 1228 531 \nz\n\" transform=\"scale(0.015625)\"/>\n       </defs>\n       <use xlink:href=\"#DejaVuSans-2212\"/>\n       <use xlink:href=\"#DejaVuSans-32\" x=\"83.789062\"/>\n      </g>\n     </g>\n    </g>\n    <g id=\"xtick_3\">\n     <g id=\"line2d_3\">\n      <g>\n       <use xlink:href=\"#m5c8ad61fd3\" x=\"139.917329\" y=\"145.8\" style=\"stroke: #000000; stroke-width: 0.8\"/>\n      </g>\n     </g>\n     <g id=\"text_3\">\n      <!-- 0 -->\n      <g transform=\"translate(136.736079 160.398438)scale(0.1 -0.1)\">\n       <defs>\n        <path id=\"DejaVuSans-30\" d=\"M 2034 4250 \nQ 1547 4250 1301 3770 \nQ 1056 3291 1056 2328 \nQ 1056 1369 1301 889 \nQ 1547 409 2034 409 \nQ 2525 409 2770 889 \nQ 3016 1369 3016 2328 \nQ 3016 3291 2770 3770 \nQ 2525 4250 2034 4250 \nz\nM 2034 4750 \nQ 2819 4750 3233 4129 \nQ 3647 3509 3647 2328 \nQ 3647 1150 3233 529 \nQ 2819 -91 2034 -91 \nQ 1250 -91 836 529 \nQ 422 1150 422 2328 \nQ 422 3509 836 4129 \nQ 1250 4750 2034 4750 \nz\n\" transform=\"scale(0.015625)\"/>\n       </defs>\n       <use xlink:href=\"#DejaVuSans-30\"/>\n      </g>\n     </g>\n    </g>\n    <g id=\"xtick_4\">\n     <g id=\"line2d_4\">\n      <g>\n       <use xlink:href=\"#m5c8ad61fd3\" x=\"194.713392\" y=\"145.8\" style=\"stroke: #000000; stroke-width: 0.8\"/>\n      </g>\n     </g>\n     <g id=\"text_4\">\n      <!-- 2 -->\n      <g transform=\"translate(191.532142 160.398438)scale(0.1 -0.1)\">\n       <use xlink:href=\"#DejaVuSans-32\"/>\n      </g>\n     </g>\n    </g>\n   </g>\n   <g id=\"matplotlib.axis_2\">\n    <g id=\"ytick_1\">\n     <g id=\"line2d_5\">\n      <defs>\n       <path id=\"m6884a11f3c\" d=\"M 0 0 \nL -3.5 0 \n\" style=\"stroke: #000000; stroke-width: 0.8\"/>\n      </defs>\n      <g>\n       <use xlink:href=\"#m6884a11f3c\" x=\"28.942188\" y=\"130.627532\" style=\"stroke: #000000; stroke-width: 0.8\"/>\n      </g>\n     </g>\n     <g id=\"text_5\">\n      <!-- −5 -->\n      <g transform=\"translate(7.2 134.42675)scale(0.1 -0.1)\">\n       <defs>\n        <path id=\"DejaVuSans-35\" d=\"M 691 4666 \nL 3169 4666 \nL 3169 4134 \nL 1269 4134 \nL 1269 2991 \nQ 1406 3038 1543 3061 \nQ 1681 3084 1819 3084 \nQ 2600 3084 3056 2656 \nQ 3513 2228 3513 1497 \nQ 3513 744 3044 326 \nQ 2575 -91 1722 -91 \nQ 1428 -91 1123 -41 \nQ 819 9 494 109 \nL 494 744 \nQ 775 591 1075 516 \nQ 1375 441 1709 441 \nQ 2250 441 2565 725 \nQ 2881 1009 2881 1497 \nQ 2881 1984 2565 2268 \nQ 2250 2553 1709 2553 \nQ 1456 2553 1204 2497 \nQ 953 2441 691 2322 \nL 691 4666 \nz\n\" transform=\"scale(0.015625)\"/>\n       </defs>\n       <use xlink:href=\"#DejaVuSans-2212\"/>\n       <use xlink:href=\"#DejaVuSans-35\" x=\"83.789062\"/>\n      </g>\n     </g>\n    </g>\n    <g id=\"ytick_2\">\n     <g id=\"line2d_6\">\n      <g>\n       <use xlink:href=\"#m6884a11f3c\" x=\"28.942188\" y=\"103.39076\" style=\"stroke: #000000; stroke-width: 0.8\"/>\n      </g>\n     </g>\n     <g id=\"text_6\">\n      <!-- 0 -->\n      <g transform=\"translate(15.579688 107.189979)scale(0.1 -0.1)\">\n       <use xlink:href=\"#DejaVuSans-30\"/>\n      </g>\n     </g>\n    </g>\n    <g id=\"ytick_3\">\n     <g id=\"line2d_7\">\n      <g>\n       <use xlink:href=\"#m6884a11f3c\" x=\"28.942188\" y=\"76.153988\" style=\"stroke: #000000; stroke-width: 0.8\"/>\n      </g>\n     </g>\n     <g id=\"text_7\">\n      <!-- 5 -->\n      <g transform=\"translate(15.579688 79.953207)scale(0.1 -0.1)\">\n       <use xlink:href=\"#DejaVuSans-35\"/>\n      </g>\n     </g>\n    </g>\n    <g id=\"ytick_4\">\n     <g id=\"line2d_8\">\n      <g>\n       <use xlink:href=\"#m6884a11f3c\" x=\"28.942188\" y=\"48.917217\" style=\"stroke: #000000; stroke-width: 0.8\"/>\n      </g>\n     </g>\n     <g id=\"text_8\">\n      <!-- 10 -->\n      <g transform=\"translate(9.217188 52.716435)scale(0.1 -0.1)\">\n       <defs>\n        <path id=\"DejaVuSans-31\" d=\"M 794 531 \nL 1825 531 \nL 1825 4091 \nL 703 3866 \nL 703 4441 \nL 1819 4666 \nL 2450 4666 \nL 2450 531 \nL 3481 531 \nL 3481 0 \nL 794 0 \nL 794 531 \nz\n\" transform=\"scale(0.015625)\"/>\n       </defs>\n       <use xlink:href=\"#DejaVuSans-31\"/>\n       <use xlink:href=\"#DejaVuSans-30\" x=\"63.623047\"/>\n      </g>\n     </g>\n    </g>\n    <g id=\"ytick_5\">\n     <g id=\"line2d_9\">\n      <g>\n       <use xlink:href=\"#m6884a11f3c\" x=\"28.942188\" y=\"21.680445\" style=\"stroke: #000000; stroke-width: 0.8\"/>\n      </g>\n     </g>\n     <g id=\"text_9\">\n      <!-- 15 -->\n      <g transform=\"translate(9.217188 25.479664)scale(0.1 -0.1)\">\n       <use xlink:href=\"#DejaVuSans-31\"/>\n       <use xlink:href=\"#DejaVuSans-35\" x=\"63.623047\"/>\n      </g>\n     </g>\n    </g>\n   </g>\n   <g id=\"patch_3\">\n    <path d=\"M 28.942188 145.8 \nL 28.942188 7.2 \n\" style=\"fill: none; stroke: #000000; stroke-width: 0.8; stroke-linejoin: miter; stroke-linecap: square\"/>\n   </g>\n   <g id=\"patch_4\">\n    <path d=\"M 224.242188 145.8 \nL 224.242188 7.2 \n\" style=\"fill: none; stroke: #000000; stroke-width: 0.8; stroke-linejoin: miter; stroke-linecap: square\"/>\n   </g>\n   <g id=\"patch_5\">\n    <path d=\"M 28.942188 145.8 \nL 224.242188 145.8 \n\" style=\"fill: none; stroke: #000000; stroke-width: 0.8; stroke-linejoin: miter; stroke-linecap: square\"/>\n   </g>\n   <g id=\"patch_6\">\n    <path d=\"M 28.942188 7.2 \nL 224.242188 7.2 \n\" style=\"fill: none; stroke: #000000; stroke-width: 0.8; stroke-linejoin: miter; stroke-linecap: square\"/>\n   </g>\n  </g>\n </g>\n <defs>\n  <clipPath id=\"p2b72df2405\">\n   <rect x=\"28.942188\" y=\"7.2\" width=\"195.3\" height=\"138.6\"/>\n  </clipPath>\n </defs>\n</svg>\n"
     },
     "metadata": {},
     "output_type": "display_data"
    }
   ],
   "source": [
    "d2l.set_figsize()\n",
    "d2l.plt.scatter(features[:, 1].detach().numpy(), labels.detach().numpy(), 1);"
   ]
  },
  {
   "cell_type": "markdown",
   "id": "d28e67d3",
   "metadata": {
    "origin_pos": 13
   },
   "source": [
    "## 读取数据集\n",
    "\n",
    "回想一下，训练模型时要对数据集进行遍历，每次抽取一小批量样本，并使用它们来更新我们的模型。\n",
    "由于这个过程是训练机器学习算法的基础，所以有必要定义一个函数，\n",
    "该函数能打乱数据集中的样本并以小批量方式获取数据。\n",
    "\n",
    "在下面的代码中，我们[**定义一个`data_iter`函数，\n",
    "该函数接收批量大小、特征矩阵和标签向量作为输入，生成大小为`batch_size`的小批量**]。\n",
    "每个小批量包含一组特征和标签。\n"
   ]
  },
  {
   "cell_type": "code",
   "execution_count": 7,
   "id": "9505ff1c",
   "metadata": {
    "execution": {
     "iopub.execute_input": "2022-12-07T16:43:06.555825Z",
     "iopub.status.busy": "2022-12-07T16:43:06.555541Z",
     "iopub.status.idle": "2022-12-07T16:43:06.561066Z",
     "shell.execute_reply": "2022-12-07T16:43:06.560334Z"
    },
    "origin_pos": 14,
    "tab": [
     "pytorch"
    ],
    "ExecuteTime": {
     "end_time": "2023-08-06T03:33:54.282007500Z",
     "start_time": "2023-08-06T03:33:54.272006600Z"
    }
   },
   "outputs": [],
   "source": [
    "def data_iter(batch_size, features, labels):\n",
    "    num_examples = len(features)\n",
    "    indices = list(range(num_examples))\n",
    "    # 这些样本是随机读取的，没有特定的顺序\n",
    "    random.shuffle(indices)\n",
    "    for i in range(0, num_examples, batch_size):\n",
    "        batch_indices = torch.tensor(\n",
    "            indices[i: min(i + batch_size, num_examples)])\n",
    "        yield features[batch_indices], labels[batch_indices]"
   ]
  },
  {
   "cell_type": "markdown",
   "id": "edc07979",
   "metadata": {
    "origin_pos": 16
   },
   "source": [
    "通常，我们利用GPU并行运算的优势，处理合理大小的“小批量”。\n",
    "每个样本都可以并行地进行模型计算，且每个样本损失函数的梯度也可以被并行计算。\n",
    "GPU可以在处理几百个样本时，所花费的时间不比处理一个样本时多太多。\n",
    "\n",
    "我们直观感受一下小批量运算：读取第一个小批量数据样本并打印。\n",
    "每个批量的特征维度显示批量大小和输入特征数。\n",
    "同样的，批量的标签形状与`batch_size`相等。\n"
   ]
  },
  {
   "cell_type": "code",
   "execution_count": 9,
   "id": "3934d3c4",
   "metadata": {
    "execution": {
     "iopub.execute_input": "2022-12-07T16:43:06.565191Z",
     "iopub.status.busy": "2022-12-07T16:43:06.564923Z",
     "iopub.status.idle": "2022-12-07T16:43:06.571970Z",
     "shell.execute_reply": "2022-12-07T16:43:06.571038Z"
    },
    "origin_pos": 17,
    "tab": [
     "pytorch"
    ],
    "ExecuteTime": {
     "end_time": "2023-08-06T03:39:52.455735500Z",
     "start_time": "2023-08-06T03:39:52.446531800Z"
    }
   },
   "outputs": [
    {
     "name": "stdout",
     "output_type": "stream",
     "text": [
      "tensor([[ 0.6533,  1.7695],\n",
      "        [ 1.0393,  0.4824],\n",
      "        [-0.3843,  1.8183],\n",
      "        [ 0.1226, -0.4215],\n",
      "        [-1.1476, -0.0094],\n",
      "        [ 0.1051,  1.9419],\n",
      "        [ 1.3350,  0.6167],\n",
      "        [-0.4472,  1.0844],\n",
      "        [-0.1013,  0.5574],\n",
      "        [ 1.0163, -0.6566]]) \n",
      " tensor([[-0.4950],\n",
      "        [ 4.6653],\n",
      "        [-2.7605],\n",
      "        [ 5.8728],\n",
      "        [ 1.9531],\n",
      "        [-2.1819],\n",
      "        [ 4.7734],\n",
      "        [-0.3759],\n",
      "        [ 2.1053],\n",
      "        [ 8.4678]])\n"
     ]
    }
   ],
   "source": [
    "batch_size = 10\n",
    "\n",
    "for X, y in data_iter(batch_size, features, labels):\n",
    "    print(X, '\\n', y)\n",
    "    break"
   ]
  },
  {
   "cell_type": "markdown",
   "id": "f959e76b",
   "metadata": {
    "origin_pos": 18
   },
   "source": [
    "当我们运行迭代时，我们会连续地获得不同的小批量，直至遍历完整个数据集。\n",
    "上面实现的迭代对教学来说很好，但它的执行效率很低，可能会在实际问题上陷入麻烦。\n",
    "例如，它要求我们将所有数据加载到内存中，并执行大量的随机内存访问。\n",
    "在深度学习框架中实现的内置迭代器效率要高得多，\n",
    "它可以处理存储在文件中的数据和数据流提供的数据。\n",
    "\n",
    "## 初始化模型参数\n",
    "\n",
    "[**在我们开始用小批量随机梯度下降优化我们的模型参数之前**]，\n",
    "(**我们需要先有一些参数**)。\n",
    "在下面的代码中，我们通过从均值为0、标准差为0.01的正态分布中采样随机数来初始化权重，\n",
    "并将偏置初始化为0。\n"
   ]
  },
  {
   "cell_type": "code",
   "execution_count": 23,
   "id": "23a1437e",
   "metadata": {
    "execution": {
     "iopub.execute_input": "2022-12-07T16:43:06.575915Z",
     "iopub.status.busy": "2022-12-07T16:43:06.575647Z",
     "iopub.status.idle": "2022-12-07T16:43:06.580295Z",
     "shell.execute_reply": "2022-12-07T16:43:06.579544Z"
    },
    "origin_pos": 20,
    "tab": [
     "pytorch"
    ],
    "ExecuteTime": {
     "end_time": "2023-08-04T14:00:21.757110500Z",
     "start_time": "2023-08-04T14:00:21.751106Z"
    }
   },
   "outputs": [],
   "source": [
    "w = torch.normal(0, 0.01, size=(2,1), requires_grad=True)\n",
    "b = torch.zeros(1, requires_grad=True)"
   ]
  },
  {
   "cell_type": "markdown",
   "id": "f6ad34a9",
   "metadata": {
    "origin_pos": 23
   },
   "source": [
    "在初始化参数之后，我们的任务是更新这些参数，直到这些参数足够拟合我们的数据。\n",
    "每次更新都需要计算损失函数关于模型参数的梯度。\n",
    "有了这个梯度，我们就可以向减小损失的方向更新每个参数。\n",
    "因为手动计算梯度很枯燥而且容易出错，所以没有人会手动计算梯度。\n",
    "我们使用 :numref:`sec_autograd`中引入的自动微分来计算梯度。\n",
    "\n",
    "## 定义模型\n",
    "\n",
    "接下来，我们必须[**定义模型，将模型的输入和参数同模型的输出关联起来。**]\n",
    "回想一下，要计算线性模型的输出，\n",
    "我们只需计算输入特征$\\mathbf{X}$和模型权重$\\mathbf{w}$的矩阵-向量乘法后加上偏置$b$。\n",
    "注意，上面的$\\mathbf{Xw}$是一个向量，而$b$是一个标量。\n",
    "回想一下 :numref:`subsec_broadcasting`中描述的广播机制：\n",
    "当我们用一个向量加一个标量时，标量会被加到向量的每个分量上。\n"
   ]
  },
  {
   "cell_type": "code",
   "execution_count": 10,
   "id": "67386d14",
   "metadata": {
    "execution": {
     "iopub.execute_input": "2022-12-07T16:43:06.583374Z",
     "iopub.status.busy": "2022-12-07T16:43:06.583103Z",
     "iopub.status.idle": "2022-12-07T16:43:06.587197Z",
     "shell.execute_reply": "2022-12-07T16:43:06.586376Z"
    },
    "origin_pos": 24,
    "tab": [
     "pytorch"
    ]
   },
   "outputs": [],
   "source": [
    "def linreg(X, w, b):  #@save\n",
    "    \"\"\"线性回归模型\"\"\"\n",
    "    return torch.matmul(X, w) + b"
   ]
  },
  {
   "cell_type": "markdown",
   "id": "7a087a5b",
   "metadata": {
    "origin_pos": 25
   },
   "source": [
    "## [**定义损失函数**]\n",
    "\n",
    "因为需要计算损失函数的梯度，所以我们应该先定义损失函数。\n",
    "这里我们使用 :numref:`sec_linear_regression`中描述的平方损失函数。\n",
    "在实现中，我们需要将真实值`y`的形状转换为和预测值`y_hat`的形状相同。\n"
   ]
  },
  {
   "cell_type": "code",
   "execution_count": 11,
   "id": "b95eb605",
   "metadata": {
    "execution": {
     "iopub.execute_input": "2022-12-07T16:43:06.590200Z",
     "iopub.status.busy": "2022-12-07T16:43:06.589934Z",
     "iopub.status.idle": "2022-12-07T16:43:06.594002Z",
     "shell.execute_reply": "2022-12-07T16:43:06.593170Z"
    },
    "origin_pos": 26,
    "tab": [
     "pytorch"
    ]
   },
   "outputs": [],
   "source": [
    "def squared_loss(y_hat, y):  #@save\n",
    "    \"\"\"均方损失\"\"\"\n",
    "    return (y_hat - y.reshape(y_hat.shape)) ** 2 / 2"
   ]
  },
  {
   "cell_type": "markdown",
   "id": "1919becd",
   "metadata": {
    "origin_pos": 27
   },
   "source": [
    "## (**定义优化算法**)\n",
    "\n",
    "正如我们在 :numref:`sec_linear_regression`中讨论的，线性回归有解析解。\n",
    "尽管线性回归有解析解，但本书中的其他模型却没有。\n",
    "这里我们介绍小批量随机梯度下降。\n",
    "\n",
    "在每一步中，使用从数据集中随机抽取的一个小批量，然后根据参数计算损失的梯度。\n",
    "接下来，朝着减少损失的方向更新我们的参数。\n",
    "下面的函数实现小批量随机梯度下降更新。\n",
    "该函数接受模型参数集合、学习速率和批量大小作为输入。每\n",
    "一步更新的大小由学习速率`lr`决定。\n",
    "因为我们计算的损失是一个批量样本的总和，所以我们用批量大小（`batch_size`）\n",
    "来规范化步长，这样步长大小就不会取决于我们对批量大小的选择。\n"
   ]
  },
  {
   "cell_type": "code",
   "execution_count": 12,
   "id": "a6360e87",
   "metadata": {
    "execution": {
     "iopub.execute_input": "2022-12-07T16:43:06.597167Z",
     "iopub.status.busy": "2022-12-07T16:43:06.596900Z",
     "iopub.status.idle": "2022-12-07T16:43:06.601385Z",
     "shell.execute_reply": "2022-12-07T16:43:06.600532Z"
    },
    "origin_pos": 29,
    "tab": [
     "pytorch"
    ]
   },
   "outputs": [],
   "source": [
    "def sgd(params, lr, batch_size):  #@save\n",
    "    \"\"\"小批量随机梯度下降\"\"\"\n",
    "    with torch.no_grad():\n",
    "        for param in params:\n",
    "            param -= lr * param.grad / batch_size\n",
    "            param.grad.zero_()"
   ]
  },
  {
   "cell_type": "markdown",
   "id": "9e466d4d",
   "metadata": {
    "origin_pos": 32
   },
   "source": [
    "## 训练\n",
    "\n",
    "现在我们已经准备好了模型训练所有需要的要素，可以实现主要的[**训练过程**]部分了。\n",
    "理解这段代码至关重要，因为从事深度学习后，\n",
    "相同的训练过程几乎一遍又一遍地出现。\n",
    "在每次迭代中，我们读取一小批量训练样本，并通过我们的模型来获得一组预测。\n",
    "计算完损失后，我们开始反向传播，存储每个参数的梯度。\n",
    "最后，我们调用优化算法`sgd`来更新模型参数。\n",
    "\n",
    "概括一下，我们将执行以下循环：\n",
    "\n",
    "* 初始化参数\n",
    "* 重复以下训练，直到完成\n",
    "    * 计算梯度$\\mathbf{g} \\leftarrow \\partial_{(\\mathbf{w},b)} \\frac{1}{|\\mathcal{B}|} \\sum_{i \\in \\mathcal{B}} l(\\mathbf{x}^{(i)}, y^{(i)}, \\mathbf{w}, b)$\n",
    "    * 更新参数$(\\mathbf{w}, b) \\leftarrow (\\mathbf{w}, b) - \\eta \\mathbf{g}$\n",
    "\n",
    "在每个*迭代周期*（epoch）中，我们使用`data_iter`函数遍历整个数据集，\n",
    "并将训练数据集中所有样本都使用一次（假设样本数能够被批量大小整除）。\n",
    "这里的迭代周期个数`num_epochs`和学习率`lr`都是超参数，分别设为3和0.03。\n",
    "设置超参数很棘手，需要通过反复试验进行调整。\n",
    "我们现在忽略这些细节，以后会在 :numref:`chap_optimization`中详细介绍。\n"
   ]
  },
  {
   "cell_type": "code",
   "execution_count": 13,
   "id": "102331db",
   "metadata": {
    "execution": {
     "iopub.execute_input": "2022-12-07T16:43:06.604403Z",
     "iopub.status.busy": "2022-12-07T16:43:06.604136Z",
     "iopub.status.idle": "2022-12-07T16:43:06.608339Z",
     "shell.execute_reply": "2022-12-07T16:43:06.607465Z"
    },
    "origin_pos": 33,
    "tab": [
     "pytorch"
    ]
   },
   "outputs": [],
   "source": [
    "lr = 0.03\n",
    "num_epochs = 3\n",
    "net = linreg\n",
    "loss = squared_loss"
   ]
  },
  {
   "cell_type": "code",
   "execution_count": 14,
   "id": "97d6ac25",
   "metadata": {
    "execution": {
     "iopub.execute_input": "2022-12-07T16:43:06.611713Z",
     "iopub.status.busy": "2022-12-07T16:43:06.611103Z",
     "iopub.status.idle": "2022-12-07T16:43:06.718470Z",
     "shell.execute_reply": "2022-12-07T16:43:06.717660Z"
    },
    "origin_pos": 35,
    "tab": [
     "pytorch"
    ]
   },
   "outputs": [
    {
     "name": "stdout",
     "output_type": "stream",
     "text": [
      "epoch 1, loss 0.041155\n",
      "epoch 2, loss 0.000154\n",
      "epoch 3, loss 0.000050\n"
     ]
    }
   ],
   "source": [
    "for epoch in range(num_epochs):\n",
    "    for X, y in data_iter(batch_size, features, labels):\n",
    "        l = loss(net(X, w, b), y)  # X和y的小批量损失\n",
    "        # 因为l形状是(batch_size,1)，而不是一个标量。l中的所有元素被加到一起，\n",
    "        # 并以此计算关于[w,b]的梯度\n",
    "        l.sum().backward()\n",
    "        sgd([w, b], lr, batch_size)  # 使用参数的梯度更新参数\n",
    "    with torch.no_grad():\n",
    "        train_l = loss(net(features, w, b), labels)\n",
    "        print(f'epoch {epoch + 1}, loss {float(train_l.mean()):f}')"
   ]
  },
  {
   "cell_type": "markdown",
   "id": "c49ff328",
   "metadata": {
    "origin_pos": 38
   },
   "source": [
    "因为我们使用的是自己合成的数据集，所以我们知道真正的参数是什么。\n",
    "因此，我们可以通过[**比较真实参数和通过训练学到的参数来评估训练的成功程度**]。\n",
    "事实上，真实参数和通过训练学到的参数确实非常接近。\n"
   ]
  },
  {
   "cell_type": "code",
   "execution_count": 15,
   "id": "20cfe26e",
   "metadata": {
    "execution": {
     "iopub.execute_input": "2022-12-07T16:43:06.722173Z",
     "iopub.status.busy": "2022-12-07T16:43:06.721608Z",
     "iopub.status.idle": "2022-12-07T16:43:06.727216Z",
     "shell.execute_reply": "2022-12-07T16:43:06.726417Z"
    },
    "origin_pos": 39,
    "tab": [
     "pytorch"
    ]
   },
   "outputs": [
    {
     "name": "stdout",
     "output_type": "stream",
     "text": [
      "w的估计误差: tensor([ 4.5419e-05, -7.6962e-04], grad_fn=<SubBackward0>)\n",
      "b的估计误差: tensor([0.0007], grad_fn=<RsubBackward1>)\n"
     ]
    }
   ],
   "source": [
    "print(f'w的估计误差: {true_w - w.reshape(true_w.shape)}')\n",
    "print(f'b的估计误差: {true_b - b}')"
   ]
  },
  {
   "cell_type": "markdown",
   "id": "256e4aea",
   "metadata": {
    "origin_pos": 40
   },
   "source": [
    "注意，我们不应该想当然地认为我们能够完美地求解参数。\n",
    "在机器学习中，我们通常不太关心恢复真正的参数，而更关心如何高度准确预测参数。\n",
    "幸运的是，即使是在复杂的优化问题上，随机梯度下降通常也能找到非常好的解。\n",
    "其中一个原因是，在深度网络中存在许多参数组合能够实现高度精确的预测。\n",
    "\n",
    "## 小结\n",
    "\n",
    "* 我们学习了深度网络是如何实现和优化的。在这一过程中只使用张量和自动微分，不需要定义层或复杂的优化器。\n",
    "* 这一节只触及到了表面知识。在下面的部分中，我们将基于刚刚介绍的概念描述其他模型，并学习如何更简洁地实现其他模型。\n",
    "\n",
    "## 练习\n",
    "\n",
    "1. 如果我们将权重初始化为零，会发生什么。算法仍然有效吗？\n",
    "1. 假设试图为电压和电流的关系建立一个模型。自动微分可以用来学习模型的参数吗?\n",
    "1. 能基于[普朗克定律](https://en.wikipedia.org/wiki/Planck%27s_law)使用光谱能量密度来确定物体的温度吗？\n",
    "1. 计算二阶导数时可能会遇到什么问题？这些问题可以如何解决？\n",
    "1. 为什么在`squared_loss`函数中需要使用`reshape`函数？\n",
    "1. 尝试使用不同的学习率，观察损失函数值下降的快慢。\n",
    "1. 如果样本个数不能被批量大小整除，`data_iter`函数的行为会有什么变化？\n"
   ]
  },
  {
   "cell_type": "markdown",
   "id": "084dd552",
   "metadata": {
    "origin_pos": 42,
    "tab": [
     "pytorch"
    ]
   },
   "source": [
    "[Discussions](https://discuss.d2l.ai/t/1778)\n"
   ]
  }
 ],
 "metadata": {
  "kernelspec": {
   "display_name": "Python 3 (ipykernel)",
   "language": "python",
   "name": "python3"
  },
  "language_info": {
   "codemirror_mode": {
    "name": "ipython",
    "version": 3
   },
   "file_extension": ".py",
   "mimetype": "text/x-python",
   "name": "python",
   "nbconvert_exporter": "python",
   "pygments_lexer": "ipython3",
   "version": "3.8.16"
  }
 },
 "nbformat": 4,
 "nbformat_minor": 5
}
